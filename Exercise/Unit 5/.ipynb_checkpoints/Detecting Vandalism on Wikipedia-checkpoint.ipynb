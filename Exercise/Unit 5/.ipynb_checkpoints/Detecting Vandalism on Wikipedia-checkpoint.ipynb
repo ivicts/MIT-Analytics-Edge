{
 "cells": [
  {
   "cell_type": "code",
   "execution_count": 1,
   "metadata": {},
   "outputs": [],
   "source": [
    "setwd(\"/home/victor/OneDrive/Online Courses/MITx 15.071x The Analytics Edge\")"
   ]
  },
  {
   "cell_type": "code",
   "execution_count": 2,
   "metadata": {},
   "outputs": [
    {
     "name": "stdout",
     "output_type": "stream",
     "text": [
      "'data.frame':\t3876 obs. of  7 variables:\n",
      " $ X.1     : int  1 2 3 4 5 6 7 8 9 10 ...\n",
      " $ X       : int  1 2 3 4 5 6 7 8 9 10 ...\n",
      " $ Vandal  : Factor w/ 2 levels \"0\",\"1\": 1 1 1 1 1 1 1 1 1 1 ...\n",
      " $ Minor   : int  1 1 0 1 1 0 0 0 1 0 ...\n",
      " $ Loggedin: int  1 1 1 0 1 1 1 1 1 0 ...\n",
      " $ Added   : chr  \"  represent psycholinguisticspsycholinguistics orthographyorthography help text all actions through human ethno\"| __truncated__ \" website external links\" \" \" \" afghanistan used iran mostly that farsiis is countries some xmlspacepreservepersian parts tajikestan region\" ...\n",
      " $ Removed : chr  \" \" \" talklanguagetalk\" \" regarded as technologytechnologies human first\" \"  represent psycholinguisticspsycholinguistics orthographyorthography help all actions through ethnologue relat\"| __truncated__ ...\n"
     ]
    }
   ],
   "source": [
    "wiki = read.csv(\"Unit5_1/Unit5_1//wiki.csv\", stringsAsFactors = FALSE)\n",
    "wiki$Vandal = as.factor(wiki$Vandal)\n",
    "str(wiki)"
   ]
  },
  {
   "cell_type": "code",
   "execution_count": 3,
   "metadata": {},
   "outputs": [
    {
     "data": {
      "text/plain": [
       "\n",
       "   0    1 \n",
       "2061 1815 "
      ]
     },
     "metadata": {},
     "output_type": "display_data"
    }
   ],
   "source": [
    "table(wiki$Vandal)"
   ]
  },
  {
   "cell_type": "code",
   "execution_count": 4,
   "metadata": {},
   "outputs": [
    {
     "name": "stderr",
     "output_type": "stream",
     "text": [
      "Loading required package: NLP\n"
     ]
    }
   ],
   "source": [
    "library(tm)\n",
    "library(SnowballC)"
   ]
  },
  {
   "cell_type": "code",
   "execution_count": 5,
   "metadata": {},
   "outputs": [
    {
     "data": {
      "text/html": [
       "174"
      ],
      "text/latex": [
       "174"
      ],
      "text/markdown": [
       "174"
      ],
      "text/plain": [
       "[1] 174"
      ]
     },
     "metadata": {},
     "output_type": "display_data"
    }
   ],
   "source": [
    "length(stopwords(\"english\"))"
   ]
  },
  {
   "cell_type": "code",
   "execution_count": 6,
   "metadata": {},
   "outputs": [
    {
     "data": {
      "text/plain": [
       "<<SimpleCorpus>>\n",
       "Metadata:  corpus specific: 1, document level (indexed): 0\n",
       "Content:  documents: 3876"
      ]
     },
     "metadata": {},
     "output_type": "display_data"
    }
   ],
   "source": [
    "corpusAdded = Corpus(VectorSource(wiki$Added))\n",
    "corpusAdded"
   ]
  },
  {
   "cell_type": "code",
   "execution_count": 7,
   "metadata": {},
   "outputs": [
    {
     "name": "stderr",
     "output_type": "stream",
     "text": [
      "Warning message in tm_map.SimpleCorpus(corpusAdded, removeWords, stopwords(\"english\")):\n",
      "“transformation drops documents”"
     ]
    }
   ],
   "source": [
    "corpusAdded = tm_map(corpusAdded, removeWords, stopwords(\"english\"))"
   ]
  },
  {
   "cell_type": "code",
   "execution_count": 8,
   "metadata": {},
   "outputs": [
    {
     "name": "stderr",
     "output_type": "stream",
     "text": [
      "Warning message in tm_map.SimpleCorpus(corpusAdded, stemDocument):\n",
      "“transformation drops documents”"
     ]
    }
   ],
   "source": [
    "corpusAdded = tm_map(corpusAdded, stemDocument)"
   ]
  },
  {
   "cell_type": "code",
   "execution_count": 9,
   "metadata": {},
   "outputs": [
    {
     "data": {
      "text/plain": [
       "<<DocumentTermMatrix (documents: 3876, terms: 6675)>>\n",
       "Non-/sparse entries: 15368/25856932\n",
       "Sparsity           : 100%\n",
       "Maximal term length: 784\n",
       "Weighting          : term frequency (tf)"
      ]
     },
     "metadata": {},
     "output_type": "display_data"
    }
   ],
   "source": [
    "dtmAdded = DocumentTermMatrix(corpusAdded)\n",
    "dtmAdded"
   ]
  },
  {
   "cell_type": "code",
   "execution_count": 10,
   "metadata": {},
   "outputs": [
    {
     "data": {
      "text/plain": [
       "<<DocumentTermMatrix (documents: 3876, terms: 166)>>\n",
       "Non-/sparse entries: 2681/640735\n",
       "Sparsity           : 100%\n",
       "Maximal term length: 28\n",
       "Weighting          : term frequency (tf)"
      ]
     },
     "metadata": {},
     "output_type": "display_data"
    }
   ],
   "source": [
    "sparseAdded = removeSparseTerms(dtmAdded, 0.997)\n",
    "sparseAdded"
   ]
  },
  {
   "cell_type": "code",
   "execution_count": 11,
   "metadata": {},
   "outputs": [],
   "source": [
    "wordsAdded = as.data.frame(as.matrix(sparseAdded))\n",
    "colnames(wordsAdded) = paste(\"A\", colnames(wordsAdded))"
   ]
  },
  {
   "cell_type": "code",
   "execution_count": 12,
   "metadata": {},
   "outputs": [
    {
     "name": "stderr",
     "output_type": "stream",
     "text": [
      "Warning message in tm_map.SimpleCorpus(corpusRemoved, removeWords, stopwords(\"english\")):\n",
      "“transformation drops documents”Warning message in tm_map.SimpleCorpus(corpusRemoved, stemDocument):\n",
      "“transformation drops documents”"
     ]
    }
   ],
   "source": [
    "corpusRemoved = Corpus(VectorSource(wiki$Removed))\n",
    "corpusRemoved = tm_map(corpusRemoved, removeWords, stopwords(\"english\"))\n",
    "corpusRemoved = tm_map(corpusRemoved, stemDocument)\n",
    "dtmRemoved = DocumentTermMatrix(corpusRemoved)\n",
    "sparseRemoved = removeSparseTerms(dtmRemoved, 0.997)\n",
    "wordsRemoved = as.data.frame(as.matrix(sparseRemoved))\n",
    "colnames(wordsRemoved) = paste(\"R\", colnames(wordsRemoved))"
   ]
  },
  {
   "cell_type": "code",
   "execution_count": 13,
   "metadata": {
    "scrolled": true
   },
   "outputs": [
    {
     "name": "stdout",
     "output_type": "stream",
     "text": [
      "'data.frame':\t3876 obs. of  162 variables:\n",
      " $ R first                       : num  0 0 1 0 0 0 0 0 0 0 ...\n",
      " $ R bodi                        : num  0 0 0 1 0 0 0 0 0 0 ...\n",
      " $ R call                        : num  0 0 0 1 0 0 0 0 0 0 ...\n",
      " $ R complet                     : num  0 0 0 1 0 0 0 0 0 0 ...\n",
      " $ R concept                     : num  0 0 0 1 0 0 0 0 0 0 ...\n",
      " $ R creat                       : num  0 0 0 1 0 0 0 0 0 0 ...\n",
      " $ R develop                     : num  0 0 0 1 0 0 0 0 0 0 ...\n",
      " $ R differ                      : num  0 0 0 1 0 0 0 0 0 0 ...\n",
      " $ R famili                      : num  0 0 0 1 0 0 0 0 0 0 ...\n",
      " $ R group                       : num  0 0 0 1 0 0 0 0 0 0 ...\n",
      " $ R idea                        : num  0 0 0 1 0 0 0 0 0 0 ...\n",
      " $ R includ                      : num  0 0 0 1 0 0 0 0 0 0 ...\n",
      " $ R linguist                    : num  0 0 0 1 0 0 0 0 0 0 ...\n",
      " $ R make                        : num  0 0 0 1 0 0 0 0 0 0 ...\n",
      " $ R pattern                     : num  0 0 0 1 0 0 0 0 0 0 ...\n",
      " $ R popul                       : num  0 0 0 1 0 0 0 0 0 0 ...\n",
      " $ R quit                        : num  0 0 0 1 0 0 0 0 0 0 ...\n",
      " $ R refer                       : num  0 0 0 1 0 0 0 0 0 0 ...\n",
      " $ R relationship                : num  0 0 0 1 0 0 0 0 0 0 ...\n",
      " $ R repres                      : num  0 0 0 1 0 0 0 0 0 0 ...\n",
      " $ R sound                       : num  0 0 0 1 0 0 0 0 0 0 ...\n",
      " $ R studi                       : num  0 0 0 1 0 0 0 0 0 0 ...\n",
      " $ R use                         : num  0 0 0 2 1 0 0 0 0 0 ...\n",
      " $ R part                        : num  0 0 0 0 1 0 0 0 0 0 ...\n",
      " $ R communic                    : num  0 0 0 0 0 0 0 0 0 0 ...\n",
      " $ R defin                       : num  0 0 0 0 0 0 0 0 0 0 ...\n",
      " $ R express                     : num  0 0 0 0 0 0 0 0 0 0 ...\n",
      " $ R mean                        : num  0 0 0 0 0 0 0 0 0 0 ...\n",
      " $ R must                        : num  0 0 0 0 0 0 0 0 0 0 ...\n",
      " $ R name                        : num  0 0 0 0 0 0 0 0 0 0 ...\n",
      " $ R featur                      : num  0 0 0 0 0 0 0 0 0 0 ...\n",
      " $ R set                         : num  0 0 0 0 0 0 0 0 0 0 ...\n",
      " $ R symbol                      : num  0 0 0 0 0 0 0 0 0 0 ...\n",
      " $ R type                        : num  0 0 0 0 0 0 0 0 0 0 ...\n",
      " $ R know                        : num  0 0 0 0 0 0 0 0 0 0 ...\n",
      " $ R method                      : num  0 0 0 0 0 0 0 0 0 0 ...\n",
      " $ R quot                        : num  0 0 0 0 0 0 0 0 0 0 ...\n",
      " $ R suggest                     : num  0 0 0 0 0 0 0 0 0 0 ...\n",
      " $ R want                        : num  0 0 0 0 0 0 0 0 0 0 ...\n",
      " $ R speak                       : num  0 0 0 0 0 0 0 0 0 0 ...\n",
      " $ R agre                        : num  0 0 0 0 0 0 0 0 0 0 ...\n",
      " $ R regular                     : num  0 0 0 0 0 0 0 0 0 0 ...\n",
      " $ R actual                      : num  0 0 0 0 0 0 0 0 0 0 ...\n",
      " $ R spanish                     : num  0 0 0 0 0 0 0 0 0 0 ...\n",
      " $ R cours                       : num  0 0 0 0 0 0 0 0 0 0 ...\n",
      " $ R onlin                       : num  0 0 0 0 0 0 0 0 0 0 ...\n",
      " $ R fuck                        : num  0 0 0 0 0 0 0 0 0 0 ...\n",
      " $ R person                      : num  0 0 0 0 0 0 0 0 0 0 ...\n",
      " $ R believ                      : num  0 0 0 0 0 0 0 0 0 0 ...\n",
      " $ R direct                      : num  0 0 0 0 0 0 0 0 0 0 ...\n",
      " $ R experiment                  : num  0 0 0 0 0 0 0 0 0 0 ...\n",
      " $ R will                        : num  0 0 0 0 0 0 0 0 0 0 ...\n",
      " $ R deriv                       : num  0 0 0 0 0 0 0 0 0 0 ...\n",
      " $ R gestur                      : num  0 0 0 0 0 0 0 0 0 0 ...\n",
      " $ R least                       : num  0 0 0 0 0 0 0 0 0 0 ...\n",
      " $ R logic                       : num  0 0 0 0 0 0 0 0 0 0 ...\n",
      " $ R mainlinguist                : num  0 0 0 0 0 0 0 0 0 0 ...\n",
      " $ R possibl                     : num  0 0 0 0 0 0 0 0 0 0 ...\n",
      " $ R reason                      : num  0 0 0 0 0 0 0 0 0 0 ...\n",
      " $ R result                      : num  0 0 0 0 0 0 0 0 0 0 ...\n",
      " $ R standard                    : num  0 0 0 0 0 0 0 0 0 0 ...\n",
      " $ R thought                     : num  0 0 0 0 0 0 0 0 0 0 ...\n",
      " $ R tri                         : num  0 0 0 0 0 0 0 0 0 0 ...\n",
      " $ R say                         : num  0 0 0 0 0 0 0 0 0 0 ...\n",
      " $ R origin                      : num  0 0 0 0 0 0 0 0 0 0 ...\n",
      " $ R process                     : num  0 0 0 0 0 0 0 0 0 0 ...\n",
      " $ R languageenglish             : num  0 0 0 0 0 0 0 0 0 0 ...\n",
      " $ R analog                      : num  0 0 0 0 0 0 0 0 0 0 ...\n",
      " $ R subject                     : num  0 0 0 0 0 0 0 0 0 0 ...\n",
      " $ R learn                       : num  0 0 0 0 0 0 0 0 0 0 ...\n",
      " $ R peopl                       : num  0 0 0 0 0 0 0 0 0 0 ...\n",
      " $ R discuss                     : num  0 0 0 0 0 0 0 0 0 0 ...\n",
      " $ R biologyanalog               : num  0 0 0 0 0 0 0 0 0 0 ...\n",
      " $ R govern                      : num  0 0 0 0 0 0 0 0 0 0 ...\n",
      " $ R linguisticssent             : num  0 0 0 0 0 0 0 0 0 0 ...\n",
      " $ R object                      : num  0 0 0 0 0 0 0 0 0 0 ...\n",
      " $ R sentenc                     : num  0 0 0 0 0 0 0 0 0 0 ...\n",
      " $ R verb                        : num  0 0 0 0 0 0 0 0 0 0 ...\n",
      " $ R compar                      : num  0 0 0 0 0 0 0 0 0 0 ...\n",
      " $ R get                         : num  0 0 0 0 0 0 0 0 0 0 ...\n",
      " $ R provid                      : num  0 0 0 0 0 0 0 0 0 0 ...\n",
      " $ R serv                        : num  0 0 0 0 0 0 0 0 0 0 ...\n",
      " $ R clear                       : num  0 0 0 0 0 0 0 0 0 0 ...\n",
      " $ R intern                      : num  0 0 0 0 0 0 0 0 0 0 ...\n",
      " $ R combin                      : num  0 0 0 0 0 0 0 0 0 0 ...\n",
      " $ R distinct                    : num  0 0 0 0 0 0 0 0 0 0 ...\n",
      " $ R relat                       : num  0 0 0 0 0 0 0 0 0 0 ...\n",
      " $ R map                         : num  0 0 0 0 0 0 0 0 0 0 ...\n",
      " $ R nation                      : num  0 0 0 0 0 0 0 0 0 0 ...\n",
      " $ R care                        : num  0 0 0 0 0 0 0 0 0 0 ...\n",
      " $ R geograph                    : num  0 0 0 0 0 0 0 0 0 0 ...\n",
      " $ R notion                      : num  0 0 0 0 0 0 0 0 0 0 ...\n",
      " $ R present                     : num  0 0 0 0 0 0 0 0 0 0 ...\n",
      " $ R appar                       : num  0 0 0 0 0 0 0 0 0 0 ...\n",
      " $ R close                       : num  0 0 0 0 0 0 0 0 0 0 ...\n",
      " $ R wide                        : num  0 0 0 0 0 0 0 0 0 0 ...\n",
      " $ R bigger                      : num  0 0 0 0 0 0 0 0 0 0 ...\n",
      " $ R follow                      : num  0 0 0 0 0 0 0 0 0 0 ...\n",
      " $ R recent                      : num  0 0 0 0 0 0 0 0 0 0 ...\n",
      "  [list output truncated]\n"
     ]
    }
   ],
   "source": [
    "str(wordsRemoved)"
   ]
  },
  {
   "cell_type": "code",
   "execution_count": 14,
   "metadata": {},
   "outputs": [],
   "source": [
    "wikiWords = cbind(wordsAdded, wordsRemoved)"
   ]
  },
  {
   "cell_type": "code",
   "execution_count": 29,
   "metadata": {},
   "outputs": [],
   "source": [
    "wikiWords$Vandal = wiki$Vandal"
   ]
  },
  {
   "cell_type": "code",
   "execution_count": 30,
   "metadata": {},
   "outputs": [],
   "source": [
    "library(caTools)"
   ]
  },
  {
   "cell_type": "code",
   "execution_count": 51,
   "metadata": {},
   "outputs": [
    {
     "data": {
      "text/plain": [
       "\n",
       "  0   1 \n",
       "618 545 "
      ]
     },
     "metadata": {},
     "output_type": "display_data"
    }
   ],
   "source": [
    "set.seed(123)\n",
    "spl = sample.split(wikiWords$Vandal, 0.7)\n",
    "wikiTrain = subset(wikiWords, spl == TRUE)\n",
    "wikiTest = subset(wikiWords, spl == FALSE)\n",
    "table(wikiTest$Vandal)"
   ]
  },
  {
   "cell_type": "code",
   "execution_count": 52,
   "metadata": {},
   "outputs": [
    {
     "data": {
      "text/html": [
       "0.531384350816853"
      ],
      "text/latex": [
       "0.531384350816853"
      ],
      "text/markdown": [
       "0.531384350816853"
      ],
      "text/plain": [
       "[1] 0.5313844"
      ]
     },
     "metadata": {},
     "output_type": "display_data"
    }
   ],
   "source": [
    "acc = 618/nrow(wikiTest)\n",
    "acc"
   ]
  },
  {
   "cell_type": "code",
   "execution_count": 53,
   "metadata": {},
   "outputs": [],
   "source": [
    "library(rpart)\n",
    "library(rpart.plot)"
   ]
  },
  {
   "cell_type": "code",
   "execution_count": 54,
   "metadata": {},
   "outputs": [],
   "source": [
    "wikiCART = rpart(Vandal ~ ., data = wikiTrain, method=\"class\")"
   ]
  },
  {
   "cell_type": "code",
   "execution_count": 55,
   "metadata": {},
   "outputs": [],
   "source": [
    "testPredictCART = predict(wikiCART, newdata=wikiTest, type=\"class\")"
   ]
  },
  {
   "cell_type": "code",
   "execution_count": 56,
   "metadata": {},
   "outputs": [
    {
     "data": {
      "text/plain": [
       "   testPredictCART\n",
       "      0   1\n",
       "  0 614   4\n",
       "  1 526  19"
      ]
     },
     "metadata": {},
     "output_type": "display_data"
    }
   ],
   "source": [
    "table(wikiTest$Vandal, testPredictCART)"
   ]
  },
  {
   "cell_type": "code",
   "execution_count": 57,
   "metadata": {},
   "outputs": [
    {
     "data": {
      "text/html": [
       "0.543422184006879"
      ],
      "text/latex": [
       "0.543422184006879"
      ],
      "text/markdown": [
       "0.543422184006879"
      ],
      "text/plain": [
       "[1] 0.5434222"
      ]
     },
     "metadata": {},
     "output_type": "display_data"
    }
   ],
   "source": [
    "accCART = (618 + 14)/nrow(wikiTest)\n",
    "accCART"
   ]
  },
  {
   "cell_type": "code",
   "execution_count": 58,
   "metadata": {},
   "outputs": [
    {
     "data": {
      "image/png": "[encoded data removed]",
      "text/plain": [
       "plot without title"
      ]
     },
     "metadata": {},
     "output_type": "display_data"
    }
   ],
   "source": [
    "prp(wikiCART)"
   ]
  },
  {
   "cell_type": "code",
   "execution_count": 60,
   "metadata": {},
   "outputs": [
    {
     "data": {
      "text/plain": [
       "   trainPred\n",
       "       0    1\n",
       "  0 1443    0\n",
       "  1 1224   46"
      ]
     },
     "metadata": {},
     "output_type": "display_data"
    }
   ],
   "source": [
    "trainPred = predict(wikiCART, type = \"class\")\n",
    "table(wikiTrain$Vandal, trainPred)"
   ]
  },
  {
   "cell_type": "code",
   "execution_count": 62,
   "metadata": {},
   "outputs": [
    {
     "data": {
      "text/html": [
       "0.549944710652414"
      ],
      "text/latex": [
       "0.549944710652414"
      ],
      "text/markdown": [
       "0.549944710652414"
      ],
      "text/plain": [
       "[1] 0.5499447"
      ]
     },
     "metadata": {},
     "output_type": "display_data"
    }
   ],
   "source": [
    "accTrain = (1443 + 49)/nrow(wikiTrain)\n",
    "accTrain"
   ]
  },
  {
   "cell_type": "code",
   "execution_count": 63,
   "metadata": {},
   "outputs": [],
   "source": [
    "wikiWords2 = wikiWords"
   ]
  },
  {
   "cell_type": "code",
   "execution_count": 64,
   "metadata": {},
   "outputs": [],
   "source": [
    "wikiWords2$HTTP = ifelse(grepl(\"http\",wiki$Added,fixed=TRUE), 1, 0)"
   ]
  },
  {
   "cell_type": "code",
   "execution_count": 65,
   "metadata": {},
   "outputs": [
    {
     "data": {
      "text/plain": [
       "\n",
       "   0    1 \n",
       "3659  217 "
      ]
     },
     "metadata": {},
     "output_type": "display_data"
    }
   ],
   "source": [
    "table(wikiWords2$HTTP)"
   ]
  },
  {
   "cell_type": "code",
   "execution_count": 66,
   "metadata": {},
   "outputs": [],
   "source": [
    "wikiTrain2 = subset(wikiWords2, spl==TRUE)\n",
    "wikiTest2 = subset(wikiWords2, spl==FALSE)"
   ]
  },
  {
   "cell_type": "code",
   "execution_count": 67,
   "metadata": {},
   "outputs": [],
   "source": [
    "wikiCART2 = rpart(Vandal ~. , data = wikiTrain2, method = \"class\")"
   ]
  },
  {
   "cell_type": "code",
   "execution_count": 69,
   "metadata": {},
   "outputs": [
    {
     "data": {
      "text/plain": [
       "   testPred\n",
       "      0   1\n",
       "  0 605  13\n",
       "  1 481  64"
      ]
     },
     "metadata": {},
     "output_type": "display_data"
    }
   ],
   "source": [
    "testPred = predict(wikiCART2, type = \"class\", newdata = wikiTest2)\n",
    "table(wikiTest2$Vandal, testPred)"
   ]
  },
  {
   "cell_type": "code",
   "execution_count": 70,
   "metadata": {},
   "outputs": [
    {
     "data": {
      "text/html": [
       "0.575236457437661"
      ],
      "text/latex": [
       "0.575236457437661"
      ],
      "text/markdown": [
       "0.575236457437661"
      ],
      "text/plain": [
       "[1] 0.5752365"
      ]
     },
     "metadata": {},
     "output_type": "display_data"
    }
   ],
   "source": [
    "acc2 = (605 + 64)/nrow(wikiTest2)\n",
    "acc2"
   ]
  },
  {
   "cell_type": "code",
   "execution_count": 71,
   "metadata": {},
   "outputs": [],
   "source": [
    "wikiWords2$NumWordsAdded = rowSums(as.matrix(dtmAdded))\n",
    "wikiWords2$NumWordsRemoved = rowSums(as.matrix(dtmRemoved))"
   ]
  },
  {
   "cell_type": "code",
   "execution_count": 72,
   "metadata": {},
   "outputs": [
    {
     "data": {
      "text/html": [
       "4.0500515995872"
      ],
      "text/latex": [
       "4.0500515995872"
      ],
      "text/markdown": [
       "4.0500515995872"
      ],
      "text/plain": [
       "[1] 4.050052"
      ]
     },
     "metadata": {},
     "output_type": "display_data"
    }
   ],
   "source": [
    "mean(wikiWords2$NumWordsAdded)"
   ]
  },
  {
   "cell_type": "code",
   "execution_count": 90,
   "metadata": {},
   "outputs": [],
   "source": [
    "wikiTrain3 = subset(wikiWords2, spl==TRUE)\n",
    "wikiTest3 = subset(wikiWords2, spl==FALSE)"
   ]
  },
  {
   "cell_type": "code",
   "execution_count": 91,
   "metadata": {},
   "outputs": [],
   "source": [
    "wikiCART3 = rpart(Vandal ~. , data = wikiTrain3, method = \"class\")"
   ]
  },
  {
   "cell_type": "code",
   "execution_count": 92,
   "metadata": {},
   "outputs": [
    {
     "data": {
      "text/plain": [
       "   testPred2\n",
       "      0   1\n",
       "  0 514 104\n",
       "  1 297 248"
      ]
     },
     "metadata": {},
     "output_type": "display_data"
    }
   ],
   "source": [
    "testPred2 = predict(wikiCART3, type = \"class\", newdata = wikiTest3)\n",
    "table(wikiTest3$Vandal, testPred2)"
   ]
  },
  {
   "cell_type": "code",
   "execution_count": 93,
   "metadata": {},
   "outputs": [
    {
     "data": {
      "text/html": [
       "0.655202063628547"
      ],
      "text/latex": [
       "0.655202063628547"
      ],
      "text/markdown": [
       "0.655202063628547"
      ],
      "text/plain": [
       "[1] 0.6552021"
      ]
     },
     "metadata": {},
     "output_type": "display_data"
    }
   ],
   "source": [
    "acc3 = (514 + 248)/nrow(wikiTest3)\n",
    "acc3"
   ]
  },
  {
   "cell_type": "code",
   "execution_count": 94,
   "metadata": {},
   "outputs": [],
   "source": [
    "wikiWords3 = wikiWords2"
   ]
  },
  {
   "cell_type": "code",
   "execution_count": 95,
   "metadata": {},
   "outputs": [],
   "source": [
    "wikiWords3$Minor = wiki$Minor\n",
    "wikiWords3$Loggedin = wiki$Loggedin"
   ]
  },
  {
   "cell_type": "code",
   "execution_count": 96,
   "metadata": {},
   "outputs": [],
   "source": [
    "wikiTrain4 = subset(wikiWords3, spl==TRUE)\n",
    "wikiTest4 = subset(wikiWords3, spl==FALSE)"
   ]
  },
  {
   "cell_type": "code",
   "execution_count": 97,
   "metadata": {},
   "outputs": [],
   "source": [
    "wikiCART4 = rpart(Vandal ~. , data = wikiTrain4, method = \"class\")"
   ]
  },
  {
   "cell_type": "code",
   "execution_count": 103,
   "metadata": {},
   "outputs": [
    {
     "data": {
      "text/plain": [
       "   testPred3\n",
       "      0   1\n",
       "  0 595  23\n",
       "  1 304 241"
      ]
     },
     "metadata": {},
     "output_type": "display_data"
    }
   ],
   "source": [
    "testPred3 = predict(wikiCART4, type = \"class\", newdata = wikiTest4)\n",
    "table(wikiTest4$Vandal, testPred3)"
   ]
  },
  {
   "cell_type": "code",
   "execution_count": 104,
   "metadata": {},
   "outputs": [
    {
     "data": {
      "text/html": [
       "0.718830610490112"
      ],
      "text/latex": [
       "0.718830610490112"
      ],
      "text/markdown": [
       "0.718830610490112"
      ],
      "text/plain": [
       "[1] 0.7188306"
      ]
     },
     "metadata": {},
     "output_type": "display_data"
    }
   ],
   "source": [
    "acc4 = (595 + 241)/nrow(wikiTest4)\n",
    "acc4"
   ]
  },
  {
   "cell_type": "code",
   "execution_count": 105,
   "metadata": {},
   "outputs": [
    {
     "data": {
      "image/png": "[encoded data removed]",
      "text/plain": [
       "plot without title"
      ]
     },
     "metadata": {},
     "output_type": "display_data"
    }
   ],
   "source": [
    "prp(wikiCART4)"
   ]
  },
  {
   "cell_type": "code",
   "execution_count": null,
   "metadata": {},
   "outputs": [],
   "source": []
  }
 ],
 "metadata": {
  "kernelspec": {
   "display_name": "R",
   "language": "R",
   "name": "ir"
  },
  "language_info": {
   "codemirror_mode": "r",
   "file_extension": ".r",
   "mimetype": "text/x-r-source",
   "name": "R",
   "pygments_lexer": "r",
   "version": "3.5.0"
  }
 },
 "nbformat": 4,
 "nbformat_minor": 2
}
