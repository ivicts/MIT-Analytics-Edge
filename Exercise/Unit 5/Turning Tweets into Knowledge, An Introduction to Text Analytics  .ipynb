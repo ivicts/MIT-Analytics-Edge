{
 "cells": [
  {
   "cell_type": "code",
   "execution_count": 1,
   "metadata": {},
   "outputs": [],
   "source": [
    "setwd(\"/home/victor/OneDrive/Online Courses/MITx 15.071x The Analytics Edge\")"
   ]
  },
  {
   "cell_type": "code",
   "execution_count": 3,
   "metadata": {},
   "outputs": [
    {
     "name": "stdout",
     "output_type": "stream",
     "text": [
      "'data.frame':\t1181 obs. of  2 variables:\n",
      " $ Tweet: chr  \"I have to say, Apple has by far the best customer care service I have ever received! @Apple @AppStore\" \"iOS 7 is so fricking smooth & beautiful!! #ThanxApple @Apple\" \"LOVE U @APPLE\" \"Thank you @apple, loving my new iPhone 5S!!!!!  #apple #iphone5S pic.twitter.com/XmHJCU4pcb\" ...\n",
      " $ Avg  : num  2 2 1.8 1.8 1.8 1.8 1.8 1.6 1.6 1.6 ...\n"
     ]
    }
   ],
   "source": [
    "tweets = read.csv(\"Unit5_1/Unit5_1/tweets.csv\", stringsAsFactors = FALSE)\n",
    "str(tweets)"
   ]
  },
  {
   "cell_type": "code",
   "execution_count": 4,
   "metadata": {},
   "outputs": [],
   "source": [
    "tweets$Negative = as.factor(tweets$Avg <= -1)"
   ]
  },
  {
   "cell_type": "code",
   "execution_count": 5,
   "metadata": {},
   "outputs": [
    {
     "data": {
      "text/plain": [
       "\n",
       "FALSE  TRUE \n",
       "  999   182 "
      ]
     },
     "metadata": {},
     "output_type": "display_data"
    }
   ],
   "source": [
    "table(tweets$Negative)"
   ]
  },
  {
   "cell_type": "code",
   "execution_count": 6,
   "metadata": {},
   "outputs": [
    {
     "name": "stderr",
     "output_type": "stream",
     "text": [
      "also installing the dependencies ‘NLP’, ‘slam’\n",
      "\n",
      "Updating HTML index of packages in '.Library'\n",
      "Making 'packages.html' ... done\n",
      "Updating HTML index of packages in '.Library'\n",
      "Making 'packages.html' ... done\n"
     ]
    }
   ],
   "source": [
    "install.packages(\"tm\")\n",
    "install.packages(\"SnowballC\")"
   ]
  },
  {
   "cell_type": "code",
   "execution_count": 7,
   "metadata": {},
   "outputs": [
    {
     "name": "stderr",
     "output_type": "stream",
     "text": [
      "Loading required package: NLP\n"
     ]
    }
   ],
   "source": [
    "library(tm)\n",
    "library(SnowballC)"
   ]
  },
  {
   "cell_type": "code",
   "execution_count": 18,
   "metadata": {},
   "outputs": [
    {
     "data": {
      "text/plain": [
       "<<SimpleCorpus>>\n",
       "Metadata:  corpus specific: 1, document level (indexed): 0\n",
       "Content:  documents: 1181"
      ]
     },
     "metadata": {},
     "output_type": "display_data"
    }
   ],
   "source": [
    "corpus = Corpus(VectorSource(tweets$Tweet))\n",
    "corpus"
   ]
  },
  {
   "cell_type": "code",
   "execution_count": 21,
   "metadata": {},
   "outputs": [
    {
     "data": {
      "text/html": [
       "'I have to say, Apple has by far the best customer care service I have ever received! @Apple @AppStore'"
      ],
      "text/latex": [
       "'I have to say, Apple has by far the best customer care service I have ever received! @Apple @AppStore'"
      ],
      "text/markdown": [
       "'I have to say, Apple has by far the best customer care service I have ever received! @Apple @AppStore'"
      ],
      "text/plain": [
       "[1] \"I have to say, Apple has by far the best customer care service I have ever received! @Apple @AppStore\""
      ]
     },
     "metadata": {},
     "output_type": "display_data"
    }
   ],
   "source": [
    "corpus[[1]]$content"
   ]
  },
  {
   "cell_type": "code",
   "execution_count": 22,
   "metadata": {},
   "outputs": [
    {
     "name": "stderr",
     "output_type": "stream",
     "text": [
      "Warning message in tm_map.SimpleCorpus(corpus, tolower):\n",
      "“transformation drops documents”"
     ]
    }
   ],
   "source": [
    "corpus = tm_map(corpus, tolower)"
   ]
  },
  {
   "cell_type": "code",
   "execution_count": 23,
   "metadata": {},
   "outputs": [
    {
     "data": {
      "text/html": [
       "'i have to say, apple has by far the best customer care service i have ever received! @apple @appstore'"
      ],
      "text/latex": [
       "'i have to say, apple has by far the best customer care service i have ever received! @apple @appstore'"
      ],
      "text/markdown": [
       "'i have to say, apple has by far the best customer care service i have ever received! @apple @appstore'"
      ],
      "text/plain": [
       "[1] \"i have to say, apple has by far the best customer care service i have ever received! @apple @appstore\""
      ]
     },
     "metadata": {},
     "output_type": "display_data"
    }
   ],
   "source": [
    "corpus[[1]]$content"
   ]
  },
  {
   "cell_type": "code",
   "execution_count": 24,
   "metadata": {},
   "outputs": [
    {
     "name": "stderr",
     "output_type": "stream",
     "text": [
      "Warning message in tm_map.SimpleCorpus(corpus, removePunctuation):\n",
      "“transformation drops documents”"
     ]
    }
   ],
   "source": [
    "corpus = tm_map(corpus, removePunctuation)"
   ]
  },
  {
   "cell_type": "code",
   "execution_count": 25,
   "metadata": {},
   "outputs": [
    {
     "data": {
      "text/html": [
       "'i have to say apple has by far the best customer care service i have ever received apple appstore'"
      ],
      "text/latex": [
       "'i have to say apple has by far the best customer care service i have ever received apple appstore'"
      ],
      "text/markdown": [
       "'i have to say apple has by far the best customer care service i have ever received apple appstore'"
      ],
      "text/plain": [
       "[1] \"i have to say apple has by far the best customer care service i have ever received apple appstore\""
      ]
     },
     "metadata": {},
     "output_type": "display_data"
    }
   ],
   "source": [
    "corpus[[1]]$content"
   ]
  },
  {
   "cell_type": "code",
   "execution_count": 26,
   "metadata": {},
   "outputs": [
    {
     "data": {
      "text/html": [
       "<ol class=list-inline>\n",
       "\t<li>'i'</li>\n",
       "\t<li>'me'</li>\n",
       "\t<li>'my'</li>\n",
       "\t<li>'myself'</li>\n",
       "\t<li>'we'</li>\n",
       "\t<li>'our'</li>\n",
       "\t<li>'ours'</li>\n",
       "\t<li>'ourselves'</li>\n",
       "\t<li>'you'</li>\n",
       "\t<li>'your'</li>\n",
       "</ol>\n"
      ],
      "text/latex": [
       "\\begin{enumerate*}\n",
       "\\item 'i'\n",
       "\\item 'me'\n",
       "\\item 'my'\n",
       "\\item 'myself'\n",
       "\\item 'we'\n",
       "\\item 'our'\n",
       "\\item 'ours'\n",
       "\\item 'ourselves'\n",
       "\\item 'you'\n",
       "\\item 'your'\n",
       "\\end{enumerate*}\n"
      ],
      "text/markdown": [
       "1. 'i'\n",
       "2. 'me'\n",
       "3. 'my'\n",
       "4. 'myself'\n",
       "5. 'we'\n",
       "6. 'our'\n",
       "7. 'ours'\n",
       "8. 'ourselves'\n",
       "9. 'you'\n",
       "10. 'your'\n",
       "\n",
       "\n"
      ],
      "text/plain": [
       " [1] \"i\"         \"me\"        \"my\"        \"myself\"    \"we\"        \"our\"      \n",
       " [7] \"ours\"      \"ourselves\" \"you\"       \"your\"     "
      ]
     },
     "metadata": {},
     "output_type": "display_data"
    }
   ],
   "source": [
    "stopwords(\"english\")[1:10]"
   ]
  },
  {
   "cell_type": "code",
   "execution_count": 29,
   "metadata": {},
   "outputs": [
    {
     "name": "stderr",
     "output_type": "stream",
     "text": [
      "Warning message in tm_map.SimpleCorpus(corpus, removeWords, c(\"apple\", stopwords(\"english\"))):\n",
      "“transformation drops documents”"
     ]
    }
   ],
   "source": [
    "corpus = tm_map(corpus, removeWords, c(\"apple\",stopwords(\"english\")))"
   ]
  },
  {
   "cell_type": "code",
   "execution_count": 30,
   "metadata": {},
   "outputs": [
    {
     "data": {
      "text/html": [
       "<span style=white-space:pre-wrap>'   say    far  best customer care service   ever received  appstore'</span>"
      ],
      "text/latex": [
       "'   say    far  best customer care service   ever received  appstore'"
      ],
      "text/markdown": [
       "<span style=white-space:pre-wrap>'   say    far  best customer care service   ever received  appstore'</span>"
      ],
      "text/plain": [
       "[1] \"   say    far  best customer care service   ever received  appstore\""
      ]
     },
     "metadata": {},
     "output_type": "display_data"
    }
   ],
   "source": [
    "corpus[[1]]$content"
   ]
  },
  {
   "cell_type": "code",
   "execution_count": 31,
   "metadata": {},
   "outputs": [
    {
     "name": "stderr",
     "output_type": "stream",
     "text": [
      "Warning message in tm_map.SimpleCorpus(corpus, stemDocument):\n",
      "“transformation drops documents”"
     ]
    }
   ],
   "source": [
    "corpus = tm_map(corpus, stemDocument)"
   ]
  },
  {
   "cell_type": "code",
   "execution_count": 32,
   "metadata": {},
   "outputs": [
    {
     "data": {
      "text/html": [
       "'say far best custom care servic ever receiv appstor'"
      ],
      "text/latex": [
       "'say far best custom care servic ever receiv appstor'"
      ],
      "text/markdown": [
       "'say far best custom care servic ever receiv appstor'"
      ],
      "text/plain": [
       "[1] \"say far best custom care servic ever receiv appstor\""
      ]
     },
     "metadata": {},
     "output_type": "display_data"
    }
   ],
   "source": [
    "corpus[[1]]$content"
   ]
  },
  {
   "cell_type": "code",
   "execution_count": 33,
   "metadata": {},
   "outputs": [
    {
     "data": {
      "text/plain": [
       "<<DocumentTermMatrix (documents: 1181, terms: 3289)>>\n",
       "Non-/sparse entries: 8980/3875329\n",
       "Sparsity           : 100%\n",
       "Maximal term length: 115\n",
       "Weighting          : term frequency (tf)"
      ]
     },
     "metadata": {},
     "output_type": "display_data"
    }
   ],
   "source": [
    "frequencies = DocumentTermMatrix(corpus)\n",
    "frequencies"
   ]
  },
  {
   "cell_type": "code",
   "execution_count": 34,
   "metadata": {},
   "outputs": [
    {
     "name": "stdout",
     "output_type": "stream",
     "text": [
      "<<DocumentTermMatrix (documents: 6, terms: 11)>>\n",
      "Non-/sparse entries: 1/65\n",
      "Sparsity           : 98%\n",
      "Maximal term length: 23\n",
      "Weighting          : term frequency (tf)\n",
      "Sample             :\n",
      "      Terms\n",
      "Docs   asap courtsideassistappforio current follow idea kickbutt preinstal save\n",
      "  1000    0                       0       0      0    1        0         0    0\n",
      "  1001    0                       0       0      0    0        0         0    0\n",
      "  1002    0                       0       0      0    0        0         0    0\n",
      "  1003    0                       0       0      0    0        0         0    0\n",
      "  1004    0                       0       0      0    0        0         0    0\n",
      "  1005    0                       0       0      0    0        0         0    0\n",
      "      Terms\n",
      "Docs   ssd support\n",
      "  1000   0       0\n",
      "  1001   0       0\n",
      "  1002   0       0\n",
      "  1003   0       0\n",
      "  1004   0       0\n",
      "  1005   0       0\n"
     ]
    }
   ],
   "source": [
    "inspect(frequencies[1000:1005,505:515])"
   ]
  },
  {
   "cell_type": "code",
   "execution_count": 35,
   "metadata": {},
   "outputs": [
    {
     "data": {
      "text/html": [
       "<ol class=list-inline>\n",
       "\t<li>'say'</li>\n",
       "\t<li>'love'</li>\n",
       "\t<li>'iphon'</li>\n",
       "\t<li>'iphone5'</li>\n",
       "\t<li>'new'</li>\n",
       "\t<li>'thank'</li>\n",
       "\t<li>'phone'</li>\n",
       "\t<li>'can'</li>\n",
       "\t<li>'make'</li>\n",
       "\t<li>'market'</li>\n",
       "\t<li>'one'</li>\n",
       "\t<li>'will'</li>\n",
       "\t<li>'cant'</li>\n",
       "\t<li>'get'</li>\n",
       "\t<li>'just'</li>\n",
       "\t<li>'updat'</li>\n",
       "\t<li>'fingerprint'</li>\n",
       "\t<li>'iphone5c'</li>\n",
       "\t<li>'store'</li>\n",
       "\t<li>'time'</li>\n",
       "\t<li>'come'</li>\n",
       "\t<li>'now'</li>\n",
       "\t<li>'use'</li>\n",
       "\t<li>'back'</li>\n",
       "\t<li>'anyon'</li>\n",
       "\t<li>'work'</li>\n",
       "\t<li>'app'</li>\n",
       "\t<li>'android'</li>\n",
       "\t<li>'think'</li>\n",
       "\t<li>'ipad'</li>\n",
       "\t<li>'well'</li>\n",
       "\t<li>'freak'</li>\n",
       "\t<li>'dont'</li>\n",
       "\t<li>'via'</li>\n",
       "\t<li>'better'</li>\n",
       "\t<li>'like'</li>\n",
       "\t<li>'pleas'</li>\n",
       "\t<li>'samsung'</li>\n",
       "\t<li>'want'</li>\n",
       "\t<li>'batteri'</li>\n",
       "\t<li>'ios7'</li>\n",
       "\t<li>'microsoft'</li>\n",
       "\t<li>'itun'</li>\n",
       "\t<li>'buy'</li>\n",
       "\t<li>'releas'</li>\n",
       "\t<li>'look'</li>\n",
       "\t<li>'appl'</li>\n",
       "\t<li>'need'</li>\n",
       "\t<li>'googl'</li>\n",
       "\t<li>'twitter'</li>\n",
       "\t<li>'ipod'</li>\n",
       "\t<li>'ipodplayerpromo'</li>\n",
       "\t<li>'promoipodplayerpromo'</li>\n",
       "\t<li>'lol'</li>\n",
       "\t<li>'realli'</li>\n",
       "\t<li>'promo'</li>\n",
       "</ol>\n"
      ],
      "text/latex": [
       "\\begin{enumerate*}\n",
       "\\item 'say'\n",
       "\\item 'love'\n",
       "\\item 'iphon'\n",
       "\\item 'iphone5'\n",
       "\\item 'new'\n",
       "\\item 'thank'\n",
       "\\item 'phone'\n",
       "\\item 'can'\n",
       "\\item 'make'\n",
       "\\item 'market'\n",
       "\\item 'one'\n",
       "\\item 'will'\n",
       "\\item 'cant'\n",
       "\\item 'get'\n",
       "\\item 'just'\n",
       "\\item 'updat'\n",
       "\\item 'fingerprint'\n",
       "\\item 'iphone5c'\n",
       "\\item 'store'\n",
       "\\item 'time'\n",
       "\\item 'come'\n",
       "\\item 'now'\n",
       "\\item 'use'\n",
       "\\item 'back'\n",
       "\\item 'anyon'\n",
       "\\item 'work'\n",
       "\\item 'app'\n",
       "\\item 'android'\n",
       "\\item 'think'\n",
       "\\item 'ipad'\n",
       "\\item 'well'\n",
       "\\item 'freak'\n",
       "\\item 'dont'\n",
       "\\item 'via'\n",
       "\\item 'better'\n",
       "\\item 'like'\n",
       "\\item 'pleas'\n",
       "\\item 'samsung'\n",
       "\\item 'want'\n",
       "\\item 'batteri'\n",
       "\\item 'ios7'\n",
       "\\item 'microsoft'\n",
       "\\item 'itun'\n",
       "\\item 'buy'\n",
       "\\item 'releas'\n",
       "\\item 'look'\n",
       "\\item 'appl'\n",
       "\\item 'need'\n",
       "\\item 'googl'\n",
       "\\item 'twitter'\n",
       "\\item 'ipod'\n",
       "\\item 'ipodplayerpromo'\n",
       "\\item 'promoipodplayerpromo'\n",
       "\\item 'lol'\n",
       "\\item 'realli'\n",
       "\\item 'promo'\n",
       "\\end{enumerate*}\n"
      ],
      "text/markdown": [
       "1. 'say'\n",
       "2. 'love'\n",
       "3. 'iphon'\n",
       "4. 'iphone5'\n",
       "5. 'new'\n",
       "6. 'thank'\n",
       "7. 'phone'\n",
       "8. 'can'\n",
       "9. 'make'\n",
       "10. 'market'\n",
       "11. 'one'\n",
       "12. 'will'\n",
       "13. 'cant'\n",
       "14. 'get'\n",
       "15. 'just'\n",
       "16. 'updat'\n",
       "17. 'fingerprint'\n",
       "18. 'iphone5c'\n",
       "19. 'store'\n",
       "20. 'time'\n",
       "21. 'come'\n",
       "22. 'now'\n",
       "23. 'use'\n",
       "24. 'back'\n",
       "25. 'anyon'\n",
       "26. 'work'\n",
       "27. 'app'\n",
       "28. 'android'\n",
       "29. 'think'\n",
       "30. 'ipad'\n",
       "31. 'well'\n",
       "32. 'freak'\n",
       "33. 'dont'\n",
       "34. 'via'\n",
       "35. 'better'\n",
       "36. 'like'\n",
       "37. 'pleas'\n",
       "38. 'samsung'\n",
       "39. 'want'\n",
       "40. 'batteri'\n",
       "41. 'ios7'\n",
       "42. 'microsoft'\n",
       "43. 'itun'\n",
       "44. 'buy'\n",
       "45. 'releas'\n",
       "46. 'look'\n",
       "47. 'appl'\n",
       "48. 'need'\n",
       "49. 'googl'\n",
       "50. 'twitter'\n",
       "51. 'ipod'\n",
       "52. 'ipodplayerpromo'\n",
       "53. 'promoipodplayerpromo'\n",
       "54. 'lol'\n",
       "55. 'realli'\n",
       "56. 'promo'\n",
       "\n",
       "\n"
      ],
      "text/plain": [
       " [1] \"say\"                  \"love\"                 \"iphon\"               \n",
       " [4] \"iphone5\"              \"new\"                  \"thank\"               \n",
       " [7] \"phone\"                \"can\"                  \"make\"                \n",
       "[10] \"market\"               \"one\"                  \"will\"                \n",
       "[13] \"cant\"                 \"get\"                  \"just\"                \n",
       "[16] \"updat\"                \"fingerprint\"          \"iphone5c\"            \n",
       "[19] \"store\"                \"time\"                 \"come\"                \n",
       "[22] \"now\"                  \"use\"                  \"back\"                \n",
       "[25] \"anyon\"                \"work\"                 \"app\"                 \n",
       "[28] \"android\"              \"think\"                \"ipad\"                \n",
       "[31] \"well\"                 \"freak\"                \"dont\"                \n",
       "[34] \"via\"                  \"better\"               \"like\"                \n",
       "[37] \"pleas\"                \"samsung\"              \"want\"                \n",
       "[40] \"batteri\"              \"ios7\"                 \"microsoft\"           \n",
       "[43] \"itun\"                 \"buy\"                  \"releas\"              \n",
       "[46] \"look\"                 \"appl\"                 \"need\"                \n",
       "[49] \"googl\"                \"twitter\"              \"ipod\"                \n",
       "[52] \"ipodplayerpromo\"      \"promoipodplayerpromo\" \"lol\"                 \n",
       "[55] \"realli\"               \"promo\"               "
      ]
     },
     "metadata": {},
     "output_type": "display_data"
    }
   ],
   "source": [
    "findFreqTerms(frequencies, lowfreq = 20)"
   ]
  },
  {
   "cell_type": "code",
   "execution_count": 41,
   "metadata": {},
   "outputs": [
    {
     "data": {
      "text/html": [
       "<ol class=list-inline>\n",
       "\t<li>'iphon'</li>\n",
       "\t<li>'new'</li>\n",
       "\t<li>'itun'</li>\n",
       "</ol>\n"
      ],
      "text/latex": [
       "\\begin{enumerate*}\n",
       "\\item 'iphon'\n",
       "\\item 'new'\n",
       "\\item 'itun'\n",
       "\\end{enumerate*}\n"
      ],
      "text/markdown": [
       "1. 'iphon'\n",
       "2. 'new'\n",
       "3. 'itun'\n",
       "\n",
       "\n"
      ],
      "text/plain": [
       "[1] \"iphon\" \"new\"   \"itun\" "
      ]
     },
     "metadata": {},
     "output_type": "display_data"
    }
   ],
   "source": [
    "findFreqTerms(frequencies, lowfreq = 100)"
   ]
  },
  {
   "cell_type": "code",
   "execution_count": 36,
   "metadata": {},
   "outputs": [
    {
     "data": {
      "text/plain": [
       "<<DocumentTermMatrix (documents: 1181, terms: 309)>>\n",
       "Non-/sparse entries: 4669/360260\n",
       "Sparsity           : 99%\n",
       "Maximal term length: 20\n",
       "Weighting          : term frequency (tf)"
      ]
     },
     "metadata": {},
     "output_type": "display_data"
    }
   ],
   "source": [
    "sparse = removeSparseTerms(frequencies, 0.995)\n",
    "sparse"
   ]
  },
  {
   "cell_type": "code",
   "execution_count": 37,
   "metadata": {},
   "outputs": [],
   "source": [
    "tweetsSparse = as.data.frame(as.matrix(sparse))\n",
    "colnames(tweetsSparse) = make.names(colnames(tweetsSparse))\n",
    "tweetsSparse$Negative = tweets$Negative"
   ]
  },
  {
   "cell_type": "code",
   "execution_count": 38,
   "metadata": {},
   "outputs": [],
   "source": [
    "library(caTools)"
   ]
  },
  {
   "cell_type": "code",
   "execution_count": 40,
   "metadata": {},
   "outputs": [],
   "source": [
    "set.seed(123)\n",
    "split = sample.split(tweetsSparse$Negative, SplitRatio = 0.7)\n",
    "trainSparse = subset(tweetsSparse, split == TRUE)\n",
    "testSparse = subset(tweetsSparse, split == FALSE)"
   ]
  },
  {
   "cell_type": "code",
   "execution_count": 42,
   "metadata": {},
   "outputs": [],
   "source": [
    "library(rpart)\n",
    "library(rpart.plot)"
   ]
  },
  {
   "cell_type": "code",
   "execution_count": 43,
   "metadata": {},
   "outputs": [
    {
     "data": {
      "image/png": "[encoded data removed]",
      "text/plain": [
       "plot without title"
      ]
     },
     "metadata": {},
     "output_type": "display_data"
    }
   ],
   "source": [
    "tweetCART = rpart(Negative ~. , data = trainSparse, method = \"class\")\n",
    "prp(tweetCART)"
   ]
  },
  {
   "cell_type": "code",
   "execution_count": 44,
   "metadata": {},
   "outputs": [
    {
     "data": {
      "text/plain": [
       "       predictCART\n",
       "        FALSE TRUE\n",
       "  FALSE   294    6\n",
       "  TRUE     37   18"
      ]
     },
     "metadata": {},
     "output_type": "display_data"
    }
   ],
   "source": [
    "predictCART = predict(tweetCART, newdata = testSparse, type = \"class\")\n",
    "table(testSparse$Negative, predictCART)"
   ]
  },
  {
   "cell_type": "code",
   "execution_count": 45,
   "metadata": {},
   "outputs": [
    {
     "data": {
      "text/html": [
       "0.87887323943662"
      ],
      "text/latex": [
       "0.87887323943662"
      ],
      "text/markdown": [
       "0.87887323943662"
      ],
      "text/plain": [
       "[1] 0.8788732"
      ]
     },
     "metadata": {},
     "output_type": "display_data"
    }
   ],
   "source": [
    "acc = (294 + 18)/nrow(testSparse)\n",
    "acc"
   ]
  },
  {
   "cell_type": "code",
   "execution_count": 46,
   "metadata": {},
   "outputs": [
    {
     "data": {
      "text/plain": [
       "\n",
       "FALSE  TRUE \n",
       "  300    55 "
      ]
     },
     "metadata": {},
     "output_type": "display_data"
    }
   ],
   "source": [
    "table(testSparse$Negative)"
   ]
  },
  {
   "cell_type": "code",
   "execution_count": 47,
   "metadata": {},
   "outputs": [
    {
     "data": {
      "text/html": [
       "0.845070422535211"
      ],
      "text/latex": [
       "0.845070422535211"
      ],
      "text/markdown": [
       "0.845070422535211"
      ],
      "text/plain": [
       "[1] 0.8450704"
      ]
     },
     "metadata": {},
     "output_type": "display_data"
    }
   ],
   "source": [
    "acc2 = 300/nrow(testSparse)\n",
    "acc2"
   ]
  },
  {
   "cell_type": "code",
   "execution_count": 48,
   "metadata": {},
   "outputs": [
    {
     "name": "stderr",
     "output_type": "stream",
     "text": [
      "randomForest 4.6-14\n",
      "Type rfNews() to see new features/changes/bug fixes.\n"
     ]
    }
   ],
   "source": [
    "library(randomForest)"
   ]
  },
  {
   "cell_type": "code",
   "execution_count": 49,
   "metadata": {},
   "outputs": [],
   "source": [
    "set.seed(123)\n",
    "tweetRF = randomForest(Negative ~ ., data = trainSparse)"
   ]
  },
  {
   "cell_type": "code",
   "execution_count": 50,
   "metadata": {},
   "outputs": [
    {
     "data": {
      "text/plain": [
       "       predictRF\n",
       "        FALSE TRUE\n",
       "  FALSE   293    7\n",
       "  TRUE     33   22"
      ]
     },
     "metadata": {},
     "output_type": "display_data"
    }
   ],
   "source": [
    "predictRF = predict(tweetRF , newdata = testSparse)\n",
    "table(testSparse$Negative, predictRF)"
   ]
  },
  {
   "cell_type": "code",
   "execution_count": 51,
   "metadata": {},
   "outputs": [
    {
     "data": {
      "text/html": [
       "0.887323943661972"
      ],
      "text/latex": [
       "0.887323943661972"
      ],
      "text/markdown": [
       "0.887323943661972"
      ],
      "text/plain": [
       "[1] 0.8873239"
      ]
     },
     "metadata": {},
     "output_type": "display_data"
    }
   ],
   "source": [
    "accRF = (293 + 22)/nrow(testSparse)\n",
    "accRF"
   ]
  },
  {
   "cell_type": "code",
   "execution_count": 52,
   "metadata": {},
   "outputs": [
    {
     "name": "stderr",
     "output_type": "stream",
     "text": [
      "Warning message:\n",
      "“glm.fit: algorithm did not converge”Warning message:\n",
      "“glm.fit: fitted probabilities numerically 0 or 1 occurred”"
     ]
    },
    {
     "data": {
      "text/plain": [
       "\n",
       "Call:\n",
       "glm(formula = Negative ~ ., family = \"binomial\", data = trainSparse)\n",
       "\n",
       "Deviance Residuals: \n",
       "   Min      1Q  Median      3Q     Max  \n",
       " -8.49    0.00    0.00    0.00    8.49  \n",
       "\n",
       "Coefficients: (7 not defined because of singularities)\n",
       "                       Estimate Std. Error    z value Pr(>|z|)    \n",
       "(Intercept)          -2.817e+15  5.330e+06 -528524146   <2e-16 ***\n",
       "appstor              -1.831e+15  3.697e+07  -49515454   <2e-16 ***\n",
       "best                  1.584e+15  3.759e+07   42124142   <2e-16 ***\n",
       "care                  3.422e+15  3.773e+07   90696602   <2e-16 ***\n",
       "custom               -1.495e+15  4.341e+07  -34436588   <2e-16 ***\n",
       "ever                  1.592e+15  4.475e+07   35585839   <2e-16 ***\n",
       "say                  -6.510e+14  2.609e+07  -24947529   <2e-16 ***\n",
       "servic               -1.325e+15  3.904e+07  -33933850   <2e-16 ***\n",
       "love                 -1.965e+15  2.229e+07  -88169622   <2e-16 ***\n",
       "iphon                 3.805e+14  7.159e+06   53157507   <2e-16 ***\n",
       "iphone5              -6.074e+14  1.469e+07  -41353324   <2e-16 ***\n",
       "new                  -5.610e+14  1.066e+07  -52619937   <2e-16 ***\n",
       "thank                 4.867e+14  1.624e+07   29974373   <2e-16 ***\n",
       "phone                -1.456e+14  1.304e+07  -11158916   <2e-16 ***\n",
       "amaz                  2.028e+14  3.977e+07    5098584   <2e-16 ***\n",
       "ive                  -3.257e+15  4.976e+07  -65451255   <2e-16 ***\n",
       "can                  -8.090e+14  1.522e+07  -53142080   <2e-16 ***\n",
       "finger               -3.574e+15  3.418e+07 -104545800   <2e-16 ***\n",
       "make                 -7.145e+14  1.544e+07  -46275929   <2e-16 ***\n",
       "print                -1.953e+15  4.089e+07  -47764170   <2e-16 ***\n",
       "read                  6.811e+14  8.949e+07    7611581   <2e-16 ***\n",
       "without               3.925e+15  1.229e+08   31933113   <2e-16 ***\n",
       "alway                -4.747e+14  4.813e+07   -9863053   <2e-16 ***\n",
       "busi                 -3.529e+15  3.130e+07 -112760404   <2e-16 ***\n",
       "innov                 1.317e+15  2.963e+07   44454882   <2e-16 ***\n",
       "market                1.824e+15  2.693e+07   67737650   <2e-16 ***\n",
       "one                  -1.387e+15  1.629e+07  -85151004   <2e-16 ***\n",
       "will                 -8.931e+14  1.517e+07  -58876409   <2e-16 ***\n",
       "cant                  1.749e+15  2.174e+07   80444052   <2e-16 ***\n",
       "get                   6.079e+14  1.286e+07   47283350   <2e-16 ***\n",
       "just                 -2.919e+14  1.485e+07  -19656469   <2e-16 ***\n",
       "updat                -1.787e+15  2.349e+07  -76095282   <2e-16 ***\n",
       "wait                 -8.165e+14  2.648e+07  -30833251   <2e-16 ***\n",
       "much                  1.256e+15  3.177e+07   39530657   <2e-16 ***\n",
       "featur               -1.312e+15  3.656e+07  -35886015   <2e-16 ***\n",
       "fingerprint          -3.375e+13  2.298e+07   -1468531   <2e-16 ***\n",
       "scanner               1.113e+15  3.764e+07   29577860   <2e-16 ***\n",
       "mani                  1.991e+15  4.655e+07   42780157   <2e-16 ***\n",
       "peopl                -1.043e+15  2.695e+07  -38686251   <2e-16 ***\n",
       "seem                  6.751e+14  3.886e+07   17370853   <2e-16 ***\n",
       "still                 1.722e+15  2.562e+07   67223828   <2e-16 ***\n",
       "what                 -1.084e+15  3.505e+07  -30939929   <2e-16 ***\n",
       "life                  2.481e+15  3.133e+07   79209761   <2e-16 ***\n",
       "made                 -6.876e+14  3.428e+07  -20055419   <2e-16 ***\n",
       "alreadi               1.194e+15  3.772e+07   31649283   <2e-16 ***\n",
       "guess                 1.286e+15  4.829e+07   26633953   <2e-16 ***\n",
       "iphone5c             -2.057e+14  1.722e+07  -11947662   <2e-16 ***\n",
       "keynot                3.571e+14  3.632e+07    9831716   <2e-16 ***\n",
       "watch                -2.389e+15  4.225e+07  -56559195   <2e-16 ***\n",
       "call                  3.547e+15  3.203e+07  110740489   <2e-16 ***\n",
       "first                 3.301e+15  4.033e+07   81864664   <2e-16 ***\n",
       "store                -3.338e+11  1.566e+07     -21313   <2e-16 ***\n",
       "time                 -1.143e+15  1.910e+07  -59829519   <2e-16 ***\n",
       "wow                  -4.398e+15  4.167e+07 -105524535   <2e-16 ***\n",
       "great                -2.094e+15  4.510e+07  -46428566   <2e-16 ***\n",
       "job                   3.133e+15  5.409e+07   57922253   <2e-16 ***\n",
       "user                 -3.233e+15  4.875e+07  -66324224   <2e-16 ***\n",
       "day                   1.862e+15  2.777e+07   67047893   <2e-16 ***\n",
       "iphone4               2.623e+14  4.920e+07    5330163   <2e-16 ***\n",
       "come                 -6.500e+13  1.973e+07   -3293619   <2e-16 ***\n",
       "upgrad                2.700e+15  3.412e+07   79135573   <2e-16 ***\n",
       "color                -1.813e+15  2.638e+07  -68711666   <2e-16 ***\n",
       "video                 1.184e+15  3.166e+07   37382871   <2e-16 ***\n",
       "your                  1.790e+15  2.973e+07   60200224   <2e-16 ***\n",
       "impress               8.772e+14  3.082e+07   28456628   <2e-16 ***\n",
       "now                  -2.098e+14  1.603e+07  -13086736   <2e-16 ***\n",
       "that                  1.676e+15  2.743e+07   61085600   <2e-16 ***\n",
       "awesom                1.584e+15  3.464e+07   45741193   <2e-16 ***\n",
       "blackberri           -1.155e+15  3.251e+07  -35522867   <2e-16 ***\n",
       "colour                2.638e+15  5.176e+07   50957273   <2e-16 ***\n",
       "use                  -6.744e+14  1.998e+07  -33752414   <2e-16 ***\n",
       "arent                -9.276e+14  4.287e+07  -21634739   <2e-16 ***\n",
       "compani              -1.491e+15  2.785e+07  -53545086   <2e-16 ***\n",
       "back                 -1.379e+15  2.304e+07  -59853416   <2e-16 ***\n",
       "anyon                -5.726e+14  2.607e+07  -21958437   <2e-16 ***\n",
       "said                 -1.033e+15  4.600e+07  -22453232   <2e-16 ***\n",
       "today                -1.828e+15  3.284e+07  -55650607   <2e-16 ***\n",
       "way                   1.108e+15  2.652e+07   41797378   <2e-16 ***\n",
       "work                 -3.648e+14  2.149e+07  -16974674   <2e-16 ***\n",
       "dear                  1.857e+14  3.169e+07    5861677   <2e-16 ***\n",
       "good                  1.909e+14  3.393e+07    5627415   <2e-16 ***\n",
       "never                -1.267e+15  3.783e+07  -33486770   <2e-16 ***\n",
       "app                   1.229e+15  1.556e+07   78960515   <2e-16 ***\n",
       "product               1.335e+15  3.426e+07   38980759   <2e-16 ***\n",
       "mac                  -4.443e+14  2.872e+07  -15470017   <2e-16 ***\n",
       "android               7.245e+14  2.007e+07   36091156   <2e-16 ***\n",
       "think                -1.053e+14  1.731e+07   -6082870   <2e-16 ***\n",
       "creat                 7.531e+13  3.639e+07    2069829   <2e-16 ***\n",
       "drop                  1.285e+15  3.445e+07   37299602   <2e-16 ***\n",
       "two                   1.585e+15  3.708e+07   42730749   <2e-16 ***\n",
       "help                 -1.708e+15  2.513e+07  -67969763   <2e-16 ***\n",
       "away                 -2.143e+15  4.471e+07  -47938735   <2e-16 ***\n",
       "hour                 -6.172e+14  3.524e+07  -17511495   <2e-16 ***\n",
       "ipad                  6.937e+14  1.632e+07   42498393   <2e-16 ***\n",
       "nokia                 9.920e+13  2.443e+07    4059878   <2e-16 ***\n",
       "hope                  2.034e+15  3.280e+07   61999723   <2e-16 ***\n",
       "world                -9.053e+14  3.288e+07  -27537322   <2e-16 ***\n",
       "charg                 2.200e+15  4.422e+07   49752812   <2e-16 ***\n",
       "free                  6.033e+14  3.469e+07   17390667   <2e-16 ***\n",
       "give                 -9.956e+14  2.563e+07  -38840958   <2e-16 ***\n",
       "iphoto               -1.427e+15  8.144e+07  -17520241   <2e-16 ***\n",
       "miss                  2.361e+15  4.084e+07   57825128   <2e-16 ***\n",
       "move                 -1.450e+15  5.308e+07  -27323033   <2e-16 ***\n",
       "improv                1.538e+15  3.456e+07   44500288   <2e-16 ***\n",
       "macbook              -1.817e+15  3.650e+07  -49769726   <2e-16 ***\n",
       "well                 -1.029e+15  2.428e+07  -42404229   <2e-16 ***\n",
       "gold                 -1.675e+15  2.879e+07  -58185416   <2e-16 ***\n",
       "ibrooklynb           -1.119e+15  3.801e+07  -29431321   <2e-16 ***\n",
       "ill                   1.602e+15  5.577e+07   28717094   <2e-16 ***\n",
       "screen                3.118e+15  3.255e+07   95789478   <2e-16 ***\n",
       "break.                8.454e+14  3.619e+07   23363957   <2e-16 ***\n",
       "done                  1.357e+15  3.079e+07   44078262   <2e-16 ***\n",
       "freak                 3.358e+15  1.269e+07  264628220   <2e-16 ***\n",
       "gonna                -2.980e+15  3.398e+07  -87708292   <2e-16 ***\n",
       "next.                -7.200e+14  2.615e+07  -27532226   <2e-16 ***\n",
       "noth                  4.156e+14  4.374e+07    9501874   <2e-16 ***\n",
       "instead              -1.588e+15  4.377e+07  -36288099   <2e-16 ***\n",
       "pro                  -7.703e+14  6.541e+07  -11776025   <2e-16 ***\n",
       "dont                 -3.482e+14  1.925e+07  -18084176   <2e-16 ***\n",
       "final                -4.817e+15  5.950e+07  -80958756   <2e-16 ***\n",
       "suck                  1.393e+15  5.902e+07   23608452   <2e-16 ***\n",
       "got                   2.405e+15  3.399e+07   70747200   <2e-16 ***\n",
       "via                  -8.439e+14  2.744e+07  -30754206   <2e-16 ***\n",
       "let                   6.916e+14  3.636e+07   19020929   <2e-16 ***\n",
       "stop                 -1.061e+15  2.912e+07  -36426272   <2e-16 ***\n",
       "togeth               -7.588e+14  4.243e+07  -17882387   <2e-16 ***\n",
       "music                -1.053e+15  6.402e+07  -16449228   <2e-16 ***\n",
       "plastic               1.193e+15  3.327e+07   35848925   <2e-16 ***\n",
       "see                  -2.971e+15  3.483e+07  -85317265   <2e-16 ***\n",
       "better                2.018e+15  2.169e+07   93006682   <2e-16 ***\n",
       "design               -1.190e+15  3.663e+07  -32491118   <2e-16 ***\n",
       "like                  1.514e+15  1.380e+07  109700904   <2e-16 ***\n",
       "technolog            -5.182e+14  4.789e+07  -10822238   <2e-16 ***\n",
       "big                  -1.658e+15  3.069e+07  -54022700   <2e-16 ***\n",
       "news                 -6.496e+14  3.033e+07  -21418540   <2e-16 ***\n",
       "pleas                -3.172e+14  2.295e+07  -13820660   <2e-16 ***\n",
       "samsung              -6.946e+14  2.135e+07  -32540455   <2e-16 ***\n",
       "send                 -1.671e+15  4.526e+07  -36922705   <2e-16 ***\n",
       "want                  1.262e+15  2.132e+07   59205161   <2e-16 ***\n",
       "batteri              -5.326e+14  3.029e+07  -17584243   <2e-16 ***\n",
       "year                  4.285e+15  3.637e+07  117836661   <2e-16 ***\n",
       "guy                  -1.332e+15  3.129e+07  -42568679   <2e-16 ***\n",
       "thing                 1.810e+15  2.813e+07   64347646   <2e-16 ***\n",
       "genius               -1.985e+15  5.186e+07  -38270543   <2e-16 ***\n",
       "ios7                 -3.161e+14  2.211e+07  -14293940   <2e-16 ***\n",
       "know                 -6.076e+14  2.869e+07  -21178505   <2e-16 ***\n",
       "simpl                 4.181e+14  4.840e+07    8639159   <2e-16 ***\n",
       "mobil                -1.273e+15  2.734e+07  -46577716   <2e-16 ***\n",
       "everi                 1.883e+15  2.653e+07   70968209   <2e-16 ***\n",
       "microsoft            -2.764e+14  2.108e+07  -13115642   <2e-16 ***\n",
       "tho                  -1.599e+15  4.034e+07  -39646635   <2e-16 ***\n",
       "generat               3.135e+14  4.350e+07    7207006   <2e-16 ***\n",
       "actual               -8.497e+14  2.884e+07  -29468210   <2e-16 ***\n",
       "announc              -1.493e+15  2.809e+07  -53130452   <2e-16 ***\n",
       "page                 -2.769e+15  4.623e+07  -59900326   <2e-16 ***\n",
       "lost                 -1.888e+15  4.914e+07  -38433409   <2e-16 ***\n",
       "smart                -1.239e+15  5.420e+07  -22850121   <2e-16 ***\n",
       "bring                -9.673e+14  3.576e+07  -27050337   <2e-16 ***\n",
       "sell                 -2.913e+14  3.400e+07   -8569318   <2e-16 ***\n",
       "itun                  2.786e+15  2.475e+07  112540531   <2e-16 ***\n",
       "buy                   2.088e+15  2.469e+07   84595268   <2e-16 ***\n",
       "didnt                 1.391e+15  3.518e+07   39524021   <2e-16 ***\n",
       "someth               -1.958e+15  4.485e+07  -43662550   <2e-16 ***\n",
       "yet                  -1.362e+15  3.875e+07  -35147949   <2e-16 ***\n",
       "sure                  1.237e+15  2.444e+07   50615108   <2e-16 ***\n",
       "releas               -2.017e+15  2.651e+07  -76066252   <2e-16 ***\n",
       "secur                -1.613e+15  4.003e+07  -40297850   <2e-16 ***\n",
       "soon                  1.224e+15  5.329e+07   22965225   <2e-16 ***\n",
       "take                  2.383e+15  3.049e+07   78158761   <2e-16 ***\n",
       "touchid              -3.001e+14  3.271e+07   -9173183   <2e-16 ***\n",
       "follow               -1.173e+15  2.524e+07  -46479509   <2e-16 ***\n",
       "support              -1.397e+15  2.526e+07  -55293177   <2e-16 ***\n",
       "idea                  2.877e+15  4.436e+07   64859480   <2e-16 ***\n",
       "touch                -2.663e+15  3.590e+07  -74188003   <2e-16 ***\n",
       "look                  3.057e+14  1.927e+07   15866552   <2e-16 ***\n",
       "week                 -1.101e+15  3.010e+07  -36568792   <2e-16 ***\n",
       "burberri              6.688e+14  3.593e+07   18614288   <2e-16 ***\n",
       "show                 -2.594e+15  4.690e+07  -55316029   <2e-16 ***\n",
       "offer                -2.621e+15  3.757e+07  -69747455   <2e-16 ***\n",
       "data                  2.020e+15  3.652e+07   55323996   <2e-16 ***\n",
       "die                   4.326e+14  3.535e+07   12236912   <2e-16 ***\n",
       "happi                -2.236e+15  4.359e+07  -51300673   <2e-16 ***\n",
       "devic                -6.334e+14  2.559e+07  -24751495   <2e-16 ***\n",
       "yes                   2.923e+15  4.189e+07   69777584   <2e-16 ***\n",
       "talk                  4.337e+14  4.092e+07   10598999   <2e-16 ***\n",
       "appl                 -5.782e+14  1.695e+07  -34104686   <2e-16 ***\n",
       "develop              -1.140e+15  2.670e+07  -42692102   <2e-16 ***\n",
       "right                -2.207e+15  3.356e+07  -65743588   <2e-16 ***\n",
       "problem               3.593e+15  3.855e+07   93219088   <2e-16 ***\n",
       "tech                 -7.395e+14  2.826e+07  -26163431   <2e-16 ***\n",
       "darn                  2.037e+15  3.199e+07   63677013   <2e-16 ***\n",
       "need                 -9.265e+14  1.821e+07  -50894593   <2e-16 ***\n",
       "put                  -9.531e+14  3.625e+07  -26295580   <2e-16 ***\n",
       "preorder             -1.316e+15  2.873e+07  -45807826   <2e-16 ***\n",
       "last                 -4.049e+13  4.573e+07    -885358   <2e-16 ***\n",
       "happen               -4.377e+14  4.406e+07   -9932710   <2e-16 ***\n",
       "black                 8.601e+14  3.684e+07   23346884   <2e-16 ***\n",
       "googl                -4.979e+14  2.303e+07  -21622830   <2e-16 ***\n",
       "launch               -1.388e+14  4.400e+07   -3155240   <2e-16 ***\n",
       "hey                  -2.041e+15  2.554e+07  -79909103   <2e-16 ***\n",
       "bit                   2.156e+14  2.799e+07    7705095   <2e-16 ***\n",
       "start                 1.624e+15  3.619e+07   44886931   <2e-16 ***\n",
       "true                 -3.056e+13  4.744e+07    -644057   <2e-16 ***\n",
       "tri                  -7.484e+14  2.578e+07  -29034993   <2e-16 ***\n",
       "pictur                1.592e+15  3.441e+07   46267563   <2e-16 ***\n",
       "motorola             -4.919e+14  4.287e+07  -11475512   <2e-16 ***\n",
       "smartphon             6.928e+14  4.402e+07   15739285   <2e-16 ***\n",
       "perfect              -2.680e+15  6.262e+07  -42794602   <2e-16 ***\n",
       "case                  1.426e+15  3.509e+07   40628747   <2e-16 ***\n",
       "differ                1.888e+15  3.527e+07   53522627   <2e-16 ***\n",
       "old                   4.888e+12  3.002e+07     162795   <2e-16 ***\n",
       "steve                -2.549e+15  3.778e+07  -67463557   <2e-16 ***\n",
       "price                -1.725e+15  2.412e+07  -71536329   <2e-16 ***\n",
       "wish                 -8.883e+14  3.563e+07  -24932842   <2e-16 ***\n",
       "twitter              -1.450e+15  2.130e+07  -68071316   <2e-16 ***\n",
       "play                 -3.061e+15  4.390e+07  -69739801   <2e-16 ***\n",
       "date                 -1.369e+15  4.424e+07  -30949637   <2e-16 ***\n",
       "thought               4.010e+15  3.416e+07  117379141   <2e-16 ***\n",
       "wont                  3.024e+13  2.439e+07    1239986   <2e-16 ***\n",
       "X7evenstarz           2.372e+15  4.542e+07   52219815   <2e-16 ***\n",
       "even                  1.134e+15  3.862e+07   29352304   <2e-16 ***\n",
       "doesnt               -2.871e+15  3.710e+07  -77408440   <2e-16 ***\n",
       "text                 -1.643e+15  2.855e+07  -57547233   <2e-16 ***\n",
       "fix                  -1.264e+14  3.280e+07   -3853871   <2e-16 ***\n",
       "ipod                 -1.590e+15  4.168e+07  -38135255   <2e-16 ***\n",
       "ipodplayerpromo      -2.364e+14  7.369e+07   -3207976   <2e-16 ***\n",
       "promoipodplayerpromo -5.682e+15  7.035e+07  -80773603   <2e-16 ***\n",
       "windowsphon           1.278e+15  3.529e+07   36216423   <2e-16 ***\n",
       "yall                 -5.390e+14  2.750e+07  -19600615   <2e-16 ***\n",
       "feel                 -5.561e+14  3.921e+07  -14183183   <2e-16 ***\n",
       "lmao                 -2.196e+15  4.065e+07  -54015928   <2e-16 ***\n",
       "ask                  -2.603e+15  3.861e+07  -67422965   <2e-16 ***\n",
       "siri                  1.977e+15  2.898e+07   68196079   <2e-16 ***\n",
       "fire                  4.033e+15  4.933e+07   81741960   <2e-16 ***\n",
       "avail                -1.164e+15  3.782e+07  -30789388   <2e-16 ***\n",
       "sinc                 -3.174e+14  3.599e+07   -8819880   <2e-16 ***\n",
       "mishiza              -4.640e+14  3.955e+07  -11730368   <2e-16 ***\n",
       "natz0711                     NA         NA         NA       NA    \n",
       "samsungsa                    NA         NA         NA       NA    \n",
       "money                 1.741e+15  6.131e+07   28401281   <2e-16 ***\n",
       "turn                  1.452e+15  3.881e+07   37397512   <2e-16 ***\n",
       "fun                  -3.445e+15  3.393e+07 -101558093   <2e-16 ***\n",
       "lol                   4.572e+14  2.226e+07   20533020   <2e-16 ***\n",
       "imessag               2.250e+15  3.977e+07   56580150   <2e-16 ***\n",
       "realli               -1.775e+15  1.961e+07  -90521310   <2e-16 ***\n",
       "tell                 -3.532e+15  3.032e+07 -116470900   <2e-16 ***\n",
       "man                  -5.136e+14  3.996e+07  -12850878   <2e-16 ***\n",
       "nfc                  -3.057e+15  4.427e+07  -69052373   <2e-16 ***\n",
       "everyth               8.864e+14  6.367e+07   13922861   <2e-16 ***\n",
       "promo                -2.064e+15  4.806e+07  -42944128   <2e-16 ***\n",
       "mean                  3.244e+14  4.017e+07    8073976   <2e-16 ***\n",
       "ppl                  -3.906e+14  2.959e+07  -13200218   <2e-16 ***\n",
       "team                  1.962e+15  4.279e+07   45841231   <2e-16 ***\n",
       "copi                  4.206e+15  4.424e+07   95059084   <2e-16 ***\n",
       "download              9.756e+14  4.755e+07   20514356   <2e-16 ***\n",
       "los                   3.543e+14  6.879e+07    5150317   <2e-16 ***\n",
       "nuevo                -6.058e+14  6.661e+07   -9094597   <2e-16 ***\n",
       "que                  -1.964e+15  2.548e+07  -77065298   <2e-16 ***\n",
       "person                1.771e+15  4.550e+07   38928516   <2e-16 ***\n",
       "share                -6.179e+14  3.103e+07  -19910106   <2e-16 ***\n",
       "para                 -1.584e+15  3.057e+07  -51813465   <2e-16 ***\n",
       "wonder               -2.854e+15  4.465e+07  -63920607   <2e-16 ***\n",
       "condescens           -4.007e+15  6.016e+07  -66612256   <2e-16 ***\n",
       "photog                       NA         NA         NA       NA    \n",
       "photographi                  NA         NA         NA       NA    \n",
       "quiet                        NA         NA         NA       NA    \n",
       "switch                2.803e+15  3.713e+07   75501400   <2e-16 ***\n",
       "fail                  6.925e+14  3.510e+07   19728666   <2e-16 ***\n",
       "cheap                -1.204e+14  3.328e+07   -3618715   <2e-16 ***\n",
       "stand                 9.705e+14  4.622e+07   20999392   <2e-16 ***\n",
       "figur                -1.263e+15  4.623e+07  -27318839   <2e-16 ***\n",
       "worst                 3.243e+14  4.205e+07    7712930   <2e-16 ***\n",
       "mayb                  1.983e+15  3.961e+07   50075340   <2e-16 ***\n",
       "X244tsuyoponzu       -4.021e+14  3.048e+07  -13190372   <2e-16 ***\n",
       "white                 1.158e+15  3.818e+07   30329052   <2e-16 ***\n",
       "card                  8.691e+15  5.740e+07  151394655   <2e-16 ***\n",
       "discontinu           -1.353e+14  1.223e+08   -1106025   <2e-16 ***\n",
       "recommend                    NA         NA         NA       NA    \n",
       "add                  -4.016e+14  6.062e+07   -6623965   <2e-16 ***\n",
       "china                 2.659e+15  2.605e+07  102073321   <2e-16 ***\n",
       "email                 8.398e+14  4.057e+07   20700007   <2e-16 ***\n",
       "internet              3.757e+15  4.725e+07   79519448   <2e-16 ***\n",
       "line                  7.139e+14  5.901e+07   12096809   <2e-16 ***\n",
       "nsa                   2.668e+15  3.148e+07   84756235   <2e-16 ***\n",
       "event                -6.740e+13  3.959e+07   -1702426   <2e-16 ***\n",
       "chang                 4.140e+14  3.216e+07   12871655   <2e-16 ***\n",
       "isnt                  9.070e+14  3.342e+07   27140007   <2e-16 ***\n",
       "hate                  6.019e+15  2.513e+07  239483427   <2e-16 ***\n",
       "crack                 2.919e+15  4.425e+07   65969691   <2e-16 ***\n",
       "emoji                 2.453e+15  3.459e+07   70903832   <2e-16 ***\n",
       "stuff                 1.405e+15  3.041e+07   46217821   <2e-16 ***\n",
       "theyr                 4.527e+15  4.140e+07  109366980   <2e-16 ***\n",
       "short                 2.972e+15  4.595e+07   64674702   <2e-16 ***\n",
       "condom                2.339e+15  4.130e+07   56629182   <2e-16 ***\n",
       "femal                        NA         NA         NA       NA    \n",
       "charger               2.035e+15  2.806e+07   72545184   <2e-16 ***\n",
       "facebook              2.310e+15  9.430e+07   24501398   <2e-16 ***\n",
       "httpbitly18xc8dk     -1.953e+15  9.701e+07  -20134245   <2e-16 ***\n",
       "carbon               -2.081e+15  1.194e+08  -17423107   <2e-16 ***\n",
       "cdp                  -1.975e+15  8.722e+07  -22643404   <2e-16 ***\n",
       "emiss                 9.001e+14  1.884e+08    4777230   <2e-16 ***\n",
       "wtf                   2.464e+15  3.388e+07   72742262   <2e-16 ***\n",
       "amazon               -1.108e+15  9.950e+07  -11139310   <2e-16 ***\n",
       "disappoint            4.084e+15  3.989e+07  102374619   <2e-16 ***\n",
       "lock                 -4.886e+14  4.315e+07  -11322582   <2e-16 ***\n",
       "stupid                4.463e+15  3.776e+07  118196924   <2e-16 ***\n",
       "yooo                  3.797e+15  4.613e+07   82307101   <2e-16 ***\n",
       "divulg                9.829e+15  2.769e+08   35493809   <2e-16 ***\n",
       "refus                -8.290e+15  2.319e+08  -35753881   <2e-16 ***\n",
       "shame                 7.769e+15  8.598e+07   90353017   <2e-16 ***\n",
       "---\n",
       "Signif. codes:  0 ‘***’ 0.001 ‘**’ 0.01 ‘*’ 0.05 ‘.’ 0.1 ‘ ’ 1\n",
       "\n",
       "(Dispersion parameter for binomial family taken to be 1)\n",
       "\n",
       "    Null deviance:  708.98  on 825  degrees of freedom\n",
       "Residual deviance: 1730.10  on 523  degrees of freedom\n",
       "AIC: 2336.1\n",
       "\n",
       "Number of Fisher Scoring iterations: 25\n"
      ]
     },
     "metadata": {},
     "output_type": "display_data"
    }
   ],
   "source": [
    "tweetLog = glm(Negative ~  ., data = trainSparse, family = \"binomial\")\n",
    "summary(tweetLog)"
   ]
  },
  {
   "cell_type": "code",
   "execution_count": 53,
   "metadata": {},
   "outputs": [
    {
     "name": "stderr",
     "output_type": "stream",
     "text": [
      "Warning message in predict.lm(object, newdata, se.fit, scale = 1, type = ifelse(type == :\n",
      "“prediction from a rank-deficient fit may be misleading”"
     ]
    }
   ],
   "source": [
    "predictions = predict(tweetLog, newdata=testSparse, type=\"response\")"
   ]
  },
  {
   "cell_type": "code",
   "execution_count": 55,
   "metadata": {},
   "outputs": [
    {
     "data": {
      "text/plain": [
       "       \n",
       "        FALSE TRUE\n",
       "  FALSE   260   40\n",
       "  TRUE     30   25"
      ]
     },
     "metadata": {},
     "output_type": "display_data"
    }
   ],
   "source": [
    "table(testSparse$Negative,predictions >= 0.5)"
   ]
  },
  {
   "cell_type": "code",
   "execution_count": 56,
   "metadata": {},
   "outputs": [
    {
     "data": {
      "text/html": [
       "0.802816901408451"
      ],
      "text/latex": [
       "0.802816901408451"
      ],
      "text/markdown": [
       "0.802816901408451"
      ],
      "text/plain": [
       "[1] 0.8028169"
      ]
     },
     "metadata": {},
     "output_type": "display_data"
    }
   ],
   "source": [
    "accLog = (260 +  25)/nrow(testSparse)\n",
    "accLog"
   ]
  },
  {
   "cell_type": "code",
   "execution_count": null,
   "metadata": {},
   "outputs": [],
   "source": []
  }
 ],
 "metadata": {
  "kernelspec": {
   "display_name": "R",
   "language": "R",
   "name": "ir"
  },
  "language_info": {
   "codemirror_mode": "r",
   "file_extension": ".r",
   "mimetype": "text/x-r-source",
   "name": "R",
   "pygments_lexer": "r",
   "version": "3.5.0"
  }
 },
 "nbformat": 4,
 "nbformat_minor": 2
}
