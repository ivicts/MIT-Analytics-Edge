{
 "cells": [
  {
   "cell_type": "code",
   "execution_count": 1,
   "metadata": {},
   "outputs": [],
   "source": [
    "setwd(\"/home/victor/OneDrive/Online Courses/MITx 15.071x The Analytics Edge\")"
   ]
  },
  {
   "cell_type": "code",
   "execution_count": 2,
   "metadata": {},
   "outputs": [
    {
     "name": "stdout",
     "output_type": "stream",
     "text": [
      "'data.frame':\t1232 obs. of  15 variables:\n",
      " $ Team        : Factor w/ 39 levels \"ANA\",\"ARI\",\"ATL\",..: 2 3 4 5 7 8 9 10 11 12 ...\n",
      " $ League      : Factor w/ 2 levels \"AL\",\"NL\": 2 2 1 1 2 1 2 1 2 1 ...\n",
      " $ Year        : int  2012 2012 2012 2012 2012 2012 2012 2012 2012 2012 ...\n",
      " $ RS          : int  734 700 712 734 613 748 669 667 758 726 ...\n",
      " $ RA          : int  688 600 705 806 759 676 588 845 890 670 ...\n",
      " $ W           : int  81 94 93 69 61 85 97 68 64 88 ...\n",
      " $ OBP         : num  0.328 0.32 0.311 0.315 0.302 0.318 0.315 0.324 0.33 0.335 ...\n",
      " $ SLG         : num  0.418 0.389 0.417 0.415 0.378 0.422 0.411 0.381 0.436 0.422 ...\n",
      " $ BA          : num  0.259 0.247 0.247 0.26 0.24 0.255 0.251 0.251 0.274 0.268 ...\n",
      " $ Playoffs    : int  0 1 1 0 0 0 1 0 0 1 ...\n",
      " $ RankSeason  : int  NA 4 5 NA NA NA 2 NA NA 6 ...\n",
      " $ RankPlayoffs: int  NA 5 4 NA NA NA 4 NA NA 2 ...\n",
      " $ G           : int  162 162 162 162 162 162 162 162 162 162 ...\n",
      " $ OOBP        : num  0.317 0.306 0.315 0.331 0.335 0.319 0.305 0.336 0.357 0.314 ...\n",
      " $ OSLG        : num  0.415 0.378 0.403 0.428 0.424 0.405 0.39 0.43 0.47 0.402 ...\n"
     ]
    },
    {
     "data": {
      "text/plain": [
       "      Team     League        Year            RS               RA        \n",
       " BAL    : 47   AL:616   Min.   :1962   Min.   : 463.0   Min.   : 472.0  \n",
       " BOS    : 47   NL:616   1st Qu.:1977   1st Qu.: 652.0   1st Qu.: 649.8  \n",
       " CHC    : 47            Median :1989   Median : 711.0   Median : 709.0  \n",
       " CHW    : 47            Mean   :1989   Mean   : 715.1   Mean   : 715.1  \n",
       " CIN    : 47            3rd Qu.:2002   3rd Qu.: 775.0   3rd Qu.: 774.2  \n",
       " CLE    : 47            Max.   :2012   Max.   :1009.0   Max.   :1103.0  \n",
       " (Other):950                                                            \n",
       "       W              OBP              SLG               BA        \n",
       " Min.   : 40.0   Min.   :0.2770   Min.   :0.3010   Min.   :0.2140  \n",
       " 1st Qu.: 73.0   1st Qu.:0.3170   1st Qu.:0.3750   1st Qu.:0.2510  \n",
       " Median : 81.0   Median :0.3260   Median :0.3960   Median :0.2600  \n",
       " Mean   : 80.9   Mean   :0.3263   Mean   :0.3973   Mean   :0.2593  \n",
       " 3rd Qu.: 89.0   3rd Qu.:0.3370   3rd Qu.:0.4210   3rd Qu.:0.2680  \n",
       " Max.   :116.0   Max.   :0.3730   Max.   :0.4910   Max.   :0.2940  \n",
       "                                                                   \n",
       "    Playoffs        RankSeason     RankPlayoffs         G        \n",
       " Min.   :0.0000   Min.   :1.000   Min.   :1.000   Min.   :158.0  \n",
       " 1st Qu.:0.0000   1st Qu.:2.000   1st Qu.:2.000   1st Qu.:162.0  \n",
       " Median :0.0000   Median :3.000   Median :3.000   Median :162.0  \n",
       " Mean   :0.1981   Mean   :3.123   Mean   :2.717   Mean   :161.9  \n",
       " 3rd Qu.:0.0000   3rd Qu.:4.000   3rd Qu.:4.000   3rd Qu.:162.0  \n",
       " Max.   :1.0000   Max.   :8.000   Max.   :5.000   Max.   :165.0  \n",
       "                  NA's   :988     NA's   :988                    \n",
       "      OOBP             OSLG       \n",
       " Min.   :0.2940   Min.   :0.3460  \n",
       " 1st Qu.:0.3210   1st Qu.:0.4010  \n",
       " Median :0.3310   Median :0.4190  \n",
       " Mean   :0.3323   Mean   :0.4197  \n",
       " 3rd Qu.:0.3430   3rd Qu.:0.4380  \n",
       " Max.   :0.3840   Max.   :0.4990  \n",
       " NA's   :812      NA's   :812     "
      ]
     },
     "metadata": {},
     "output_type": "display_data"
    }
   ],
   "source": [
    "baseball = read.csv(\"Unit2/Unit2/baseball.csv\")\n",
    "str(baseball)\n",
    "summary(baseball)"
   ]
  },
  {
   "cell_type": "code",
   "execution_count": 3,
   "metadata": {},
   "outputs": [
    {
     "data": {
      "text/html": [
       "47"
      ],
      "text/latex": [
       "47"
      ],
      "text/markdown": [
       "47"
      ],
      "text/plain": [
       "[1] 47"
      ]
     },
     "metadata": {},
     "output_type": "display_data"
    }
   ],
   "source": [
    "length(table(baseball$Year))"
   ]
  },
  {
   "cell_type": "code",
   "execution_count": 4,
   "metadata": {},
   "outputs": [],
   "source": [
    "baseball = subset(baseball, Playoffs == 1)"
   ]
  },
  {
   "cell_type": "code",
   "execution_count": 5,
   "metadata": {
    "scrolled": true
   },
   "outputs": [
    {
     "name": "stdout",
     "output_type": "stream",
     "text": [
      "'data.frame':\t244 obs. of  15 variables:\n",
      " $ Team        : Factor w/ 39 levels \"ANA\",\"ARI\",\"ATL\",..: 3 4 9 12 25 26 32 33 36 39 ...\n",
      " $ League      : Factor w/ 2 levels \"AL\",\"NL\": 2 1 2 1 1 1 2 2 1 2 ...\n",
      " $ Year        : int  2012 2012 2012 2012 2012 2012 2012 2012 2012 2012 ...\n",
      " $ RS          : int  700 712 669 726 804 713 718 765 808 731 ...\n",
      " $ RA          : int  600 705 588 670 668 614 649 648 707 594 ...\n",
      " $ W           : int  94 93 97 88 95 94 94 88 93 98 ...\n",
      " $ OBP         : num  0.32 0.311 0.315 0.335 0.337 0.31 0.327 0.338 0.334 0.322 ...\n",
      " $ SLG         : num  0.389 0.417 0.411 0.422 0.453 0.404 0.397 0.421 0.446 0.428 ...\n",
      " $ BA          : num  0.247 0.247 0.251 0.268 0.265 0.238 0.269 0.271 0.273 0.261 ...\n",
      " $ Playoffs    : int  1 1 1 1 1 1 1 1 1 1 ...\n",
      " $ RankSeason  : int  4 5 2 6 3 4 4 6 5 1 ...\n",
      " $ RankPlayoffs: int  5 4 4 2 3 4 1 3 5 4 ...\n",
      " $ G           : int  162 162 162 162 162 162 162 162 162 162 ...\n",
      " $ OOBP        : num  0.306 0.315 0.305 0.314 0.311 0.306 0.313 0.313 0.309 0.303 ...\n",
      " $ OSLG        : num  0.378 0.403 0.39 0.402 0.419 0.378 0.393 0.387 0.408 0.373 ...\n"
     ]
    }
   ],
   "source": [
    "str(baseball)"
   ]
  },
  {
   "cell_type": "code",
   "execution_count": 6,
   "metadata": {},
   "outputs": [
    {
     "data": {
      "text/plain": [
       "\n",
       "1962 1963 1964 1965 1966 1967 1968 1969 1970 1971 1973 1974 1975 1976 1977 1978 \n",
       "   2    2    2    2    2    2    2    4    4    4    4    4    4    4    4    4 \n",
       "1979 1980 1982 1983 1984 1985 1986 1987 1988 1989 1990 1991 1992 1993 1996 1997 \n",
       "   4    4    4    4    4    4    4    4    4    4    4    4    4    4    8    8 \n",
       "1998 1999 2000 2001 2002 2003 2004 2005 2006 2007 2008 2009 2010 2011 2012 \n",
       "   8    8    8    8    8    8    8    8    8    8    8    8    8    8   10 "
      ]
     },
     "metadata": {},
     "output_type": "display_data"
    }
   ],
   "source": [
    "table(baseball$Year)"
   ]
  },
  {
   "cell_type": "code",
   "execution_count": 7,
   "metadata": {},
   "outputs": [
    {
     "data": {
      "text/plain": [
       "\n",
       " 2  4  8 10 \n",
       " 7 23 16  1 "
      ]
     },
     "metadata": {},
     "output_type": "display_data"
    }
   ],
   "source": [
    "table(table(baseball$Year))"
   ]
  },
  {
   "cell_type": "code",
   "execution_count": 8,
   "metadata": {},
   "outputs": [
    {
     "data": {
      "text/plain": [
       "\n",
       "1962 1963 1964 1965 1966 1967 1968 1969 1970 1971 1973 1974 1975 1976 1977 1978 \n",
       "   2    2    2    2    2    2    2    4    4    4    4    4    4    4    4    4 \n",
       "1979 1980 1982 1983 1984 1985 1986 1987 1988 1989 1990 1991 1992 1993 1996 1997 \n",
       "   4    4    4    4    4    4    4    4    4    4    4    4    4    4    8    8 \n",
       "1998 1999 2000 2001 2002 2003 2004 2005 2006 2007 2008 2009 2010 2011 2012 \n",
       "   8    8    8    8    8    8    8    8    8    8    8    8    8    8   10 "
      ]
     },
     "metadata": {},
     "output_type": "display_data"
    }
   ],
   "source": [
    "PlayoffTable = table(baseball$Year)\n",
    "PlayoffTable"
   ]
  },
  {
   "cell_type": "code",
   "execution_count": 9,
   "metadata": {},
   "outputs": [
    {
     "name": "stdout",
     "output_type": "stream",
     "text": [
      " chr [1:47] \"1962\" \"1963\" \"1964\" \"1965\" \"1966\" \"1967\" \"1968\" \"1969\" \"1970\" ...\n"
     ]
    }
   ],
   "source": [
    "str(names(PlayoffTable))"
   ]
  },
  {
   "cell_type": "code",
   "execution_count": 10,
   "metadata": {},
   "outputs": [
    {
     "data": {
      "text/plain": [
       "\n",
       "1990 2001 \n",
       "   4    8 "
      ]
     },
     "metadata": {},
     "output_type": "display_data"
    }
   ],
   "source": [
    "PlayoffTable[c(\"1990\", \"2001\")]"
   ]
  },
  {
   "cell_type": "code",
   "execution_count": 11,
   "metadata": {},
   "outputs": [],
   "source": [
    "baseball$NumCompetitors = PlayoffTable[as.character(baseball$Year)] "
   ]
  },
  {
   "cell_type": "code",
   "execution_count": 12,
   "metadata": {},
   "outputs": [
    {
     "data": {
      "text/plain": [
       "\n",
       "  2   4   8  10 \n",
       " 14  92 128  10 "
      ]
     },
     "metadata": {},
     "output_type": "display_data"
    }
   ],
   "source": [
    "table(baseball$NumCompetitors)"
   ]
  },
  {
   "cell_type": "code",
   "execution_count": 13,
   "metadata": {},
   "outputs": [],
   "source": [
    "baseball$WorldSeries = as.numeric(baseball$RankPlayoffs == 1)"
   ]
  },
  {
   "cell_type": "code",
   "execution_count": 14,
   "metadata": {},
   "outputs": [
    {
     "data": {
      "text/plain": [
       "\n",
       "  0   1 \n",
       "197  47 "
      ]
     },
     "metadata": {},
     "output_type": "display_data"
    }
   ],
   "source": [
    "table(baseball$WorldSeries)"
   ]
  },
  {
   "cell_type": "code",
   "execution_count": 15,
   "metadata": {},
   "outputs": [
    {
     "data": {
      "text/plain": [
       "\n",
       "Call:\n",
       "glm(formula = WorldSeries ~ Year, family = \"binomial\", data = baseball)\n",
       "\n",
       "Deviance Residuals: \n",
       "    Min       1Q   Median       3Q      Max  \n",
       "-1.0297  -0.6797  -0.5435  -0.4648   2.1504  \n",
       "\n",
       "Coefficients:\n",
       "            Estimate Std. Error z value Pr(>|z|)   \n",
       "(Intercept) 72.23602   22.64409    3.19  0.00142 **\n",
       "Year        -0.03700    0.01138   -3.25  0.00115 **\n",
       "---\n",
       "Signif. codes:  0 ‘***’ 0.001 ‘**’ 0.01 ‘*’ 0.05 ‘.’ 0.1 ‘ ’ 1\n",
       "\n",
       "(Dispersion parameter for binomial family taken to be 1)\n",
       "\n",
       "    Null deviance: 239.12  on 243  degrees of freedom\n",
       "Residual deviance: 228.35  on 242  degrees of freedom\n",
       "AIC: 232.35\n",
       "\n",
       "Number of Fisher Scoring iterations: 4\n"
      ]
     },
     "metadata": {},
     "output_type": "display_data"
    }
   ],
   "source": [
    "bivariateYear = glm(WorldSeries~Year, data=baseball, family=\"binomial\")\n",
    "summary(bivariateYear)"
   ]
  },
  {
   "cell_type": "code",
   "execution_count": 16,
   "metadata": {},
   "outputs": [
    {
     "data": {
      "text/plain": [
       "\n",
       "Call:\n",
       "glm(formula = WorldSeries ~ RS, family = \"binomial\", data = baseball)\n",
       "\n",
       "Deviance Residuals: \n",
       "    Min       1Q   Median       3Q      Max  \n",
       "-0.8254  -0.6819  -0.6363  -0.5561   2.0308  \n",
       "\n",
       "Coefficients:\n",
       "             Estimate Std. Error z value Pr(>|z|)\n",
       "(Intercept)  0.661226   1.636494   0.404    0.686\n",
       "RS          -0.002681   0.002098  -1.278    0.201\n",
       "\n",
       "(Dispersion parameter for binomial family taken to be 1)\n",
       "\n",
       "    Null deviance: 239.12  on 243  degrees of freedom\n",
       "Residual deviance: 237.45  on 242  degrees of freedom\n",
       "AIC: 241.45\n",
       "\n",
       "Number of Fisher Scoring iterations: 4\n"
      ]
     },
     "metadata": {},
     "output_type": "display_data"
    }
   ],
   "source": [
    "bivariateRS = glm(WorldSeries~RS, data=baseball, family=\"binomial\")\n",
    "summary(bivariateRS)"
   ]
  },
  {
   "cell_type": "code",
   "execution_count": 17,
   "metadata": {},
   "outputs": [
    {
     "data": {
      "text/plain": [
       "\n",
       "Call:\n",
       "glm(formula = WorldSeries ~ RA, family = \"binomial\", data = baseball)\n",
       "\n",
       "Deviance Residuals: \n",
       "    Min       1Q   Median       3Q      Max  \n",
       "-0.9749  -0.6883  -0.6118  -0.4746   2.1577  \n",
       "\n",
       "Coefficients:\n",
       "             Estimate Std. Error z value Pr(>|z|)  \n",
       "(Intercept)  1.888174   1.483831   1.272   0.2032  \n",
       "RA          -0.005053   0.002273  -2.223   0.0262 *\n",
       "---\n",
       "Signif. codes:  0 ‘***’ 0.001 ‘**’ 0.01 ‘*’ 0.05 ‘.’ 0.1 ‘ ’ 1\n",
       "\n",
       "(Dispersion parameter for binomial family taken to be 1)\n",
       "\n",
       "    Null deviance: 239.12  on 243  degrees of freedom\n",
       "Residual deviance: 233.88  on 242  degrees of freedom\n",
       "AIC: 237.88\n",
       "\n",
       "Number of Fisher Scoring iterations: 4\n"
      ]
     },
     "metadata": {},
     "output_type": "display_data"
    }
   ],
   "source": [
    "bivariateRA = glm(WorldSeries~RA, data=baseball, family=\"binomial\")\n",
    "summary(bivariateRA)"
   ]
  },
  {
   "cell_type": "code",
   "execution_count": 18,
   "metadata": {},
   "outputs": [
    {
     "data": {
      "text/plain": [
       "\n",
       "Call:\n",
       "glm(formula = WorldSeries ~ W, family = \"binomial\", data = baseball)\n",
       "\n",
       "Deviance Residuals: \n",
       "    Min       1Q   Median       3Q      Max  \n",
       "-1.0623  -0.6777  -0.6117  -0.5367   2.1254  \n",
       "\n",
       "Coefficients:\n",
       "            Estimate Std. Error z value Pr(>|z|)  \n",
       "(Intercept) -6.85568    2.87620  -2.384   0.0171 *\n",
       "W            0.05671    0.02988   1.898   0.0577 .\n",
       "---\n",
       "Signif. codes:  0 ‘***’ 0.001 ‘**’ 0.01 ‘*’ 0.05 ‘.’ 0.1 ‘ ’ 1\n",
       "\n",
       "(Dispersion parameter for binomial family taken to be 1)\n",
       "\n",
       "    Null deviance: 239.12  on 243  degrees of freedom\n",
       "Residual deviance: 235.51  on 242  degrees of freedom\n",
       "AIC: 239.51\n",
       "\n",
       "Number of Fisher Scoring iterations: 4\n"
      ]
     },
     "metadata": {},
     "output_type": "display_data"
    }
   ],
   "source": [
    "bivariateW = glm(WorldSeries~W, data=baseball, family=\"binomial\")\n",
    "summary(bivariateW)"
   ]
  },
  {
   "cell_type": "code",
   "execution_count": 19,
   "metadata": {},
   "outputs": [
    {
     "data": {
      "text/plain": [
       "\n",
       "Call:\n",
       "glm(formula = WorldSeries ~ OBP, family = \"binomial\", data = baseball)\n",
       "\n",
       "Deviance Residuals: \n",
       "    Min       1Q   Median       3Q      Max  \n",
       "-0.8071  -0.6749  -0.6365  -0.5797   1.9753  \n",
       "\n",
       "Coefficients:\n",
       "            Estimate Std. Error z value Pr(>|z|)\n",
       "(Intercept)    2.741      3.989   0.687    0.492\n",
       "OBP          -12.402     11.865  -1.045    0.296\n",
       "\n",
       "(Dispersion parameter for binomial family taken to be 1)\n",
       "\n",
       "    Null deviance: 239.12  on 243  degrees of freedom\n",
       "Residual deviance: 238.02  on 242  degrees of freedom\n",
       "AIC: 242.02\n",
       "\n",
       "Number of Fisher Scoring iterations: 4\n"
      ]
     },
     "metadata": {},
     "output_type": "display_data"
    }
   ],
   "source": [
    "bivariateOBP = glm(WorldSeries~OBP, data=baseball, family=\"binomial\")\n",
    "summary(bivariateOBP)"
   ]
  },
  {
   "cell_type": "code",
   "execution_count": 20,
   "metadata": {},
   "outputs": [
    {
     "data": {
      "text/plain": [
       "\n",
       "Call:\n",
       "glm(formula = WorldSeries ~ SLG, family = \"binomial\", data = baseball)\n",
       "\n",
       "Deviance Residuals: \n",
       "    Min       1Q   Median       3Q      Max  \n",
       "-0.9498  -0.6953  -0.6088  -0.5197   2.1136  \n",
       "\n",
       "Coefficients:\n",
       "            Estimate Std. Error z value Pr(>|z|)  \n",
       "(Intercept)    3.200      2.358   1.357   0.1748  \n",
       "SLG          -11.130      5.689  -1.956   0.0504 .\n",
       "---\n",
       "Signif. codes:  0 ‘***’ 0.001 ‘**’ 0.01 ‘*’ 0.05 ‘.’ 0.1 ‘ ’ 1\n",
       "\n",
       "(Dispersion parameter for binomial family taken to be 1)\n",
       "\n",
       "    Null deviance: 239.12  on 243  degrees of freedom\n",
       "Residual deviance: 235.23  on 242  degrees of freedom\n",
       "AIC: 239.23\n",
       "\n",
       "Number of Fisher Scoring iterations: 4\n"
      ]
     },
     "metadata": {},
     "output_type": "display_data"
    }
   ],
   "source": [
    "bivariateSLG = glm(WorldSeries~SLG, data=baseball, family=\"binomial\")\n",
    "summary(bivariateSLG)"
   ]
  },
  {
   "cell_type": "code",
   "execution_count": 21,
   "metadata": {},
   "outputs": [
    {
     "data": {
      "text/plain": [
       "\n",
       "Call:\n",
       "glm(formula = WorldSeries ~ BA, family = \"binomial\", data = baseball)\n",
       "\n",
       "Deviance Residuals: \n",
       "    Min       1Q   Median       3Q      Max  \n",
       "-0.6797  -0.6592  -0.6513  -0.6389   1.8431  \n",
       "\n",
       "Coefficients:\n",
       "            Estimate Std. Error z value Pr(>|z|)\n",
       "(Intercept)  -0.6392     3.8988  -0.164    0.870\n",
       "BA           -2.9765    14.6123  -0.204    0.839\n",
       "\n",
       "(Dispersion parameter for binomial family taken to be 1)\n",
       "\n",
       "    Null deviance: 239.12  on 243  degrees of freedom\n",
       "Residual deviance: 239.08  on 242  degrees of freedom\n",
       "AIC: 243.08\n",
       "\n",
       "Number of Fisher Scoring iterations: 4\n"
      ]
     },
     "metadata": {},
     "output_type": "display_data"
    }
   ],
   "source": [
    "bivariateBA = glm(WorldSeries~BA, data=baseball, family=\"binomial\")\n",
    "summary(bivariateBA)"
   ]
  },
  {
   "cell_type": "code",
   "execution_count": 22,
   "metadata": {},
   "outputs": [
    {
     "data": {
      "text/plain": [
       "\n",
       "Call:\n",
       "glm(formula = WorldSeries ~ RankSeason, family = \"binomial\", \n",
       "    data = baseball)\n",
       "\n",
       "Deviance Residuals: \n",
       "    Min       1Q   Median       3Q      Max  \n",
       "-0.7805  -0.7131  -0.5918  -0.4882   2.1781  \n",
       "\n",
       "Coefficients:\n",
       "            Estimate Std. Error z value Pr(>|z|)  \n",
       "(Intercept)  -0.8256     0.3268  -2.527   0.0115 *\n",
       "RankSeason   -0.2069     0.1027  -2.016   0.0438 *\n",
       "---\n",
       "Signif. codes:  0 ‘***’ 0.001 ‘**’ 0.01 ‘*’ 0.05 ‘.’ 0.1 ‘ ’ 1\n",
       "\n",
       "(Dispersion parameter for binomial family taken to be 1)\n",
       "\n",
       "    Null deviance: 239.12  on 243  degrees of freedom\n",
       "Residual deviance: 234.75  on 242  degrees of freedom\n",
       "AIC: 238.75\n",
       "\n",
       "Number of Fisher Scoring iterations: 4\n"
      ]
     },
     "metadata": {},
     "output_type": "display_data"
    }
   ],
   "source": [
    "bivariateRankSeason = glm(WorldSeries~RankSeason, data=baseball, family=\"binomial\")\n",
    "summary(bivariateRankSeason)"
   ]
  },
  {
   "cell_type": "code",
   "execution_count": 23,
   "metadata": {},
   "outputs": [
    {
     "data": {
      "text/plain": [
       "\n",
       "Call:\n",
       "glm(formula = WorldSeries ~ OOBP, family = \"binomial\", data = baseball)\n",
       "\n",
       "Deviance Residuals: \n",
       "    Min       1Q   Median       3Q      Max  \n",
       "-0.5318  -0.5176  -0.5106  -0.5023   2.0697  \n",
       "\n",
       "Coefficients:\n",
       "            Estimate Std. Error z value Pr(>|z|)\n",
       "(Intercept)  -0.9306     8.3728  -0.111    0.912\n",
       "OOBP         -3.2233    26.0587  -0.124    0.902\n",
       "\n",
       "(Dispersion parameter for binomial family taken to be 1)\n",
       "\n",
       "    Null deviance: 84.926  on 113  degrees of freedom\n",
       "Residual deviance: 84.910  on 112  degrees of freedom\n",
       "  (130 observations deleted due to missingness)\n",
       "AIC: 88.91\n",
       "\n",
       "Number of Fisher Scoring iterations: 4\n"
      ]
     },
     "metadata": {},
     "output_type": "display_data"
    }
   ],
   "source": [
    "bivariateOOBP = glm(WorldSeries~OOBP, data=baseball, family=\"binomial\")\n",
    "summary(bivariateOOBP)"
   ]
  },
  {
   "cell_type": "code",
   "execution_count": 24,
   "metadata": {},
   "outputs": [
    {
     "data": {
      "text/plain": [
       "\n",
       "Call:\n",
       "glm(formula = WorldSeries ~ OSLG, family = \"binomial\", data = baseball)\n",
       "\n",
       "Deviance Residuals: \n",
       "    Min       1Q   Median       3Q      Max  \n",
       "-0.5610  -0.5209  -0.5088  -0.4902   2.1268  \n",
       "\n",
       "Coefficients:\n",
       "            Estimate Std. Error z value Pr(>|z|)\n",
       "(Intercept) -0.08725    6.07285  -0.014    0.989\n",
       "OSLG        -4.65992   15.06881  -0.309    0.757\n",
       "\n",
       "(Dispersion parameter for binomial family taken to be 1)\n",
       "\n",
       "    Null deviance: 84.926  on 113  degrees of freedom\n",
       "Residual deviance: 84.830  on 112  degrees of freedom\n",
       "  (130 observations deleted due to missingness)\n",
       "AIC: 88.83\n",
       "\n",
       "Number of Fisher Scoring iterations: 4\n"
      ]
     },
     "metadata": {},
     "output_type": "display_data"
    }
   ],
   "source": [
    "bivariateOSLG = glm(WorldSeries~OSLG, data=baseball, family=\"binomial\")\n",
    "summary(bivariateOSLG)"
   ]
  },
  {
   "cell_type": "code",
   "execution_count": 25,
   "metadata": {},
   "outputs": [
    {
     "data": {
      "text/plain": [
       "\n",
       "Call:\n",
       "glm(formula = WorldSeries ~ NumCompetitors, family = \"binomial\", \n",
       "    data = baseball)\n",
       "\n",
       "Deviance Residuals: \n",
       "    Min       1Q   Median       3Q      Max  \n",
       "-0.9871  -0.8017  -0.5089  -0.5089   2.2643  \n",
       "\n",
       "Coefficients:\n",
       "               Estimate Std. Error z value Pr(>|z|)    \n",
       "(Intercept)     0.03868    0.43750   0.088 0.929559    \n",
       "NumCompetitors -0.25220    0.07422  -3.398 0.000678 ***\n",
       "---\n",
       "Signif. codes:  0 ‘***’ 0.001 ‘**’ 0.01 ‘*’ 0.05 ‘.’ 0.1 ‘ ’ 1\n",
       "\n",
       "(Dispersion parameter for binomial family taken to be 1)\n",
       "\n",
       "    Null deviance: 239.12  on 243  degrees of freedom\n",
       "Residual deviance: 226.96  on 242  degrees of freedom\n",
       "AIC: 230.96\n",
       "\n",
       "Number of Fisher Scoring iterations: 4\n"
      ]
     },
     "metadata": {},
     "output_type": "display_data"
    }
   ],
   "source": [
    "bivariateNumCompetitors = glm(WorldSeries~NumCompetitors, data=baseball, family=\"binomial\")\n",
    "summary(bivariateNumCompetitors)"
   ]
  },
  {
   "cell_type": "code",
   "execution_count": 26,
   "metadata": {},
   "outputs": [
    {
     "data": {
      "text/plain": [
       "\n",
       "Call:\n",
       "glm(formula = WorldSeries ~ League, family = \"binomial\", data = baseball)\n",
       "\n",
       "Deviance Residuals: \n",
       "    Min       1Q   Median       3Q      Max  \n",
       "-0.6772  -0.6772  -0.6306  -0.6306   1.8509  \n",
       "\n",
       "Coefficients:\n",
       "            Estimate Std. Error z value Pr(>|z|)    \n",
       "(Intercept)  -1.3558     0.2243  -6.045  1.5e-09 ***\n",
       "LeagueNL     -0.1583     0.3252  -0.487    0.626    \n",
       "---\n",
       "Signif. codes:  0 ‘***’ 0.001 ‘**’ 0.01 ‘*’ 0.05 ‘.’ 0.1 ‘ ’ 1\n",
       "\n",
       "(Dispersion parameter for binomial family taken to be 1)\n",
       "\n",
       "    Null deviance: 239.12  on 243  degrees of freedom\n",
       "Residual deviance: 238.88  on 242  degrees of freedom\n",
       "AIC: 242.88\n",
       "\n",
       "Number of Fisher Scoring iterations: 4\n"
      ]
     },
     "metadata": {},
     "output_type": "display_data"
    }
   ],
   "source": [
    "bivariateLeague = glm(WorldSeries~League, data=baseball, family=\"binomial\")\n",
    "summary(bivariateLeague)"
   ]
  },
  {
   "cell_type": "code",
   "execution_count": 27,
   "metadata": {},
   "outputs": [
    {
     "data": {
      "text/plain": [
       "\n",
       "Call:\n",
       "glm(formula = WorldSeries ~ Year + RA + RankSeason + NumCompetitors, \n",
       "    family = binomial, data = baseball)\n",
       "\n",
       "Deviance Residuals: \n",
       "    Min       1Q   Median       3Q      Max  \n",
       "-1.0336  -0.7689  -0.5139  -0.4583   2.2195  \n",
       "\n",
       "Coefficients:\n",
       "                 Estimate Std. Error z value Pr(>|z|)\n",
       "(Intercept)    12.5874376 53.6474210   0.235    0.814\n",
       "Year           -0.0061425  0.0274665  -0.224    0.823\n",
       "RA             -0.0008238  0.0027391  -0.301    0.764\n",
       "RankSeason     -0.0685046  0.1203459  -0.569    0.569\n",
       "NumCompetitors -0.1794264  0.1815933  -0.988    0.323\n",
       "\n",
       "(Dispersion parameter for binomial family taken to be 1)\n",
       "\n",
       "    Null deviance: 239.12  on 243  degrees of freedom\n",
       "Residual deviance: 226.37  on 239  degrees of freedom\n",
       "AIC: 236.37\n",
       "\n",
       "Number of Fisher Scoring iterations: 4\n"
      ]
     },
     "metadata": {},
     "output_type": "display_data"
    }
   ],
   "source": [
    "LogModel = glm(WorldSeries ~ Year + RA + RankSeason + NumCompetitors, data=baseball, family=binomial)\n",
    "summary(LogModel)"
   ]
  },
  {
   "cell_type": "code",
   "execution_count": 28,
   "metadata": {},
   "outputs": [
    {
     "data": {
      "text/html": [
       "<table>\n",
       "<thead><tr><th></th><th scope=col>Year</th><th scope=col>RA</th><th scope=col>RankSeason</th><th scope=col>NumCompetitors</th></tr></thead>\n",
       "<tbody>\n",
       "\t<tr><th scope=row>Year</th><td>1.0000000</td><td>0.4762422</td><td>0.3852191</td><td>0.9139548</td></tr>\n",
       "\t<tr><th scope=row>RA</th><td>0.4762422</td><td>1.0000000</td><td>0.3991413</td><td>0.5136769</td></tr>\n",
       "\t<tr><th scope=row>RankSeason</th><td>0.3852191</td><td>0.3991413</td><td>1.0000000</td><td>0.4247393</td></tr>\n",
       "\t<tr><th scope=row>NumCompetitors</th><td>0.9139548</td><td>0.5136769</td><td>0.4247393</td><td>1.0000000</td></tr>\n",
       "</tbody>\n",
       "</table>\n"
      ],
      "text/latex": [
       "\\begin{tabular}{r|llll}\n",
       "  & Year & RA & RankSeason & NumCompetitors\\\\\n",
       "\\hline\n",
       "\tYear & 1.0000000 & 0.4762422 & 0.3852191 & 0.9139548\\\\\n",
       "\tRA & 0.4762422 & 1.0000000 & 0.3991413 & 0.5136769\\\\\n",
       "\tRankSeason & 0.3852191 & 0.3991413 & 1.0000000 & 0.4247393\\\\\n",
       "\tNumCompetitors & 0.9139548 & 0.5136769 & 0.4247393 & 1.0000000\\\\\n",
       "\\end{tabular}\n"
      ],
      "text/markdown": [
       "\n",
       "| <!--/--> | Year | RA | RankSeason | NumCompetitors | \n",
       "|---|---|---|---|\n",
       "| Year | 1.0000000 | 0.4762422 | 0.3852191 | 0.9139548 | \n",
       "| RA | 0.4762422 | 1.0000000 | 0.3991413 | 0.5136769 | \n",
       "| RankSeason | 0.3852191 | 0.3991413 | 1.0000000 | 0.4247393 | \n",
       "| NumCompetitors | 0.9139548 | 0.5136769 | 0.4247393 | 1.0000000 | \n",
       "\n",
       "\n"
      ],
      "text/plain": [
       "               Year      RA        RankSeason NumCompetitors\n",
       "Year           1.0000000 0.4762422 0.3852191  0.9139548     \n",
       "RA             0.4762422 1.0000000 0.3991413  0.5136769     \n",
       "RankSeason     0.3852191 0.3991413 1.0000000  0.4247393     \n",
       "NumCompetitors 0.9139548 0.5136769 0.4247393  1.0000000     "
      ]
     },
     "metadata": {},
     "output_type": "display_data"
    }
   ],
   "source": [
    "cor(baseball[c(\"Year\",\"RA\",\"RankSeason\",\"NumCompetitors\")])"
   ]
  },
  {
   "cell_type": "code",
   "execution_count": 29,
   "metadata": {},
   "outputs": [
    {
     "data": {
      "text/plain": [
       "\n",
       "Call:\n",
       "glm(formula = WorldSeries ~ Year + RA, family = \"binomial\", data = baseball)\n",
       "\n",
       "Deviance Residuals: \n",
       "    Min       1Q   Median       3Q      Max  \n",
       "-1.0402  -0.6878  -0.5298  -0.4785   2.1370  \n",
       "\n",
       "Coefficients:\n",
       "             Estimate Std. Error z value Pr(>|z|)  \n",
       "(Intercept) 63.610741  25.654830   2.479   0.0132 *\n",
       "Year        -0.032084   0.013323  -2.408   0.0160 *\n",
       "RA          -0.001766   0.002585  -0.683   0.4945  \n",
       "---\n",
       "Signif. codes:  0 ‘***’ 0.001 ‘**’ 0.01 ‘*’ 0.05 ‘.’ 0.1 ‘ ’ 1\n",
       "\n",
       "(Dispersion parameter for binomial family taken to be 1)\n",
       "\n",
       "    Null deviance: 239.12  on 243  degrees of freedom\n",
       "Residual deviance: 227.88  on 241  degrees of freedom\n",
       "AIC: 233.88\n",
       "\n",
       "Number of Fisher Scoring iterations: 4\n"
      ]
     },
     "metadata": {},
     "output_type": "display_data"
    }
   ],
   "source": [
    "bivariateYearRA = glm(WorldSeries~Year + RA, data=baseball, family=\"binomial\")\n",
    "summary(bivariateYearRA)"
   ]
  },
  {
   "cell_type": "code",
   "execution_count": 30,
   "metadata": {},
   "outputs": [
    {
     "data": {
      "text/plain": [
       "\n",
       "Call:\n",
       "glm(formula = WorldSeries ~ Year + RankSeason, family = \"binomial\", \n",
       "    data = baseball)\n",
       "\n",
       "Deviance Residuals: \n",
       "    Min       1Q   Median       3Q      Max  \n",
       "-1.0560  -0.6957  -0.5379  -0.4528   2.2673  \n",
       "\n",
       "Coefficients:\n",
       "            Estimate Std. Error z value Pr(>|z|)   \n",
       "(Intercept) 63.64855   24.37063   2.612  0.00901 **\n",
       "Year        -0.03254    0.01231  -2.643  0.00822 **\n",
       "RankSeason  -0.10064    0.11352  -0.887  0.37534   \n",
       "---\n",
       "Signif. codes:  0 ‘***’ 0.001 ‘**’ 0.01 ‘*’ 0.05 ‘.’ 0.1 ‘ ’ 1\n",
       "\n",
       "(Dispersion parameter for binomial family taken to be 1)\n",
       "\n",
       "    Null deviance: 239.12  on 243  degrees of freedom\n",
       "Residual deviance: 227.55  on 241  degrees of freedom\n",
       "AIC: 233.55\n",
       "\n",
       "Number of Fisher Scoring iterations: 4\n"
      ]
     },
     "metadata": {},
     "output_type": "display_data"
    }
   ],
   "source": [
    "bivariateYearRankSeason = glm(WorldSeries~Year + RankSeason, data=baseball, family=\"binomial\")\n",
    "summary(bivariateYearRankSeason)"
   ]
  },
  {
   "cell_type": "code",
   "execution_count": 31,
   "metadata": {},
   "outputs": [
    {
     "data": {
      "text/plain": [
       "\n",
       "Call:\n",
       "glm(formula = WorldSeries ~ Year + NumCompetitors, family = \"binomial\", \n",
       "    data = baseball)\n",
       "\n",
       "Deviance Residuals: \n",
       "    Min       1Q   Median       3Q      Max  \n",
       "-1.0050  -0.7823  -0.5115  -0.4970   2.2552  \n",
       "\n",
       "Coefficients:\n",
       "                Estimate Std. Error z value Pr(>|z|)\n",
       "(Intercept)    13.350467  53.481896   0.250    0.803\n",
       "Year           -0.006802   0.027328  -0.249    0.803\n",
       "NumCompetitors -0.212610   0.175520  -1.211    0.226\n",
       "\n",
       "(Dispersion parameter for binomial family taken to be 1)\n",
       "\n",
       "    Null deviance: 239.12  on 243  degrees of freedom\n",
       "Residual deviance: 226.90  on 241  degrees of freedom\n",
       "AIC: 232.9\n",
       "\n",
       "Number of Fisher Scoring iterations: 4\n"
      ]
     },
     "metadata": {},
     "output_type": "display_data"
    }
   ],
   "source": [
    "bivariateYearNumCompetitors = glm(WorldSeries~Year + NumCompetitors, data=baseball, family=\"binomial\")\n",
    "summary(bivariateYearNumCompetitors)"
   ]
  },
  {
   "cell_type": "code",
   "execution_count": 32,
   "metadata": {},
   "outputs": [
    {
     "data": {
      "text/plain": [
       "\n",
       "Call:\n",
       "glm(formula = WorldSeries ~ RA + RankSeason, family = \"binomial\", \n",
       "    data = baseball)\n",
       "\n",
       "Deviance Residuals: \n",
       "    Min       1Q   Median       3Q      Max  \n",
       "-0.9374  -0.6933  -0.5936  -0.4564   2.1979  \n",
       "\n",
       "Coefficients:\n",
       "             Estimate Std. Error z value Pr(>|z|)\n",
       "(Intercept)  1.487461   1.506143   0.988    0.323\n",
       "RA          -0.003815   0.002441  -1.563    0.118\n",
       "RankSeason  -0.140824   0.110908  -1.270    0.204\n",
       "\n",
       "(Dispersion parameter for binomial family taken to be 1)\n",
       "\n",
       "    Null deviance: 239.12  on 243  degrees of freedom\n",
       "Residual deviance: 232.22  on 241  degrees of freedom\n",
       "AIC: 238.22\n",
       "\n",
       "Number of Fisher Scoring iterations: 4\n"
      ]
     },
     "metadata": {},
     "output_type": "display_data"
    }
   ],
   "source": [
    "bivariateRARankSeason = glm(WorldSeries~RA + RankSeason, data=baseball, family=\"binomial\")\n",
    "summary(bivariateRARankSeason)"
   ]
  },
  {
   "cell_type": "code",
   "execution_count": 33,
   "metadata": {},
   "outputs": [
    {
     "data": {
      "text/plain": [
       "\n",
       "Call:\n",
       "glm(formula = WorldSeries ~ RA + NumCompetitors, family = \"binomial\", \n",
       "    data = baseball)\n",
       "\n",
       "Deviance Residuals: \n",
       "    Min       1Q   Median       3Q      Max  \n",
       "-1.0433  -0.7826  -0.5133  -0.4701   2.2208  \n",
       "\n",
       "Coefficients:\n",
       "                Estimate Std. Error z value Pr(>|z|)   \n",
       "(Intercept)     0.716895   1.528736   0.469  0.63911   \n",
       "RA             -0.001233   0.002661  -0.463  0.64313   \n",
       "NumCompetitors -0.229385   0.088399  -2.595  0.00946 **\n",
       "---\n",
       "Signif. codes:  0 ‘***’ 0.001 ‘**’ 0.01 ‘*’ 0.05 ‘.’ 0.1 ‘ ’ 1\n",
       "\n",
       "(Dispersion parameter for binomial family taken to be 1)\n",
       "\n",
       "    Null deviance: 239.12  on 243  degrees of freedom\n",
       "Residual deviance: 226.74  on 241  degrees of freedom\n",
       "AIC: 232.74\n",
       "\n",
       "Number of Fisher Scoring iterations: 4\n"
      ]
     },
     "metadata": {},
     "output_type": "display_data"
    }
   ],
   "source": [
    "bivariateRANumCompetitors = glm(WorldSeries~RA + NumCompetitors, data=baseball, family=\"binomial\")\n",
    "summary(bivariateRANumCompetitors)"
   ]
  },
  {
   "cell_type": "code",
   "execution_count": 34,
   "metadata": {},
   "outputs": [
    {
     "data": {
      "text/plain": [
       "\n",
       "Call:\n",
       "glm(formula = WorldSeries ~ RankSeason + NumCompetitors, family = \"binomial\", \n",
       "    data = baseball)\n",
       "\n",
       "Deviance Residuals: \n",
       "    Min       1Q   Median       3Q      Max  \n",
       "-1.0090  -0.7592  -0.5204  -0.4501   2.2562  \n",
       "\n",
       "Coefficients:\n",
       "               Estimate Std. Error z value Pr(>|z|)   \n",
       "(Intercept)     0.12277    0.45737   0.268  0.78837   \n",
       "RankSeason     -0.07697    0.11711  -0.657  0.51102   \n",
       "NumCompetitors -0.22784    0.08201  -2.778  0.00546 **\n",
       "---\n",
       "Signif. codes:  0 ‘***’ 0.001 ‘**’ 0.01 ‘*’ 0.05 ‘.’ 0.1 ‘ ’ 1\n",
       "\n",
       "(Dispersion parameter for binomial family taken to be 1)\n",
       "\n",
       "    Null deviance: 239.12  on 243  degrees of freedom\n",
       "Residual deviance: 226.52  on 241  degrees of freedom\n",
       "AIC: 232.52\n",
       "\n",
       "Number of Fisher Scoring iterations: 4\n"
      ]
     },
     "metadata": {},
     "output_type": "display_data"
    }
   ],
   "source": [
    "bivariateRankSeasonNumCompetitors = glm(WorldSeries~RankSeason + NumCompetitors, data=baseball, family=\"binomial\")\n",
    "summary(bivariateRankSeasonNumCompetitors)"
   ]
  },
  {
   "cell_type": "code",
   "execution_count": null,
   "metadata": {},
   "outputs": [],
   "source": []
  }
 ],
 "metadata": {
  "kernelspec": {
   "display_name": "R",
   "language": "R",
   "name": "ir"
  },
  "language_info": {
   "codemirror_mode": "r",
   "file_extension": ".r",
   "mimetype": "text/x-r-source",
   "name": "R",
   "pygments_lexer": "r",
   "version": "3.5.0"
  }
 },
 "nbformat": 4,
 "nbformat_minor": 2
}
