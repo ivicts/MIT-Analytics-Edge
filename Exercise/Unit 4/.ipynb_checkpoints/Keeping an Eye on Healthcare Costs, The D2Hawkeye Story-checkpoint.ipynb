{
 "cells": [
  {
   "cell_type": "code",
   "execution_count": 1,
   "metadata": {},
   "outputs": [],
   "source": [
    "setwd(\"/home/victor/OneDrive/Online Courses/MITx 15.071x The Analytics Edge\")"
   ]
  },
  {
   "cell_type": "code",
   "execution_count": 2,
   "metadata": {},
   "outputs": [
    {
     "name": "stdout",
     "output_type": "stream",
     "text": [
      "'data.frame':\t458005 obs. of  16 variables:\n",
      " $ age              : int  85 59 67 52 67 68 75 70 67 67 ...\n",
      " $ alzheimers       : int  0 0 0 0 0 0 0 0 0 0 ...\n",
      " $ arthritis        : int  0 0 0 0 0 0 0 0 0 0 ...\n",
      " $ cancer           : int  0 0 0 0 0 0 0 0 0 0 ...\n",
      " $ copd             : int  0 0 0 0 0 0 0 0 0 0 ...\n",
      " $ depression       : int  0 0 0 0 0 0 0 0 0 0 ...\n",
      " $ diabetes         : int  0 0 0 0 0 0 0 0 0 0 ...\n",
      " $ heart.failure    : int  0 0 0 0 0 0 0 0 0 0 ...\n",
      " $ ihd              : int  0 0 0 0 0 0 0 0 0 0 ...\n",
      " $ kidney           : int  0 0 0 0 0 0 0 0 0 0 ...\n",
      " $ osteoporosis     : int  0 0 0 0 0 0 0 0 0 0 ...\n",
      " $ stroke           : int  0 0 0 0 0 0 0 0 0 0 ...\n",
      " $ reimbursement2008: int  0 0 0 0 0 0 0 0 0 0 ...\n",
      " $ bucket2008       : int  1 1 1 1 1 1 1 1 1 1 ...\n",
      " $ reimbursement2009: int  0 0 0 0 0 0 0 0 0 0 ...\n",
      " $ bucket2009       : int  1 1 1 1 1 1 1 1 1 1 ...\n"
     ]
    }
   ],
   "source": [
    "Claims = read.csv(\"Unit4/Unit4/ClaimsData.csv\")\n",
    "str(Claims)"
   ]
  },
  {
   "cell_type": "code",
   "execution_count": 3,
   "metadata": {},
   "outputs": [
    {
     "data": {
      "text/plain": [
       "\n",
       "          1           2           3           4           5 \n",
       "0.671267781 0.190170413 0.089466272 0.043324855 0.005770679 "
      ]
     },
     "metadata": {},
     "output_type": "display_data"
    }
   ],
   "source": [
    "table(Claims$bucket2009)/nrow(Claims)"
   ]
  },
  {
   "cell_type": "code",
   "execution_count": 4,
   "metadata": {},
   "outputs": [],
   "source": [
    "library(caTools)"
   ]
  },
  {
   "cell_type": "code",
   "execution_count": 5,
   "metadata": {},
   "outputs": [],
   "source": [
    "set.seed(88)\n",
    "spl = sample.split(Claims$bucket2009, SplitRatio = 0.6)\n",
    "ClaimsTrain = subset(Claims, spl == TRUE)\n",
    "ClaimsTest = subset(Claims, spl == FALSE)"
   ]
  },
  {
   "cell_type": "code",
   "execution_count": 6,
   "metadata": {},
   "outputs": [
    {
     "data": {
      "text/plain": [
       "      age           alzheimers       arthritis          cancer       \n",
       " Min.   : 26.00   Min.   :0.0000   Min.   :0.0000   Min.   :0.00000  \n",
       " 1st Qu.: 67.00   1st Qu.:0.0000   1st Qu.:0.0000   1st Qu.:0.00000  \n",
       " Median : 73.00   Median :0.0000   Median :0.0000   Median :0.00000  \n",
       " Mean   : 72.64   Mean   :0.1928   Mean   :0.1546   Mean   :0.06402  \n",
       " 3rd Qu.: 81.00   3rd Qu.:0.0000   3rd Qu.:0.0000   3rd Qu.:0.00000  \n",
       " Max.   :100.00   Max.   :1.0000   Max.   :1.0000   Max.   :1.00000  \n",
       "      copd          depression        diabetes      heart.failure   \n",
       " Min.   :0.0000   Min.   :0.0000   Min.   :0.0000   Min.   :0.0000  \n",
       " 1st Qu.:0.0000   1st Qu.:0.0000   1st Qu.:0.0000   1st Qu.:0.0000  \n",
       " Median :0.0000   Median :0.0000   Median :0.0000   Median :0.0000  \n",
       " Mean   :0.1369   Mean   :0.2129   Mean   :0.3809   Mean   :0.2852  \n",
       " 3rd Qu.:0.0000   3rd Qu.:0.0000   3rd Qu.:1.0000   3rd Qu.:1.0000  \n",
       " Max.   :1.0000   Max.   :1.0000   Max.   :1.0000   Max.   :1.0000  \n",
       "      ihd             kidney        osteoporosis        stroke       \n",
       " Min.   :0.0000   Min.   :0.0000   Min.   :0.0000   Min.   :0.00000  \n",
       " 1st Qu.:0.0000   1st Qu.:0.0000   1st Qu.:0.0000   1st Qu.:0.00000  \n",
       " Median :0.0000   Median :0.0000   Median :0.0000   Median :0.00000  \n",
       " Mean   :0.4205   Mean   :0.1616   Mean   :0.1738   Mean   :0.04497  \n",
       " 3rd Qu.:1.0000   3rd Qu.:0.0000   3rd Qu.:0.0000   3rd Qu.:0.00000  \n",
       " Max.   :1.0000   Max.   :1.0000   Max.   :1.0000   Max.   :1.00000  \n",
       " reimbursement2008   bucket2008    reimbursement2009   bucket2009   \n",
       " Min.   :     0    Min.   :1.000   Min.   :     0    Min.   :1.000  \n",
       " 1st Qu.:     0    1st Qu.:1.000   1st Qu.:   130    1st Qu.:1.000  \n",
       " Median :   960    Median :1.000   Median :  1540    Median :1.000  \n",
       " Mean   :  4016    Mean   :1.438   Mean   :  4280    Mean   :1.522  \n",
       " 3rd Qu.:  3110    3rd Qu.:2.000   3rd Qu.:  4220    3rd Qu.:2.000  \n",
       " Max.   :194910    Max.   :5.000   Max.   :158800    Max.   :5.000  "
      ]
     },
     "metadata": {},
     "output_type": "display_data"
    }
   ],
   "source": [
    "summary(ClaimsTrain)"
   ]
  },
  {
   "cell_type": "code",
   "execution_count": 7,
   "metadata": {},
   "outputs": [],
   "source": [
    "#mean(ClaimsTrain$age)\n",
    "#table(ClaimsTrain$diabetes)/nrow(ClaimsTrain)"
   ]
  },
  {
   "cell_type": "code",
   "execution_count": 8,
   "metadata": {},
   "outputs": [
    {
     "data": {
      "text/plain": [
       "   \n",
       "         1      2      3      4      5\n",
       "  1 110138   7787   3427   1452    174\n",
       "  2  16000  10721   4629   2931    559\n",
       "  3   7006   4629   2774   1621    360\n",
       "  4   2688   1943   1415   1539    352\n",
       "  5    293    191    160    309    104"
      ]
     },
     "metadata": {},
     "output_type": "display_data"
    }
   ],
   "source": [
    "table(ClaimsTest$bucket2009, ClaimsTest$bucket2008)"
   ]
  },
  {
   "cell_type": "code",
   "execution_count": 9,
   "metadata": {},
   "outputs": [
    {
     "data": {
      "text/html": [
       "0.683813495485857"
      ],
      "text/latex": [
       "0.683813495485857"
      ],
      "text/markdown": [
       "0.683813495485857"
      ],
      "text/plain": [
       "[1] 0.6838135"
      ]
     },
     "metadata": {},
     "output_type": "display_data"
    }
   ],
   "source": [
    "acc = (110138 + 10721 + 2774 + 1539 + 104)/nrow(ClaimsTest)\n",
    "acc"
   ]
  },
  {
   "cell_type": "code",
   "execution_count": 10,
   "metadata": {},
   "outputs": [
    {
     "data": {
      "text/html": [
       "<table>\n",
       "<tbody>\n",
       "\t<tr><td>0</td><td>1</td><td>2</td><td>3</td><td>4</td></tr>\n",
       "\t<tr><td>2</td><td>0</td><td>1</td><td>2</td><td>3</td></tr>\n",
       "\t<tr><td>4</td><td>2</td><td>0</td><td>1</td><td>2</td></tr>\n",
       "\t<tr><td>6</td><td>4</td><td>2</td><td>0</td><td>1</td></tr>\n",
       "\t<tr><td>8</td><td>6</td><td>4</td><td>2</td><td>0</td></tr>\n",
       "</tbody>\n",
       "</table>\n"
      ],
      "text/latex": [
       "\\begin{tabular}{lllll}\n",
       "\t 0 & 1 & 2 & 3 & 4\\\\\n",
       "\t 2 & 0 & 1 & 2 & 3\\\\\n",
       "\t 4 & 2 & 0 & 1 & 2\\\\\n",
       "\t 6 & 4 & 2 & 0 & 1\\\\\n",
       "\t 8 & 6 & 4 & 2 & 0\\\\\n",
       "\\end{tabular}\n"
      ],
      "text/markdown": [
       "\n",
       "| 0 | 1 | 2 | 3 | 4 | \n",
       "| 2 | 0 | 1 | 2 | 3 | \n",
       "| 4 | 2 | 0 | 1 | 2 | \n",
       "| 6 | 4 | 2 | 0 | 1 | \n",
       "| 8 | 6 | 4 | 2 | 0 | \n",
       "\n",
       "\n"
      ],
      "text/plain": [
       "     [,1] [,2] [,3] [,4] [,5]\n",
       "[1,] 0    1    2    3    4   \n",
       "[2,] 2    0    1    2    3   \n",
       "[3,] 4    2    0    1    2   \n",
       "[4,] 6    4    2    0    1   \n",
       "[5,] 8    6    4    2    0   "
      ]
     },
     "metadata": {},
     "output_type": "display_data"
    }
   ],
   "source": [
    "PenaltyMatrix = matrix(c(0,1,2,3,4,2,0,1,2,3,4,2,0,1,2,6,4,2,0,1,8,6,4,2,0), byrow=TRUE, nrow=5)\n",
    "PenaltyMatrix"
   ]
  },
  {
   "cell_type": "code",
   "execution_count": 11,
   "metadata": {},
   "outputs": [
    {
     "data": {
      "text/plain": [
       "   \n",
       "        1     2     3     4     5\n",
       "  1     0  7787  6854  4356   696\n",
       "  2 32000     0  4629  5862  1677\n",
       "  3 28024  9258     0  1621   720\n",
       "  4 16128  7772  2830     0   352\n",
       "  5  2344  1146   640   618     0"
      ]
     },
     "metadata": {},
     "output_type": "display_data"
    }
   ],
   "source": [
    "as.matrix(table(ClaimsTest$bucket2009, ClaimsTest$bucket2008))*PenaltyMatrix"
   ]
  },
  {
   "cell_type": "code",
   "execution_count": 12,
   "metadata": {},
   "outputs": [
    {
     "data": {
      "text/html": [
       "0.73860547373937"
      ],
      "text/latex": [
       "0.73860547373937"
      ],
      "text/markdown": [
       "0.73860547373937"
      ],
      "text/plain": [
       "[1] 0.7386055"
      ]
     },
     "metadata": {},
     "output_type": "display_data"
    }
   ],
   "source": [
    "sum(as.matrix(table(ClaimsTest$bucket2009, ClaimsTest$bucket2008))*PenaltyMatrix)/nrow(ClaimsTest)"
   ]
  },
  {
   "cell_type": "code",
   "execution_count": 13,
   "metadata": {},
   "outputs": [
    {
     "data": {
      "text/plain": [
       "   \n",
       "         1\n",
       "  1 122978\n",
       "  2  34840\n",
       "  3  16390\n",
       "  4   7937\n",
       "  5   1057"
      ]
     },
     "metadata": {},
     "output_type": "display_data"
    }
   ],
   "source": [
    "table(ClaimsTest$bucket2009,array(1, dim = length(ClaimsTest$bucket2009)))"
   ]
  },
  {
   "cell_type": "code",
   "execution_count": 14,
   "metadata": {},
   "outputs": [
    {
     "data": {
      "text/html": [
       "0.6712699643017"
      ],
      "text/latex": [
       "0.6712699643017"
      ],
      "text/markdown": [
       "0.6712699643017"
      ],
      "text/plain": [
       "[1] 0.67127"
      ]
     },
     "metadata": {},
     "output_type": "display_data"
    }
   ],
   "source": [
    "acc2 = (122978)/nrow(ClaimsTest)\n",
    "acc2"
   ]
  },
  {
   "cell_type": "code",
   "execution_count": 15,
   "metadata": {},
   "outputs": [
    {
     "data": {
      "text/plain": [
       "   \n",
       "        1\n",
       "  1     0\n",
       "  2 69680\n",
       "  3 65560\n",
       "  4 47622\n",
       "  5  8456"
      ]
     },
     "metadata": {},
     "output_type": "display_data"
    }
   ],
   "source": [
    "as.matrix(table(ClaimsTest$bucket2009,array(1, dim = length(ClaimsTest$bucket2009))))*PenaltyMatrix[,1]"
   ]
  },
  {
   "cell_type": "code",
   "execution_count": 16,
   "metadata": {},
   "outputs": [
    {
     "data": {
      "text/html": [
       "1.04430082641019"
      ],
      "text/latex": [
       "1.04430082641019"
      ],
      "text/markdown": [
       "1.04430082641019"
      ],
      "text/plain": [
       "[1] 1.044301"
      ]
     },
     "metadata": {},
     "output_type": "display_data"
    }
   ],
   "source": [
    "sum(as.matrix(table(ClaimsTest$bucket2009,array(1, dim = length(ClaimsTest$bucket2009))))*PenaltyMatrix[,1])/nrow(ClaimsTest)"
   ]
  },
  {
   "cell_type": "code",
   "execution_count": 17,
   "metadata": {},
   "outputs": [],
   "source": [
    "#(0*122978 + 2*34840 + 4*16390 + 6*7937 + 8*1057)/nrow(ClaimsTest) = 1.044301"
   ]
  },
  {
   "cell_type": "code",
   "execution_count": 18,
   "metadata": {},
   "outputs": [],
   "source": [
    "library(rpart)\n",
    "library(rpart.plot)"
   ]
  },
  {
   "cell_type": "code",
   "execution_count": 19,
   "metadata": {},
   "outputs": [],
   "source": [
    "ClaimsTree = rpart(bucket2009 ~ age + arthritis + alzheimers + cancer + copd + depression + diabetes + heart.failure + ihd + kidney + osteoporosis + stroke + bucket2008 + reimbursement2008, data = ClaimsTrain, method = \"class\", cp = 0.00005)"
   ]
  },
  {
   "cell_type": "code",
   "execution_count": 20,
   "metadata": {},
   "outputs": [
    {
     "name": "stderr",
     "output_type": "stream",
     "text": [
      "Warning message:\n",
      "“labs do not fit even at cex 0.15, there may be some overplotting”"
     ]
    },
    {
     "data": {
      "image/png": "[encoded data removed]",
      "text/plain": [
       "plot without title"
      ]
     },
     "metadata": {},
     "output_type": "display_data"
    }
   ],
   "source": [
    "prp(ClaimsTree)"
   ]
  },
  {
   "cell_type": "code",
   "execution_count": 21,
   "metadata": {},
   "outputs": [
    {
     "data": {
      "text/plain": [
       "   PredictTest\n",
       "         1      2      3      4      5\n",
       "  1 114141   8610    124    103      0\n",
       "  2  18409  16102    187    142      0\n",
       "  3   8027   8146    118     99      0\n",
       "  4   3099   4584     53    201      0\n",
       "  5    351    657      4     45      0"
      ]
     },
     "metadata": {},
     "output_type": "display_data"
    }
   ],
   "source": [
    "PredictTest = predict(ClaimsTree, newdata = ClaimsTest, type = \"class\")\n",
    "table(ClaimsTest$bucket2009, PredictTest)"
   ]
  },
  {
   "cell_type": "code",
   "execution_count": 22,
   "metadata": {},
   "outputs": [
    {
     "data": {
      "text/html": [
       "0.712666892282835"
      ],
      "text/latex": [
       "0.712666892282835"
      ],
      "text/markdown": [
       "0.712666892282835"
      ],
      "text/plain": [
       "[1] 0.7126669"
      ]
     },
     "metadata": {},
     "output_type": "display_data"
    }
   ],
   "source": [
    "acc = (114141 + 16102 + 118 + 201)/nrow(ClaimsTest)\n",
    "acc"
   ]
  },
  {
   "cell_type": "code",
   "execution_count": 23,
   "metadata": {},
   "outputs": [
    {
     "data": {
      "text/plain": [
       "   PredictTest\n",
       "        1     2     3     4     5\n",
       "  1     0  8610   248   309     0\n",
       "  2 36818     0   187   284     0\n",
       "  3 32108 16292     0    99     0\n",
       "  4 18594 18336   106     0     0\n",
       "  5  2808  3942    16    90     0"
      ]
     },
     "metadata": {},
     "output_type": "display_data"
    }
   ],
   "source": [
    "as.matrix(table(ClaimsTest$bucket2009, PredictTest))*PenaltyMatrix"
   ]
  },
  {
   "cell_type": "code",
   "execution_count": 24,
   "metadata": {},
   "outputs": [
    {
     "data": {
      "text/html": [
       "0.757890197705265"
      ],
      "text/latex": [
       "0.757890197705265"
      ],
      "text/markdown": [
       "0.757890197705265"
      ],
      "text/plain": [
       "[1] 0.7578902"
      ]
     },
     "metadata": {},
     "output_type": "display_data"
    }
   ],
   "source": [
    "sum(as.matrix(table(ClaimsTest$bucket2009, PredictTest))*PenaltyMatrix)/nrow(ClaimsTest)"
   ]
  },
  {
   "cell_type": "code",
   "execution_count": 25,
   "metadata": {},
   "outputs": [],
   "source": [
    "ClaimsTree2 = rpart(bucket2009 ~ age + arthritis + alzheimers + cancer + copd + depression + diabetes + heart.failure + ihd + kidney + osteoporosis + stroke + bucket2008 + reimbursement2008, data = ClaimsTrain, method = \"class\", cp = 0.00005, parms = list(loss = PenaltyMatrix))"
   ]
  },
  {
   "cell_type": "code",
   "execution_count": 26,
   "metadata": {},
   "outputs": [
    {
     "data": {
      "text/plain": [
       "   PredictTest2\n",
       "        1     2     3     4     5\n",
       "  1 94310 25295  3087   286     0\n",
       "  2  7176 18942  8079   643     0\n",
       "  3  3590  7706  4692   401     1\n",
       "  4  1304  3193  2803   636     1\n",
       "  5   135   356   408   156     2"
      ]
     },
     "metadata": {},
     "output_type": "display_data"
    }
   ],
   "source": [
    "PredictTest2 = predict(ClaimsTree2, newdata = ClaimsTest, type = \"class\")\n",
    "table(ClaimsTest$bucket2009, PredictTest2)"
   ]
  },
  {
   "cell_type": "code",
   "execution_count": 27,
   "metadata": {},
   "outputs": [
    {
     "data": {
      "text/html": [
       "0.647274593072128"
      ],
      "text/latex": [
       "0.647274593072128"
      ],
      "text/markdown": [
       "0.647274593072128"
      ],
      "text/plain": [
       "[1] 0.6472746"
      ]
     },
     "metadata": {},
     "output_type": "display_data"
    }
   ],
   "source": [
    "acc2 = (94310 + 18942 + 4692 + 636 + 2)/nrow(ClaimsTest)\n",
    "acc2"
   ]
  },
  {
   "cell_type": "code",
   "execution_count": 28,
   "metadata": {},
   "outputs": [
    {
     "data": {
      "text/plain": [
       "   PredictTest2\n",
       "        1     2     3     4     5\n",
       "  1     0 25295  6174   858     0\n",
       "  2 14352     0  8079  1286     0\n",
       "  3 14360 15412     0   401     2\n",
       "  4  7824 12772  5606     0     1\n",
       "  5  1080  2136  1632   312     0"
      ]
     },
     "metadata": {},
     "output_type": "display_data"
    }
   ],
   "source": [
    "as.matrix(table(ClaimsTest$bucket2009, PredictTest2))*PenaltyMatrix"
   ]
  },
  {
   "cell_type": "code",
   "execution_count": 29,
   "metadata": {},
   "outputs": [
    {
     "data": {
      "text/html": [
       "0.641816137378413"
      ],
      "text/latex": [
       "0.641816137378413"
      ],
      "text/markdown": [
       "0.641816137378413"
      ],
      "text/plain": [
       "[1] 0.6418161"
      ]
     },
     "metadata": {},
     "output_type": "display_data"
    }
   ],
   "source": [
    "sum(as.matrix(table(ClaimsTest$bucket2009, PredictTest2))*PenaltyMatrix)/nrow(ClaimsTest)"
   ]
  },
  {
   "cell_type": "code",
   "execution_count": null,
   "metadata": {},
   "outputs": [],
   "source": []
  }
 ],
 "metadata": {
  "kernelspec": {
   "display_name": "R",
   "language": "R",
   "name": "ir"
  },
  "language_info": {
   "codemirror_mode": "r",
   "file_extension": ".r",
   "mimetype": "text/x-r-source",
   "name": "R",
   "pygments_lexer": "r",
   "version": "3.5.0"
  }
 },
 "nbformat": 4,
 "nbformat_minor": 2
}
