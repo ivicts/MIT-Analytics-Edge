{
 "cells": [
  {
   "cell_type": "code",
   "execution_count": 27,
   "metadata": {},
   "outputs": [],
   "source": [
    "setwd(\"/home/victor/OneDrive/Online Courses/MITx 15.071x The Analytics Edge\")"
   ]
  },
  {
   "cell_type": "code",
   "execution_count": 2,
   "metadata": {},
   "outputs": [
    {
     "name": "stdout",
     "output_type": "stream",
     "text": [
      "'data.frame':\t31978 obs. of  13 variables:\n",
      " $ age          : int  39 50 38 53 28 37 49 52 31 42 ...\n",
      " $ workclass    : Factor w/ 9 levels \" ?\",\" Federal-gov\",..: 8 7 5 5 5 5 5 7 5 5 ...\n",
      " $ education    : Factor w/ 16 levels \" 10th\",\" 11th\",..: 10 10 12 2 10 13 7 12 13 10 ...\n",
      " $ maritalstatus: Factor w/ 7 levels \" Divorced\",\" Married-AF-spouse\",..: 5 3 1 3 3 3 4 3 5 3 ...\n",
      " $ occupation   : Factor w/ 15 levels \" ?\",\" Adm-clerical\",..: 2 5 7 7 11 5 9 5 11 5 ...\n",
      " $ relationship : Factor w/ 6 levels \" Husband\",\" Not-in-family\",..: 2 1 2 1 6 6 2 1 2 1 ...\n",
      " $ race         : Factor w/ 5 levels \" Amer-Indian-Eskimo\",..: 5 5 5 3 3 5 3 5 5 5 ...\n",
      " $ sex          : Factor w/ 2 levels \" Female\",\" Male\": 2 2 2 2 1 1 1 2 1 2 ...\n",
      " $ capitalgain  : int  2174 0 0 0 0 0 0 0 14084 5178 ...\n",
      " $ capitalloss  : int  0 0 0 0 0 0 0 0 0 0 ...\n",
      " $ hoursperweek : int  40 13 40 40 40 40 16 45 50 40 ...\n",
      " $ nativecountry: Factor w/ 41 levels \" Cambodia\",\" Canada\",..: 39 39 39 39 5 39 23 39 39 39 ...\n",
      " $ over50k      : Factor w/ 2 levels \" <=50K\",\" >50K\": 1 1 1 1 1 1 1 2 2 2 ...\n"
     ]
    }
   ],
   "source": [
    "census = read.csv(\"Unit4/Unit4/census.csv\")\n",
    "str(census)"
   ]
  },
  {
   "cell_type": "code",
   "execution_count": 3,
   "metadata": {},
   "outputs": [],
   "source": [
    "library(caTools)"
   ]
  },
  {
   "cell_type": "code",
   "execution_count": 4,
   "metadata": {},
   "outputs": [],
   "source": [
    "set.seed(2000)\n",
    "spl = sample.split(census$over50k, SplitRatio = 0.6)\n",
    "train = subset(census, spl == TRUE)\n",
    "test = subset(census, spl == FALSE)"
   ]
  },
  {
   "cell_type": "code",
   "execution_count": 5,
   "metadata": {
    "scrolled": true
   },
   "outputs": [
    {
     "name": "stderr",
     "output_type": "stream",
     "text": [
      "Warning message:\n",
      "“glm.fit: fitted probabilities numerically 0 or 1 occurred”"
     ]
    },
    {
     "data": {
      "text/plain": [
       "\n",
       "Call:\n",
       "glm(formula = over50k ~ ., family = \"binomial\", data = train)\n",
       "\n",
       "Deviance Residuals: \n",
       "    Min       1Q   Median       3Q      Max  \n",
       "-5.1065  -0.5037  -0.1804  -0.0008   3.3383  \n",
       "\n",
       "Coefficients: (1 not defined because of singularities)\n",
       "                                           Estimate Std. Error z value Pr(>|z|)\n",
       "(Intercept)                              -8.658e+00  1.379e+00  -6.279 3.41e-10\n",
       "age                                       2.548e-02  2.139e-03  11.916  < 2e-16\n",
       "workclass Federal-gov                     1.105e+00  2.014e-01   5.489 4.03e-08\n",
       "workclass Local-gov                       3.675e-01  1.821e-01   2.018 0.043641\n",
       "workclass Never-worked                   -1.283e+01  8.453e+02  -0.015 0.987885\n",
       "workclass Private                         6.012e-01  1.626e-01   3.698 0.000218\n",
       "workclass Self-emp-inc                    7.575e-01  1.950e-01   3.884 0.000103\n",
       "workclass Self-emp-not-inc                1.855e-01  1.774e-01   1.046 0.295646\n",
       "workclass State-gov                       4.012e-01  1.961e-01   2.046 0.040728\n",
       "workclass Without-pay                    -1.395e+01  6.597e+02  -0.021 0.983134\n",
       "education 11th                            2.225e-01  2.867e-01   0.776 0.437738\n",
       "education 12th                            6.380e-01  3.597e-01   1.774 0.076064\n",
       "education 1st-4th                        -7.075e-01  7.760e-01  -0.912 0.361897\n",
       "education 5th-6th                        -3.170e-01  4.880e-01  -0.650 0.516008\n",
       "education 7th-8th                        -3.498e-01  3.126e-01  -1.119 0.263152\n",
       "education 9th                            -1.258e-01  3.539e-01  -0.355 0.722228\n",
       "education Assoc-acdm                      1.602e+00  2.427e-01   6.601 4.10e-11\n",
       "education Assoc-voc                       1.541e+00  2.368e-01   6.506 7.74e-11\n",
       "education Bachelors                       2.177e+00  2.218e-01   9.817  < 2e-16\n",
       "education Doctorate                       2.761e+00  2.893e-01   9.544  < 2e-16\n",
       "education HS-grad                         1.006e+00  2.169e-01   4.638 3.52e-06\n",
       "education Masters                         2.421e+00  2.353e-01  10.289  < 2e-16\n",
       "education Preschool                      -2.237e+01  6.864e+02  -0.033 0.973996\n",
       "education Prof-school                     2.938e+00  2.753e-01  10.672  < 2e-16\n",
       "education Some-college                    1.365e+00  2.195e-01   6.219 5.00e-10\n",
       "maritalstatus Married-AF-spouse           2.540e+00  7.145e-01   3.555 0.000378\n",
       "maritalstatus Married-civ-spouse          2.458e+00  3.573e-01   6.880 6.00e-12\n",
       "maritalstatus Married-spouse-absent      -9.486e-02  3.204e-01  -0.296 0.767155\n",
       "maritalstatus Never-married              -4.515e-01  1.139e-01  -3.962 7.42e-05\n",
       "maritalstatus Separated                   3.609e-02  1.984e-01   0.182 0.855672\n",
       "maritalstatus Widowed                     1.858e-01  1.962e-01   0.947 0.343449\n",
       "occupation Adm-clerical                   9.470e-02  1.288e-01   0.735 0.462064\n",
       "occupation Armed-Forces                  -1.008e+00  1.487e+00  -0.677 0.498170\n",
       "occupation Craft-repair                   2.174e-01  1.109e-01   1.960 0.049972\n",
       "occupation Exec-managerial                9.400e-01  1.138e-01   8.257  < 2e-16\n",
       "occupation Farming-fishing               -1.068e+00  1.908e-01  -5.599 2.15e-08\n",
       "occupation Handlers-cleaners             -6.237e-01  1.946e-01  -3.204 0.001353\n",
       "occupation Machine-op-inspct             -1.862e-01  1.376e-01  -1.353 0.176061\n",
       "occupation Other-service                 -8.183e-01  1.641e-01  -4.987 6.14e-07\n",
       "occupation Priv-house-serv               -1.297e+01  2.267e+02  -0.057 0.954385\n",
       "occupation Prof-specialty                 6.331e-01  1.222e-01   5.180 2.22e-07\n",
       "occupation Protective-serv                6.267e-01  1.710e-01   3.664 0.000248\n",
       "occupation Sales                          3.276e-01  1.175e-01   2.789 0.005282\n",
       "occupation Tech-support                   6.173e-01  1.533e-01   4.028 5.63e-05\n",
       "occupation Transport-moving                      NA         NA      NA       NA\n",
       "relationship Not-in-family                7.881e-01  3.530e-01   2.233 0.025562\n",
       "relationship Other-relative              -2.194e-01  3.137e-01  -0.699 0.484263\n",
       "relationship Own-child                   -7.489e-01  3.507e-01  -2.136 0.032716\n",
       "relationship Unmarried                    7.041e-01  3.720e-01   1.893 0.058392\n",
       "relationship Wife                         1.324e+00  1.331e-01   9.942  < 2e-16\n",
       "race Asian-Pac-Islander                   4.830e-01  3.548e-01   1.361 0.173504\n",
       "race Black                                3.644e-01  2.882e-01   1.265 0.206001\n",
       "race Other                                2.204e-01  4.513e-01   0.488 0.625263\n",
       "race White                                4.108e-01  2.737e-01   1.501 0.133356\n",
       "sex Male                                  7.729e-01  1.024e-01   7.545 4.52e-14\n",
       "capitalgain                               3.280e-04  1.372e-05  23.904  < 2e-16\n",
       "capitalloss                               6.445e-04  4.854e-05  13.277  < 2e-16\n",
       "hoursperweek                              2.897e-02  2.101e-03  13.791  < 2e-16\n",
       "nativecountry Canada                      2.593e-01  1.308e+00   0.198 0.842879\n",
       "nativecountry China                      -9.695e-01  1.327e+00  -0.730 0.465157\n",
       "nativecountry Columbia                   -1.954e+00  1.526e+00  -1.280 0.200470\n",
       "nativecountry Cuba                        5.735e-02  1.323e+00   0.043 0.965432\n",
       "nativecountry Dominican-Republic         -1.435e+01  3.092e+02  -0.046 0.962972\n",
       "nativecountry Ecuador                    -3.550e-02  1.477e+00  -0.024 0.980829\n",
       "nativecountry El-Salvador                -6.095e-01  1.395e+00  -0.437 0.662181\n",
       "nativecountry England                    -6.707e-02  1.327e+00  -0.051 0.959686\n",
       "nativecountry France                      5.301e-01  1.419e+00   0.374 0.708642\n",
       "nativecountry Germany                     5.474e-02  1.306e+00   0.042 0.966572\n",
       "nativecountry Greece                     -2.646e+00  1.714e+00  -1.544 0.122527\n",
       "nativecountry Guatemala                  -1.293e+01  3.345e+02  -0.039 0.969180\n",
       "nativecountry Haiti                      -9.221e-01  1.615e+00  -0.571 0.568105\n",
       "nativecountry Holand-Netherlands         -1.282e+01  2.400e+03  -0.005 0.995736\n",
       "nativecountry Honduras                   -9.584e-01  3.412e+00  -0.281 0.778775\n",
       "nativecountry Hong                       -2.362e-01  1.492e+00  -0.158 0.874155\n",
       "nativecountry Hungary                     1.412e-01  1.555e+00   0.091 0.927653\n",
       "nativecountry India                      -8.218e-01  1.314e+00  -0.625 0.531661\n",
       "nativecountry Iran                       -3.299e-02  1.366e+00  -0.024 0.980736\n",
       "nativecountry Ireland                     1.579e-01  1.473e+00   0.107 0.914628\n",
       "nativecountry Italy                       6.100e-01  1.333e+00   0.458 0.647194\n",
       "nativecountry Jamaica                    -2.279e-01  1.387e+00  -0.164 0.869467\n",
       "nativecountry Japan                       5.072e-01  1.375e+00   0.369 0.712179\n",
       "nativecountry Laos                       -6.831e-01  1.661e+00  -0.411 0.680866\n",
       "nativecountry Mexico                     -9.182e-01  1.303e+00  -0.705 0.481103\n",
       "nativecountry Nicaragua                  -1.987e-01  1.507e+00  -0.132 0.895132\n",
       "nativecountry Outlying-US(Guam-USVI-etc) -1.373e+01  8.502e+02  -0.016 0.987115\n",
       "nativecountry Peru                       -9.660e-01  1.678e+00  -0.576 0.564797\n",
       "nativecountry Philippines                 4.393e-02  1.281e+00   0.034 0.972640\n",
       "nativecountry Poland                      2.410e-01  1.383e+00   0.174 0.861624\n",
       "nativecountry Portugal                    7.276e-01  1.477e+00   0.493 0.622327\n",
       "nativecountry Puerto-Rico                -5.769e-01  1.357e+00  -0.425 0.670837\n",
       "nativecountry Scotland                   -1.188e+00  1.719e+00  -0.691 0.489616\n",
       "nativecountry South                      -8.183e-01  1.341e+00  -0.610 0.541809\n",
       "nativecountry Taiwan                     -2.590e-01  1.350e+00  -0.192 0.847878\n",
       "nativecountry Thailand                   -1.693e+00  1.737e+00  -0.975 0.329678\n",
       "nativecountry Trinadad&Tobago            -1.346e+00  1.721e+00  -0.782 0.434105\n",
       "nativecountry United-States              -8.594e-02  1.269e+00  -0.068 0.946020\n",
       "nativecountry Vietnam                    -1.008e+00  1.523e+00  -0.662 0.507799\n",
       "nativecountry Yugoslavia                  1.402e+00  1.648e+00   0.851 0.394874\n",
       "                                            \n",
       "(Intercept)                              ***\n",
       "age                                      ***\n",
       "workclass Federal-gov                    ***\n",
       "workclass Local-gov                      *  \n",
       "workclass Never-worked                      \n",
       "workclass Private                        ***\n",
       "workclass Self-emp-inc                   ***\n",
       "workclass Self-emp-not-inc                  \n",
       "workclass State-gov                      *  \n",
       "workclass Without-pay                       \n",
       "education 11th                              \n",
       "education 12th                           .  \n",
       "education 1st-4th                           \n",
       "education 5th-6th                           \n",
       "education 7th-8th                           \n",
       "education 9th                               \n",
       "education Assoc-acdm                     ***\n",
       "education Assoc-voc                      ***\n",
       "education Bachelors                      ***\n",
       "education Doctorate                      ***\n",
       "education HS-grad                        ***\n",
       "education Masters                        ***\n",
       "education Preschool                         \n",
       "education Prof-school                    ***\n",
       "education Some-college                   ***\n",
       "maritalstatus Married-AF-spouse          ***\n",
       "maritalstatus Married-civ-spouse         ***\n",
       "maritalstatus Married-spouse-absent         \n",
       "maritalstatus Never-married              ***\n",
       "maritalstatus Separated                     \n",
       "maritalstatus Widowed                       \n",
       "occupation Adm-clerical                     \n",
       "occupation Armed-Forces                     \n",
       "occupation Craft-repair                  *  \n",
       "occupation Exec-managerial               ***\n",
       "occupation Farming-fishing               ***\n",
       "occupation Handlers-cleaners             ** \n",
       "occupation Machine-op-inspct                \n",
       "occupation Other-service                 ***\n",
       "occupation Priv-house-serv                  \n",
       "occupation Prof-specialty                ***\n",
       "occupation Protective-serv               ***\n",
       "occupation Sales                         ** \n",
       "occupation Tech-support                  ***\n",
       "occupation Transport-moving                 \n",
       "relationship Not-in-family               *  \n",
       "relationship Other-relative                 \n",
       "relationship Own-child                   *  \n",
       "relationship Unmarried                   .  \n",
       "relationship Wife                        ***\n",
       "race Asian-Pac-Islander                     \n",
       "race Black                                  \n",
       "race Other                                  \n",
       "race White                                  \n",
       "sex Male                                 ***\n",
       "capitalgain                              ***\n",
       "capitalloss                              ***\n",
       "hoursperweek                             ***\n",
       "nativecountry Canada                        \n",
       "nativecountry China                         \n",
       "nativecountry Columbia                      \n",
       "nativecountry Cuba                          \n",
       "nativecountry Dominican-Republic            \n",
       "nativecountry Ecuador                       \n",
       "nativecountry El-Salvador                   \n",
       "nativecountry England                       \n",
       "nativecountry France                        \n",
       "nativecountry Germany                       \n",
       "nativecountry Greece                        \n",
       "nativecountry Guatemala                     \n",
       "nativecountry Haiti                         \n",
       "nativecountry Holand-Netherlands            \n",
       "nativecountry Honduras                      \n",
       "nativecountry Hong                          \n",
       "nativecountry Hungary                       \n",
       "nativecountry India                         \n",
       "nativecountry Iran                          \n",
       "nativecountry Ireland                       \n",
       "nativecountry Italy                         \n",
       "nativecountry Jamaica                       \n",
       "nativecountry Japan                         \n",
       "nativecountry Laos                          \n",
       "nativecountry Mexico                        \n",
       "nativecountry Nicaragua                     \n",
       "nativecountry Outlying-US(Guam-USVI-etc)    \n",
       "nativecountry Peru                          \n",
       "nativecountry Philippines                   \n",
       "nativecountry Poland                        \n",
       "nativecountry Portugal                      \n",
       "nativecountry Puerto-Rico                   \n",
       "nativecountry Scotland                      \n",
       "nativecountry South                         \n",
       "nativecountry Taiwan                        \n",
       "nativecountry Thailand                      \n",
       "nativecountry Trinadad&Tobago               \n",
       "nativecountry United-States                 \n",
       "nativecountry Vietnam                       \n",
       "nativecountry Yugoslavia                    \n",
       "---\n",
       "Signif. codes:  0 ‘***’ 0.001 ‘**’ 0.01 ‘*’ 0.05 ‘.’ 0.1 ‘ ’ 1\n",
       "\n",
       "(Dispersion parameter for binomial family taken to be 1)\n",
       "\n",
       "    Null deviance: 21175  on 19186  degrees of freedom\n",
       "Residual deviance: 12104  on 19090  degrees of freedom\n",
       "AIC: 12298\n",
       "\n",
       "Number of Fisher Scoring iterations: 15\n"
      ]
     },
     "metadata": {},
     "output_type": "display_data"
    }
   ],
   "source": [
    "censusglm = glm(over50k ~ ., data = train, family = \"binomial\")\n",
    "summary(censusglm)"
   ]
  },
  {
   "cell_type": "code",
   "execution_count": 6,
   "metadata": {},
   "outputs": [
    {
     "name": "stderr",
     "output_type": "stream",
     "text": [
      "Warning message in predict.lm(object, newdata, se.fit, scale = 1, type = ifelse(type == :\n",
      "“prediction from a rank-deficient fit may be misleading”"
     ]
    },
    {
     "data": {
      "text/plain": [
       "        \n",
       "         FALSE TRUE\n",
       "   <=50K  9051  662\n",
       "   >50K   1190 1888"
      ]
     },
     "metadata": {},
     "output_type": "display_data"
    }
   ],
   "source": [
    "predictTest = predict(censusglm, newdata = test, type = \"response\")\n",
    "table(test$over50k, predictTest >= 0.5)"
   ]
  },
  {
   "cell_type": "code",
   "execution_count": 7,
   "metadata": {},
   "outputs": [
    {
     "data": {
      "text/html": [
       "0.855210695019936"
      ],
      "text/latex": [
       "0.855210695019936"
      ],
      "text/markdown": [
       "0.855210695019936"
      ],
      "text/plain": [
       "[1] 0.8552107"
      ]
     },
     "metadata": {},
     "output_type": "display_data"
    }
   ],
   "source": [
    "acc = (9051 + 1888)/nrow(test)\n",
    "acc"
   ]
  },
  {
   "cell_type": "code",
   "execution_count": 8,
   "metadata": {},
   "outputs": [
    {
     "data": {
      "text/plain": [
       "\n",
       " <=50K   >50K \n",
       " 14570   4617 "
      ]
     },
     "metadata": {},
     "output_type": "display_data"
    }
   ],
   "source": [
    "table(train$over50k)"
   ]
  },
  {
   "cell_type": "code",
   "execution_count": 9,
   "metadata": {},
   "outputs": [
    {
     "data": {
      "text/plain": [
       "\n",
       " <=50K   >50K \n",
       "  9713   3078 "
      ]
     },
     "metadata": {},
     "output_type": "display_data"
    }
   ],
   "source": [
    "table(test$over50k)"
   ]
  },
  {
   "cell_type": "code",
   "execution_count": 10,
   "metadata": {},
   "outputs": [
    {
     "data": {
      "text/html": [
       "0.75936205144242"
      ],
      "text/latex": [
       "0.75936205144242"
      ],
      "text/markdown": [
       "0.75936205144242"
      ],
      "text/plain": [
       "[1] 0.7593621"
      ]
     },
     "metadata": {},
     "output_type": "display_data"
    }
   ],
   "source": [
    "acc2 = 9713/nrow(test)\n",
    "acc2"
   ]
  },
  {
   "cell_type": "code",
   "execution_count": 11,
   "metadata": {},
   "outputs": [
    {
     "name": "stderr",
     "output_type": "stream",
     "text": [
      "Loading required package: gplots\n",
      "\n",
      "Attaching package: ‘gplots’\n",
      "\n",
      "The following object is masked from ‘package:stats’:\n",
      "\n",
      "    lowess\n",
      "\n"
     ]
    }
   ],
   "source": [
    "library(ROCR)"
   ]
  },
  {
   "cell_type": "code",
   "execution_count": 12,
   "metadata": {},
   "outputs": [
    {
     "data": {
      "text/html": [
       "0.906159757757142"
      ],
      "text/latex": [
       "0.906159757757142"
      ],
      "text/markdown": [
       "0.906159757757142"
      ],
      "text/plain": [
       "[1] 0.9061598"
      ]
     },
     "metadata": {},
     "output_type": "display_data"
    }
   ],
   "source": [
    "ROCRpredTestLog = prediction(predictTest, test$over50k)\n",
    "auc = as.numeric(performance(ROCRpredTestLog, \"auc\")@y.values)\n",
    "auc"
   ]
  },
  {
   "cell_type": "code",
   "execution_count": 13,
   "metadata": {},
   "outputs": [],
   "source": [
    "library(\"rpart\")\n",
    "library(\"rpart.plot\")"
   ]
  },
  {
   "cell_type": "code",
   "execution_count": 14,
   "metadata": {},
   "outputs": [
    {
     "data": {
      "image/png": "[encoded data removed]",
      "text/plain": [
       "plot without title"
      ]
     },
     "metadata": {},
     "output_type": "display_data"
    }
   ],
   "source": [
    "censustree = rpart(over50k ~., data = train, method = \"class\")\n",
    "prp(censustree)"
   ]
  },
  {
   "cell_type": "code",
   "execution_count": 15,
   "metadata": {
    "scrolled": true
   },
   "outputs": [
    {
     "data": {
      "text/plain": [
       "        predTest\n",
       "          <=50K  >50K\n",
       "   <=50K   9243   470\n",
       "   >50K    1482  1596"
      ]
     },
     "metadata": {},
     "output_type": "display_data"
    }
   ],
   "source": [
    "predTest = predict(censustree, newdata = test, type = \"class\")\n",
    "table(test$over50k, predTest)"
   ]
  },
  {
   "cell_type": "code",
   "execution_count": 16,
   "metadata": {},
   "outputs": [
    {
     "data": {
      "text/html": [
       "0.847392697990775"
      ],
      "text/latex": [
       "0.847392697990775"
      ],
      "text/markdown": [
       "0.847392697990775"
      ],
      "text/plain": [
       "[1] 0.8473927"
      ]
     },
     "metadata": {},
     "output_type": "display_data"
    }
   ],
   "source": [
    "acc = (9243 + 1596)/nrow(test)\n",
    "acc"
   ]
  },
  {
   "cell_type": "code",
   "execution_count": 17,
   "metadata": {},
   "outputs": [
    {
     "data": {
      "text/html": [
       "0.847025569517672"
      ],
      "text/latex": [
       "0.847025569517672"
      ],
      "text/markdown": [
       "0.847025569517672"
      ],
      "text/plain": [
       "[1] 0.8470256"
      ]
     },
     "metadata": {},
     "output_type": "display_data"
    }
   ],
   "source": [
    "predTest = predict(censustree, newdata = test)\n",
    "ROCRpredTestTree = prediction(predTest[,2], test$over50k)\n",
    "auc = as.numeric(performance(ROCRpredTestTree, \"auc\")@y.values)\n",
    "auc"
   ]
  },
  {
   "cell_type": "code",
   "execution_count": 18,
   "metadata": {},
   "outputs": [
    {
     "data": {
      "image/png": "[encoded data removed]",
      "text/plain": [
       "plot without title"
      ]
     },
     "metadata": {},
     "output_type": "display_data"
    }
   ],
   "source": [
    "ROCRperfLog = performance(ROCRpredTestLog, \"tpr\", \"fpr\")\n",
    "plot(ROCRperfLog)"
   ]
  },
  {
   "cell_type": "code",
   "execution_count": 19,
   "metadata": {},
   "outputs": [
    {
     "data": {
      "image/png": "[encoded data removed]",
      "text/plain": [
       "plot without title"
      ]
     },
     "metadata": {},
     "output_type": "display_data"
    }
   ],
   "source": [
    "ROCRperfTree = performance(ROCRpredTestTree, \"tpr\", \"fpr\")\n",
    "plot(ROCRperfTree)"
   ]
  },
  {
   "cell_type": "code",
   "execution_count": 20,
   "metadata": {},
   "outputs": [],
   "source": [
    "set.seed(1)\n",
    "trainSmall = train[sample(nrow(train), 2000), ]"
   ]
  },
  {
   "cell_type": "code",
   "execution_count": 21,
   "metadata": {},
   "outputs": [
    {
     "name": "stderr",
     "output_type": "stream",
     "text": [
      "randomForest 4.6-14\n",
      "Type rfNews() to see new features/changes/bug fixes.\n"
     ]
    }
   ],
   "source": [
    "library(randomForest)"
   ]
  },
  {
   "cell_type": "code",
   "execution_count": 22,
   "metadata": {},
   "outputs": [],
   "source": [
    "set.seed(1)\n",
    "censusForest = randomForest(over50k ~ ., data = train)"
   ]
  },
  {
   "cell_type": "code",
   "execution_count": 23,
   "metadata": {},
   "outputs": [
    {
     "data": {
      "text/plain": [
       "        PredictForest\n",
       "          <=50K  >50K\n",
       "   <=50K   9015   698\n",
       "   >50K    1019  2059"
      ]
     },
     "metadata": {},
     "output_type": "display_data"
    }
   ],
   "source": [
    "PredictForest = predict(censusForest, newdata = test)\n",
    "table(test$over50k, PredictForest)"
   ]
  },
  {
   "cell_type": "code",
   "execution_count": 24,
   "metadata": {},
   "outputs": [
    {
     "data": {
      "text/html": [
       "0.865764991009303"
      ],
      "text/latex": [
       "0.865764991009303"
      ],
      "text/markdown": [
       "0.865764991009303"
      ],
      "text/plain": [
       "[1] 0.865765"
      ]
     },
     "metadata": {},
     "output_type": "display_data"
    }
   ],
   "source": [
    "acc = (9015 + 2059)/nrow(test)\n",
    "acc"
   ]
  },
  {
   "cell_type": "code",
   "execution_count": 25,
   "metadata": {},
   "outputs": [
    {
     "data": {
      "image/png": "[encoded data removed]",
      "text/plain": [
       "plot without title"
      ]
     },
     "metadata": {},
     "output_type": "display_data"
    }
   ],
   "source": [
    "vu = varUsed(censusForest, count=TRUE)\n",
    "vusorted = sort(vu, decreasing = FALSE, index.return = TRUE)\n",
    "dotchart(vusorted$x, names(censusForest$forest$xlevels[vusorted$ix]))"
   ]
  },
  {
   "cell_type": "code",
   "execution_count": 26,
   "metadata": {},
   "outputs": [
    {
     "data": {
      "image/png": "[encoded data removed]",
      "text/plain": [
       "Plot with title “censusForest”"
      ]
     },
     "metadata": {},
     "output_type": "display_data"
    }
   ],
   "source": [
    "varImpPlot(censusForest)"
   ]
  },
  {
   "cell_type": "code",
   "execution_count": 29,
   "metadata": {},
   "outputs": [
    {
     "name": "stderr",
     "output_type": "stream",
     "text": [
      "Loading required package: lattice\n",
      "Loading required package: ggplot2\n",
      "\n",
      "Attaching package: ‘ggplot2’\n",
      "\n",
      "The following object is masked from ‘package:randomForest’:\n",
      "\n",
      "    margin\n",
      "\n"
     ]
    }
   ],
   "source": [
    "library(caret)\n",
    "library(e1071)"
   ]
  },
  {
   "cell_type": "code",
   "execution_count": 31,
   "metadata": {
    "scrolled": true
   },
   "outputs": [
    {
     "data": {
      "text/plain": [
       "CART \n",
       "\n",
       "19187 samples\n",
       "   12 predictor\n",
       "    2 classes: ' <=50K', ' >50K' \n",
       "\n",
       "No pre-processing\n",
       "Resampling: Cross-Validated (10 fold) \n",
       "Summary of sample sizes: 17268, 17268, 17269, 17269, 17269, 17268, ... \n",
       "Resampling results across tuning parameters:\n",
       "\n",
       "  cp     Accuracy   Kappa     \n",
       "  0.002  0.8510972  0.55404931\n",
       "  0.004  0.8482829  0.55537475\n",
       "  0.006  0.8452078  0.53914084\n",
       "  0.008  0.8442176  0.53817486\n",
       "  0.010  0.8433317  0.53305978\n",
       "  0.012  0.8433317  0.53305978\n",
       "  0.014  0.8433317  0.53305978\n",
       "  0.016  0.8413510  0.52349296\n",
       "  0.018  0.8400480  0.51528594\n",
       "  0.020  0.8381193  0.50351272\n",
       "  0.022  0.8381193  0.50351272\n",
       "  0.024  0.8381193  0.50351272\n",
       "  0.026  0.8381193  0.50351272\n",
       "  0.028  0.8381193  0.50351272\n",
       "  0.030  0.8381193  0.50351272\n",
       "  0.032  0.8381193  0.50351272\n",
       "  0.034  0.8352011  0.48749911\n",
       "  0.036  0.8326470  0.47340390\n",
       "  0.038  0.8267570  0.44688035\n",
       "  0.040  0.8248289  0.43893150\n",
       "  0.042  0.8248289  0.43893150\n",
       "  0.044  0.8248289  0.43893150\n",
       "  0.046  0.8248289  0.43893150\n",
       "  0.048  0.8248289  0.43893150\n",
       "  0.050  0.8231084  0.42467058\n",
       "  0.052  0.8174798  0.37478096\n",
       "  0.054  0.8138837  0.33679015\n",
       "  0.056  0.8118514  0.30751485\n",
       "  0.058  0.8118514  0.30751485\n",
       "  0.060  0.8118514  0.30751485\n",
       "  0.062  0.8118514  0.30751485\n",
       "  0.064  0.8118514  0.30751485\n",
       "  0.066  0.8099233  0.29697206\n",
       "  0.068  0.7971025  0.22226318\n",
       "  0.070  0.7958512  0.21465656\n",
       "  0.072  0.7958512  0.21465656\n",
       "  0.074  0.7958512  0.21465656\n",
       "  0.076  0.7689601  0.05701508\n",
       "  0.078  0.7593684  0.00000000\n",
       "  0.080  0.7593684  0.00000000\n",
       "  0.082  0.7593684  0.00000000\n",
       "  0.084  0.7593684  0.00000000\n",
       "  0.086  0.7593684  0.00000000\n",
       "  0.088  0.7593684  0.00000000\n",
       "  0.090  0.7593684  0.00000000\n",
       "  0.092  0.7593684  0.00000000\n",
       "  0.094  0.7593684  0.00000000\n",
       "  0.096  0.7593684  0.00000000\n",
       "  0.098  0.7593684  0.00000000\n",
       "  0.100  0.7593684  0.00000000\n",
       "\n",
       "Accuracy was used to select the optimal model using the largest value.\n",
       "The final value used for the model was cp = 0.002."
      ]
     },
     "metadata": {},
     "output_type": "display_data"
    }
   ],
   "source": [
    "set.seed(2)\n",
    "numFolds = trainControl(method = \"cv\", number = 10)\n",
    "cartGrid = expand.grid( .cp = seq(0.002,0.1,0.002))\n",
    "train(over50k ~. , method = \"rpart\", data = train, trControl = numFolds, tuneGrid = cartGrid)"
   ]
  },
  {
   "cell_type": "code",
   "execution_count": 33,
   "metadata": {},
   "outputs": [
    {
     "data": {
      "text/plain": [
       "        predcv\n",
       "          <=50K  >50K\n",
       "   <=50K   9178   535\n",
       "   >50K    1240  1838"
      ]
     },
     "metadata": {},
     "output_type": "display_data"
    }
   ],
   "source": [
    "censustreecv = rpart(over50k ~., data = train, method = \"class\", cp = 0.002)\n",
    "predcv = predict(censustreecv, newdata = test, type = \"class\")\n",
    "table(test$over50k, predcv)"
   ]
  },
  {
   "cell_type": "code",
   "execution_count": 35,
   "metadata": {},
   "outputs": [
    {
     "data": {
      "text/html": [
       "0.86123055273239"
      ],
      "text/latex": [
       "0.86123055273239"
      ],
      "text/markdown": [
       "0.86123055273239"
      ],
      "text/plain": [
       "[1] 0.8612306"
      ]
     },
     "metadata": {},
     "output_type": "display_data"
    }
   ],
   "source": [
    "acc = (9178 + 1838)/nrow(test)\n",
    "acc"
   ]
  },
  {
   "cell_type": "code",
   "execution_count": 36,
   "metadata": {},
   "outputs": [
    {
     "data": {
      "image/png": "[encoded data removed]",
      "text/plain": [
       "plot without title"
      ]
     },
     "metadata": {},
     "output_type": "display_data"
    }
   ],
   "source": [
    "prp(censustreecv)"
   ]
  },
  {
   "cell_type": "code",
   "execution_count": null,
   "metadata": {},
   "outputs": [],
   "source": []
  }
 ],
 "metadata": {
  "kernelspec": {
   "display_name": "R",
   "language": "R",
   "name": "ir"
  },
  "language_info": {
   "codemirror_mode": "r",
   "file_extension": ".r",
   "mimetype": "text/x-r-source",
   "name": "R",
   "pygments_lexer": "r",
   "version": "3.5.0"
  }
 },
 "nbformat": 4,
 "nbformat_minor": 2
}
