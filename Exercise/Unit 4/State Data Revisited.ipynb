{
 "cells": [
  {
   "cell_type": "code",
   "execution_count": 1,
   "metadata": {},
   "outputs": [],
   "source": [
    "setwd(\"/home/victor/OneDrive/Online Courses/MITx 15.071x The Analytics Edge\")"
   ]
  },
  {
   "cell_type": "code",
   "execution_count": 2,
   "metadata": {},
   "outputs": [
    {
     "name": "stdout",
     "output_type": "stream",
     "text": [
      "'data.frame':\t50 obs. of  8 variables:\n",
      " $ Population: num  3615 365 2212 2110 21198 ...\n",
      " $ Income    : num  3624 6315 4530 3378 5114 ...\n",
      " $ Illiteracy: num  2.1 1.5 1.8 1.9 1.1 0.7 1.1 0.9 1.3 2 ...\n",
      " $ Life.Exp  : num  69 69.3 70.5 70.7 71.7 ...\n",
      " $ Murder    : num  15.1 11.3 7.8 10.1 10.3 6.8 3.1 6.2 10.7 13.9 ...\n",
      " $ HS.Grad   : num  41.3 66.7 58.1 39.9 62.6 63.9 56 54.6 52.6 40.6 ...\n",
      " $ Frost     : num  20 152 15 65 20 166 139 103 11 60 ...\n",
      " $ Area      : num  50708 566432 113417 51945 156361 ...\n"
     ]
    }
   ],
   "source": [
    "data(state)\n",
    "statedata = data.frame(state.x77)\n",
    "str(statedata)"
   ]
  },
  {
   "cell_type": "code",
   "execution_count": 4,
   "metadata": {},
   "outputs": [
    {
     "data": {
      "text/plain": [
       "\n",
       "Call:\n",
       "lm(formula = Life.Exp ~ ., data = statedata)\n",
       "\n",
       "Residuals:\n",
       "     Min       1Q   Median       3Q      Max \n",
       "-1.48895 -0.51232 -0.02747  0.57002  1.49447 \n",
       "\n",
       "Coefficients:\n",
       "              Estimate Std. Error t value Pr(>|t|)    \n",
       "(Intercept)  7.094e+01  1.748e+00  40.586  < 2e-16 ***\n",
       "Population   5.180e-05  2.919e-05   1.775   0.0832 .  \n",
       "Income      -2.180e-05  2.444e-04  -0.089   0.9293    \n",
       "Illiteracy   3.382e-02  3.663e-01   0.092   0.9269    \n",
       "Murder      -3.011e-01  4.662e-02  -6.459 8.68e-08 ***\n",
       "HS.Grad      4.893e-02  2.332e-02   2.098   0.0420 *  \n",
       "Frost       -5.735e-03  3.143e-03  -1.825   0.0752 .  \n",
       "Area        -7.383e-08  1.668e-06  -0.044   0.9649    \n",
       "---\n",
       "Signif. codes:  0 ‘***’ 0.001 ‘**’ 0.01 ‘*’ 0.05 ‘.’ 0.1 ‘ ’ 1\n",
       "\n",
       "Residual standard error: 0.7448 on 42 degrees of freedom\n",
       "Multiple R-squared:  0.7362,\tAdjusted R-squared:  0.6922 \n",
       "F-statistic: 16.74 on 7 and 42 DF,  p-value: 2.534e-10\n"
      ]
     },
     "metadata": {},
     "output_type": "display_data"
    }
   ],
   "source": [
    "stateLm = lm(Life.Exp ~ ., data = statedata)\n",
    "summary(stateLm)"
   ]
  },
  {
   "cell_type": "code",
   "execution_count": 6,
   "metadata": {},
   "outputs": [
    {
     "data": {
      "text/html": [
       "23.2971381392999"
      ],
      "text/latex": [
       "23.2971381392999"
      ],
      "text/markdown": [
       "23.2971381392999"
      ],
      "text/plain": [
       "[1] 23.29714"
      ]
     },
     "metadata": {},
     "output_type": "display_data"
    }
   ],
   "source": [
    "pred = predict(stateLm)\n",
    "SSE = sum((pred - statedata$Life.Exp)^2)\n",
    "SSE"
   ]
  },
  {
   "cell_type": "code",
   "execution_count": 7,
   "metadata": {},
   "outputs": [],
   "source": [
    "#sum(RegModel$residuals^2)"
   ]
  },
  {
   "cell_type": "code",
   "execution_count": 8,
   "metadata": {},
   "outputs": [
    {
     "data": {
      "text/plain": [
       "\n",
       "Call:\n",
       "lm(formula = Life.Exp ~ Population + Murder + Frost + HS.Grad, \n",
       "    data = statedata)\n",
       "\n",
       "Residuals:\n",
       "     Min       1Q   Median       3Q      Max \n",
       "-1.47095 -0.53464 -0.03701  0.57621  1.50683 \n",
       "\n",
       "Coefficients:\n",
       "              Estimate Std. Error t value Pr(>|t|)    \n",
       "(Intercept)  7.103e+01  9.529e-01  74.542  < 2e-16 ***\n",
       "Population   5.014e-05  2.512e-05   1.996  0.05201 .  \n",
       "Murder      -3.001e-01  3.661e-02  -8.199 1.77e-10 ***\n",
       "Frost       -5.943e-03  2.421e-03  -2.455  0.01802 *  \n",
       "HS.Grad      4.658e-02  1.483e-02   3.142  0.00297 ** \n",
       "---\n",
       "Signif. codes:  0 ‘***’ 0.001 ‘**’ 0.01 ‘*’ 0.05 ‘.’ 0.1 ‘ ’ 1\n",
       "\n",
       "Residual standard error: 0.7197 on 45 degrees of freedom\n",
       "Multiple R-squared:  0.736,\tAdjusted R-squared:  0.7126 \n",
       "F-statistic: 31.37 on 4 and 45 DF,  p-value: 1.696e-12\n"
      ]
     },
     "metadata": {},
     "output_type": "display_data"
    }
   ],
   "source": [
    "stateLm2 = lm(Life.Exp ~  Population + Murder + Frost + HS.Grad, data = statedata)\n",
    "summary(stateLm2)"
   ]
  },
  {
   "cell_type": "code",
   "execution_count": 11,
   "metadata": {},
   "outputs": [
    {
     "data": {
      "text/html": [
       "23.3080427968843"
      ],
      "text/latex": [
       "23.3080427968843"
      ],
      "text/markdown": [
       "23.3080427968843"
      ],
      "text/plain": [
       "[1] 23.30804"
      ]
     },
     "metadata": {},
     "output_type": "display_data"
    }
   ],
   "source": [
    "sum(stateLm2$residuals^2)"
   ]
  },
  {
   "cell_type": "code",
   "execution_count": 12,
   "metadata": {},
   "outputs": [
    {
     "data": {
      "text/html": [
       "<table>\n",
       "<thead><tr><th></th><th scope=col>Population</th><th scope=col>Income</th><th scope=col>Illiteracy</th><th scope=col>Life.Exp</th><th scope=col>Murder</th><th scope=col>HS.Grad</th><th scope=col>Frost</th><th scope=col>Area</th></tr></thead>\n",
       "<tbody>\n",
       "\t<tr><th scope=row>Population</th><td> 1.00000000</td><td> 0.2082276 </td><td> 0.10762237</td><td>-0.06805195</td><td> 0.3436428 </td><td>-0.09848975</td><td>-0.3321525 </td><td> 0.02254384</td></tr>\n",
       "\t<tr><th scope=row>Income</th><td> 0.20822756</td><td> 1.0000000 </td><td>-0.43707519</td><td> 0.34025534</td><td>-0.2300776 </td><td> 0.61993232</td><td> 0.2262822 </td><td> 0.36331544</td></tr>\n",
       "\t<tr><th scope=row>Illiteracy</th><td> 0.10762237</td><td>-0.4370752 </td><td> 1.00000000</td><td>-0.58847793</td><td> 0.7029752 </td><td>-0.65718861</td><td>-0.6719470 </td><td> 0.07726113</td></tr>\n",
       "\t<tr><th scope=row>Life.Exp</th><td>-0.06805195</td><td> 0.3402553 </td><td>-0.58847793</td><td> 1.00000000</td><td>-0.7808458 </td><td> 0.58221620</td><td> 0.2620680 </td><td>-0.10733194</td></tr>\n",
       "\t<tr><th scope=row>Murder</th><td> 0.34364275</td><td>-0.2300776 </td><td> 0.70297520</td><td>-0.78084575</td><td> 1.0000000 </td><td>-0.48797102</td><td>-0.5388834 </td><td> 0.22839021</td></tr>\n",
       "\t<tr><th scope=row>HS.Grad</th><td>-0.09848975</td><td> 0.6199323 </td><td>-0.65718861</td><td> 0.58221620</td><td>-0.4879710 </td><td> 1.00000000</td><td> 0.3667797 </td><td> 0.33354187</td></tr>\n",
       "\t<tr><th scope=row>Frost</th><td>-0.33215245</td><td> 0.2262822 </td><td>-0.67194697</td><td> 0.26206801</td><td>-0.5388834 </td><td> 0.36677970</td><td> 1.0000000 </td><td> 0.05922910</td></tr>\n",
       "\t<tr><th scope=row>Area</th><td> 0.02254384</td><td> 0.3633154 </td><td> 0.07726113</td><td>-0.10733194</td><td> 0.2283902 </td><td> 0.33354187</td><td> 0.0592291 </td><td> 1.00000000</td></tr>\n",
       "</tbody>\n",
       "</table>\n"
      ],
      "text/latex": [
       "\\begin{tabular}{r|llllllll}\n",
       "  & Population & Income & Illiteracy & Life.Exp & Murder & HS.Grad & Frost & Area\\\\\n",
       "\\hline\n",
       "\tPopulation &  1.00000000 &  0.2082276  &  0.10762237 & -0.06805195 &  0.3436428  & -0.09848975 & -0.3321525  &  0.02254384\\\\\n",
       "\tIncome &  0.20822756 &  1.0000000  & -0.43707519 &  0.34025534 & -0.2300776  &  0.61993232 &  0.2262822  &  0.36331544\\\\\n",
       "\tIlliteracy &  0.10762237 & -0.4370752  &  1.00000000 & -0.58847793 &  0.7029752  & -0.65718861 & -0.6719470  &  0.07726113\\\\\n",
       "\tLife.Exp & -0.06805195 &  0.3402553  & -0.58847793 &  1.00000000 & -0.7808458  &  0.58221620 &  0.2620680  & -0.10733194\\\\\n",
       "\tMurder &  0.34364275 & -0.2300776  &  0.70297520 & -0.78084575 &  1.0000000  & -0.48797102 & -0.5388834  &  0.22839021\\\\\n",
       "\tHS.Grad & -0.09848975 &  0.6199323  & -0.65718861 &  0.58221620 & -0.4879710  &  1.00000000 &  0.3667797  &  0.33354187\\\\\n",
       "\tFrost & -0.33215245 &  0.2262822  & -0.67194697 &  0.26206801 & -0.5388834  &  0.36677970 &  1.0000000  &  0.05922910\\\\\n",
       "\tArea &  0.02254384 &  0.3633154  &  0.07726113 & -0.10733194 &  0.2283902  &  0.33354187 &  0.0592291  &  1.00000000\\\\\n",
       "\\end{tabular}\n"
      ],
      "text/markdown": [
       "\n",
       "| <!--/--> | Population | Income | Illiteracy | Life.Exp | Murder | HS.Grad | Frost | Area | \n",
       "|---|---|---|---|---|---|---|---|\n",
       "| Population |  1.00000000 |  0.2082276  |  0.10762237 | -0.06805195 |  0.3436428  | -0.09848975 | -0.3321525  |  0.02254384 | \n",
       "| Income |  0.20822756 |  1.0000000  | -0.43707519 |  0.34025534 | -0.2300776  |  0.61993232 |  0.2262822  |  0.36331544 | \n",
       "| Illiteracy |  0.10762237 | -0.4370752  |  1.00000000 | -0.58847793 |  0.7029752  | -0.65718861 | -0.6719470  |  0.07726113 | \n",
       "| Life.Exp | -0.06805195 |  0.3402553  | -0.58847793 |  1.00000000 | -0.7808458  |  0.58221620 |  0.2620680  | -0.10733194 | \n",
       "| Murder |  0.34364275 | -0.2300776  |  0.70297520 | -0.78084575 |  1.0000000  | -0.48797102 | -0.5388834  |  0.22839021 | \n",
       "| HS.Grad | -0.09848975 |  0.6199323  | -0.65718861 |  0.58221620 | -0.4879710  |  1.00000000 |  0.3667797  |  0.33354187 | \n",
       "| Frost | -0.33215245 |  0.2262822  | -0.67194697 |  0.26206801 | -0.5388834  |  0.36677970 |  1.0000000  |  0.05922910 | \n",
       "| Area |  0.02254384 |  0.3633154  |  0.07726113 | -0.10733194 |  0.2283902  |  0.33354187 |  0.0592291  |  1.00000000 | \n",
       "\n",
       "\n"
      ],
      "text/plain": [
       "           Population  Income     Illiteracy  Life.Exp    Murder    \n",
       "Population  1.00000000  0.2082276  0.10762237 -0.06805195  0.3436428\n",
       "Income      0.20822756  1.0000000 -0.43707519  0.34025534 -0.2300776\n",
       "Illiteracy  0.10762237 -0.4370752  1.00000000 -0.58847793  0.7029752\n",
       "Life.Exp   -0.06805195  0.3402553 -0.58847793  1.00000000 -0.7808458\n",
       "Murder      0.34364275 -0.2300776  0.70297520 -0.78084575  1.0000000\n",
       "HS.Grad    -0.09848975  0.6199323 -0.65718861  0.58221620 -0.4879710\n",
       "Frost      -0.33215245  0.2262822 -0.67194697  0.26206801 -0.5388834\n",
       "Area        0.02254384  0.3633154  0.07726113 -0.10733194  0.2283902\n",
       "           HS.Grad     Frost      Area       \n",
       "Population -0.09848975 -0.3321525  0.02254384\n",
       "Income      0.61993232  0.2262822  0.36331544\n",
       "Illiteracy -0.65718861 -0.6719470  0.07726113\n",
       "Life.Exp    0.58221620  0.2620680 -0.10733194\n",
       "Murder     -0.48797102 -0.5388834  0.22839021\n",
       "HS.Grad     1.00000000  0.3667797  0.33354187\n",
       "Frost       0.36677970  1.0000000  0.05922910\n",
       "Area        0.33354187  0.0592291  1.00000000"
      ]
     },
     "metadata": {},
     "output_type": "display_data"
    }
   ],
   "source": [
    "cor(statedata)"
   ]
  },
  {
   "cell_type": "code",
   "execution_count": 13,
   "metadata": {},
   "outputs": [],
   "source": [
    "library(rpart)\n",
    "library(rpart.plot)"
   ]
  },
  {
   "cell_type": "code",
   "execution_count": 20,
   "metadata": {},
   "outputs": [
    {
     "data": {
      "image/png": "[encoded data removed]",
      "text/plain": [
       "plot without title"
      ]
     },
     "metadata": {},
     "output_type": "display_data"
    }
   ],
   "source": [
    "stateCART = rpart(Life.Exp ~  ., data = statedata)\n",
    "prp(stateCART)"
   ]
  },
  {
   "cell_type": "code",
   "execution_count": 22,
   "metadata": {},
   "outputs": [
    {
     "data": {
      "text/html": [
       "28.998476622807"
      ],
      "text/latex": [
       "28.998476622807"
      ],
      "text/markdown": [
       "28.998476622807"
      ],
      "text/plain": [
       "[1] 28.99848"
      ]
     },
     "metadata": {},
     "output_type": "display_data"
    }
   ],
   "source": [
    "pred = predict(stateCART)\n",
    "SSE = sum((pred - statedata$Life.Exp)^2)\n",
    "SSE"
   ]
  },
  {
   "cell_type": "code",
   "execution_count": 25,
   "metadata": {},
   "outputs": [
    {
     "data": {
      "image/png": "[encoded data removed]",
      "text/plain": [
       "plot without title"
      ]
     },
     "metadata": {},
     "output_type": "display_data"
    }
   ],
   "source": [
    "stateCART2 = rpart(Life.Exp ~  ., data = statedata, minbucket = 5)\n",
    "prp(stateCART2)"
   ]
  },
  {
   "cell_type": "code",
   "execution_count": 26,
   "metadata": {},
   "outputs": [
    {
     "data": {
      "text/html": [
       "23.6428282692308"
      ],
      "text/latex": [
       "23.6428282692308"
      ],
      "text/markdown": [
       "23.6428282692308"
      ],
      "text/plain": [
       "[1] 23.64283"
      ]
     },
     "metadata": {},
     "output_type": "display_data"
    }
   ],
   "source": [
    "pred2 = predict(stateCART2)\n",
    "SSE2 = sum((pred2 - statedata$Life.Exp)^2)\n",
    "SSE2"
   ]
  },
  {
   "cell_type": "code",
   "execution_count": 27,
   "metadata": {},
   "outputs": [
    {
     "data": {
      "image/png": "[encoded data removed]",
      "text/plain": [
       "plot without title"
      ]
     },
     "metadata": {},
     "output_type": "display_data"
    }
   ],
   "source": [
    "stateCART3 = rpart(Life.Exp ~  Area, data = statedata, minbucket = 1)\n",
    "prp(stateCART3)"
   ]
  },
  {
   "cell_type": "code",
   "execution_count": 28,
   "metadata": {},
   "outputs": [
    {
     "data": {
      "text/html": [
       "9.31244166666664"
      ],
      "text/latex": [
       "9.31244166666664"
      ],
      "text/markdown": [
       "9.31244166666664"
      ],
      "text/plain": [
       "[1] 9.312442"
      ]
     },
     "metadata": {},
     "output_type": "display_data"
    }
   ],
   "source": [
    "pred3 = predict(stateCART3)\n",
    "SSE3 = sum((pred3 - statedata$Life.Exp)^2)\n",
    "SSE3"
   ]
  },
  {
   "cell_type": "code",
   "execution_count": 29,
   "metadata": {},
   "outputs": [
    {
     "name": "stderr",
     "output_type": "stream",
     "text": [
      "Loading required package: lattice\n",
      "Loading required package: ggplot2\n"
     ]
    }
   ],
   "source": [
    "library(caret)\n",
    "library(e1071)"
   ]
  },
  {
   "cell_type": "code",
   "execution_count": 30,
   "metadata": {},
   "outputs": [
    {
     "name": "stderr",
     "output_type": "stream",
     "text": [
      "Warning message in nominalTrainWorkflow(x = x, y = y, wts = weights, info = trainInfo, :\n",
      "“There were missing values in resampled performance measures.”"
     ]
    },
    {
     "data": {
      "text/plain": [
       "CART \n",
       "\n",
       "50 samples\n",
       " 7 predictor\n",
       "\n",
       "No pre-processing\n",
       "Resampling: Cross-Validated (10 fold) \n",
       "Summary of sample sizes: 46, 45, 44, 43, 46, 46, ... \n",
       "Resampling results across tuning parameters:\n",
       "\n",
       "  cp    RMSE       Rsquared   MAE      \n",
       "  0.01  1.1375138  0.4734757  0.9362281\n",
       "  0.02  1.1375138  0.4734757  0.9362281\n",
       "  0.03  1.1375138  0.4734757  0.9362281\n",
       "  0.04  1.1231367  0.4734757  0.9286572\n",
       "  0.05  1.0817092  0.4923520  0.8907357\n",
       "  0.06  1.0709561  0.4923520  0.8822194\n",
       "  0.07  1.0149896  0.5275358  0.8371557\n",
       "  0.08  0.9933235  0.5436269  0.8117516\n",
       "  0.09  0.9933235  0.5436269  0.8117516\n",
       "  0.10  0.9933235  0.5436269  0.8117516\n",
       "  0.11  0.9933235  0.5436269  0.8117516\n",
       "  0.12  0.9933235  0.5436269  0.8117516\n",
       "  0.13  1.0568377  0.4988101  0.8515894\n",
       "  0.14  1.1221457  0.4758470  0.8944743\n",
       "  0.15  1.1399888  0.4642198  0.9140933\n",
       "  0.16  1.1244999  0.4642198  0.8983067\n",
       "  0.17  1.1244999  0.4642198  0.8983067\n",
       "  0.18  1.1463316  0.4642198  0.9112852\n",
       "  0.19  1.1463316  0.4642198  0.9112852\n",
       "  0.20  1.1463316  0.4642198  0.9112852\n",
       "  0.21  1.1463316  0.4642198  0.9112852\n",
       "  0.22  1.1636884  0.4527311  0.9468219\n",
       "  0.23  1.1636884  0.4527311  0.9468219\n",
       "  0.24  1.1636884  0.4527311  0.9468219\n",
       "  0.25  1.1636884  0.4527311  0.9468219\n",
       "  0.26  1.1636884  0.4527311  0.9468219\n",
       "  0.27  1.1636884  0.4527311  0.9468219\n",
       "  0.28  1.1636884  0.4527311  0.9468219\n",
       "  0.29  1.1636884  0.4527311  0.9468219\n",
       "  0.30  1.1636884  0.4527311  0.9468219\n",
       "  0.31  1.1636884  0.4527311  0.9468219\n",
       "  0.32  1.1636884  0.4527311  0.9468219\n",
       "  0.33  1.1636884  0.4527311  0.9468219\n",
       "  0.34  1.1636884  0.4527311  0.9468219\n",
       "  0.35  1.1636884  0.4527311  0.9468219\n",
       "  0.36  1.1636884  0.4527311  0.9468219\n",
       "  0.37  1.1636884  0.4527311  0.9468219\n",
       "  0.38  1.1636884  0.4527311  0.9468219\n",
       "  0.39  1.1636884  0.4527311  0.9468219\n",
       "  0.40  1.1636884  0.4527311  0.9468219\n",
       "  0.41  1.1636884  0.4527311  0.9468219\n",
       "  0.42  1.1636884  0.4527311  0.9468219\n",
       "  0.43  1.1636884  0.4527311  0.9468219\n",
       "  0.44  1.1636884  0.4527311  0.9468219\n",
       "  0.45  1.1636884  0.4527311  0.9468219\n",
       "  0.46  1.2203897  0.4201907  0.9944414\n",
       "  0.47  1.3782050  0.2554142  1.1446881\n",
       "  0.48  1.4203510  0.1945662  1.1636157\n",
       "  0.49  1.4376198  0.1194860  1.1863268\n",
       "  0.50  1.4402764  0.1194860  1.1910118\n",
       "\n",
       "RMSE was used to select the optimal model using the smallest value.\n",
       "The final value used for the model was cp = 0.12."
      ]
     },
     "metadata": {},
     "output_type": "display_data"
    }
   ],
   "source": [
    "set.seed(111)\n",
    "numFolds = trainControl(method = \"cv\", number = 10)\n",
    "cartGrid = expand.grid( .cp = seq(0.01,0.50,0.01))\n",
    "train(Life.Exp ~. , method = \"rpart\", data = statedata, trControl = numFolds, tuneGrid = cartGrid)"
   ]
  },
  {
   "cell_type": "code",
   "execution_count": 31,
   "metadata": {},
   "outputs": [
    {
     "data": {
      "image/png": "[encoded data removed]",
      "text/plain": [
       "plot without title"
      ]
     },
     "metadata": {},
     "output_type": "display_data"
    }
   ],
   "source": [
    "stateCARTcv = rpart(Life.Exp ~  ., data = statedata, cp = 0.12)\n",
    "prp(stateCARTcv)"
   ]
  },
  {
   "cell_type": "code",
   "execution_count": 32,
   "metadata": {},
   "outputs": [
    {
     "data": {
      "text/html": [
       "32.8654897025171"
      ],
      "text/latex": [
       "32.8654897025171"
      ],
      "text/markdown": [
       "32.8654897025171"
      ],
      "text/plain": [
       "[1] 32.86549"
      ]
     },
     "metadata": {},
     "output_type": "display_data"
    }
   ],
   "source": [
    "predcv = predict(stateCARTcv)\n",
    "SSEcv = sum((predcv - statedata$Life.Exp)^2)\n",
    "SSEcv"
   ]
  },
  {
   "cell_type": "code",
   "execution_count": 33,
   "metadata": {},
   "outputs": [
    {
     "name": "stderr",
     "output_type": "stream",
     "text": [
      "Warning message in nominalTrainWorkflow(x = x, y = y, wts = weights, info = trainInfo, :\n",
      "“There were missing values in resampled performance measures.”"
     ]
    },
    {
     "data": {
      "text/plain": [
       "CART \n",
       "\n",
       "50 samples\n",
       " 1 predictor\n",
       "\n",
       "No pre-processing\n",
       "Resampling: Cross-Validated (10 fold) \n",
       "Summary of sample sizes: 46, 45, 44, 43, 46, 46, ... \n",
       "Resampling results across tuning parameters:\n",
       "\n",
       "  cp    RMSE      Rsquared    MAE     \n",
       "  0.01  1.231586  0.39845523  1.006585\n",
       "  0.02  1.243748  0.38909431  1.016449\n",
       "  0.03  1.243748  0.38909431  1.016449\n",
       "  0.04  1.246020  0.38659302  1.020503\n",
       "  0.05  1.246020  0.38659302  1.020503\n",
       "  0.06  1.257693  0.38542329  1.028342\n",
       "  0.07  1.284635  0.37765344  1.063739\n",
       "  0.08  1.295051  0.36309730  1.080484\n",
       "  0.09  1.295051  0.36309730  1.080484\n",
       "  0.10  1.295051  0.36309730  1.080484\n",
       "  0.11  1.393421  0.26634509  1.155116\n",
       "  0.12  1.393421  0.26634509  1.155116\n",
       "  0.13  1.393421  0.26634509  1.155116\n",
       "  0.14  1.408479  0.20191108  1.177991\n",
       "  0.15  1.391087  0.23690897  1.190359\n",
       "  0.16  1.391087  0.23690897  1.190359\n",
       "  0.17  1.368303  0.08957212  1.147769\n",
       "  0.18  1.369533  0.01795209  1.142731\n",
       "  0.19  1.356254  0.01795209  1.131768\n",
       "  0.20  1.328025         NaN  1.094530\n",
       "  0.21  1.328025         NaN  1.094530\n",
       "  0.22  1.328025         NaN  1.094530\n",
       "  0.23  1.328025         NaN  1.094530\n",
       "  0.24  1.328025         NaN  1.094530\n",
       "  0.25  1.328025         NaN  1.094530\n",
       "  0.26  1.328025         NaN  1.094530\n",
       "  0.27  1.328025         NaN  1.094530\n",
       "  0.28  1.328025         NaN  1.094530\n",
       "  0.29  1.328025         NaN  1.094530\n",
       "  0.30  1.328025         NaN  1.094530\n",
       "  0.31  1.328025         NaN  1.094530\n",
       "  0.32  1.328025         NaN  1.094530\n",
       "  0.33  1.328025         NaN  1.094530\n",
       "  0.34  1.328025         NaN  1.094530\n",
       "  0.35  1.328025         NaN  1.094530\n",
       "  0.36  1.328025         NaN  1.094530\n",
       "  0.37  1.328025         NaN  1.094530\n",
       "  0.38  1.328025         NaN  1.094530\n",
       "  0.39  1.328025         NaN  1.094530\n",
       "  0.40  1.328025         NaN  1.094530\n",
       "  0.41  1.328025         NaN  1.094530\n",
       "  0.42  1.328025         NaN  1.094530\n",
       "  0.43  1.328025         NaN  1.094530\n",
       "  0.44  1.328025         NaN  1.094530\n",
       "  0.45  1.328025         NaN  1.094530\n",
       "  0.46  1.328025         NaN  1.094530\n",
       "  0.47  1.328025         NaN  1.094530\n",
       "  0.48  1.328025         NaN  1.094530\n",
       "  0.49  1.328025         NaN  1.094530\n",
       "  0.50  1.328025         NaN  1.094530\n",
       "\n",
       "RMSE was used to select the optimal model using the smallest value.\n",
       "The final value used for the model was cp = 0.01."
      ]
     },
     "metadata": {},
     "output_type": "display_data"
    }
   ],
   "source": [
    "set.seed(111)\n",
    "numFolds = trainControl(method = \"cv\", number = 10)\n",
    "cartGrid = expand.grid( .cp = seq(0.01,0.50,0.01))\n",
    "train(Life.Exp ~ Area , method = \"rpart\", data = statedata, trControl = numFolds, tuneGrid = cartGrid)"
   ]
  },
  {
   "cell_type": "code",
   "execution_count": 34,
   "metadata": {},
   "outputs": [
    {
     "data": {
      "image/png": "[encoded data removed]",
      "text/plain": [
       "plot without title"
      ]
     },
     "metadata": {},
     "output_type": "display_data"
    }
   ],
   "source": [
    "stateCARTcv2 = rpart(Life.Exp ~  Area, data = statedata, cp = 0.01)\n",
    "prp(stateCARTcv2)"
   ]
  },
  {
   "cell_type": "code",
   "execution_count": 35,
   "metadata": {},
   "outputs": [
    {
     "data": {
      "text/html": [
       "44.2681679040403"
      ],
      "text/latex": [
       "44.2681679040403"
      ],
      "text/markdown": [
       "44.2681679040403"
      ],
      "text/plain": [
       "[1] 44.26817"
      ]
     },
     "metadata": {},
     "output_type": "display_data"
    }
   ],
   "source": [
    "predcv2 = predict(stateCARTcv2)\n",
    "SSEcv2 = sum((predcv2 - statedata$Life.Exp)^2)\n",
    "SSEcv2"
   ]
  },
  {
   "cell_type": "code",
   "execution_count": null,
   "metadata": {},
   "outputs": [],
   "source": []
  }
 ],
 "metadata": {
  "kernelspec": {
   "display_name": "R",
   "language": "R",
   "name": "ir"
  },
  "language_info": {
   "codemirror_mode": "r",
   "file_extension": ".r",
   "mimetype": "text/x-r-source",
   "name": "R",
   "pygments_lexer": "r",
   "version": "3.5.0"
  }
 },
 "nbformat": 4,
 "nbformat_minor": 2
}
