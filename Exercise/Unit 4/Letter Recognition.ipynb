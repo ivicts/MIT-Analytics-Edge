{
 "cells": [
  {
   "cell_type": "code",
   "execution_count": 1,
   "metadata": {},
   "outputs": [],
   "source": [
    "setwd(\"/home/victor/OneDrive/Online Courses/MITx 15.071x The Analytics Edge\")"
   ]
  },
  {
   "cell_type": "code",
   "execution_count": 3,
   "metadata": {},
   "outputs": [
    {
     "name": "stdout",
     "output_type": "stream",
     "text": [
      "'data.frame':\t3116 obs. of  17 variables:\n",
      " $ letter   : Factor w/ 4 levels \"A\",\"B\",\"P\",\"R\": 2 1 4 2 3 4 4 1 3 3 ...\n",
      " $ xbox     : int  4 1 5 5 3 8 2 3 8 6 ...\n",
      " $ ybox     : int  2 1 9 9 6 10 6 7 14 10 ...\n",
      " $ width    : int  5 3 5 7 4 8 4 5 7 8 ...\n",
      " $ height   : int  4 2 7 7 4 6 4 5 8 8 ...\n",
      " $ onpix    : int  4 1 6 10 2 6 3 3 4 7 ...\n",
      " $ xbar     : int  8 8 6 9 4 7 6 12 5 8 ...\n",
      " $ ybar     : int  7 2 11 8 14 7 7 2 10 5 ...\n",
      " $ x2bar    : int  6 2 7 4 8 3 5 3 6 7 ...\n",
      " $ y2bar    : int  6 2 3 4 1 5 5 2 3 5 ...\n",
      " $ xybar    : int  7 8 7 6 11 8 6 10 12 7 ...\n",
      " $ x2ybar   : int  6 2 3 8 6 4 5 2 5 6 ...\n",
      " $ xy2bar   : int  6 8 9 6 3 8 7 9 4 6 ...\n",
      " $ xedge    : int  2 1 2 6 0 6 3 2 4 3 ...\n",
      " $ xedgeycor: int  8 6 7 11 10 6 7 6 10 9 ...\n",
      " $ yedge    : int  7 2 5 8 4 7 5 3 4 8 ...\n",
      " $ yedgexcor: int  10 7 11 7 8 7 8 8 8 9 ...\n"
     ]
    }
   ],
   "source": [
    "letters = read.csv(\"Unit4/Unit4/letters_ABPR.csv\")\n",
    "str(letters)"
   ]
  },
  {
   "cell_type": "code",
   "execution_count": 4,
   "metadata": {},
   "outputs": [],
   "source": [
    "letters$isB = as.factor(letters$letter == \"B\")"
   ]
  },
  {
   "cell_type": "code",
   "execution_count": 8,
   "metadata": {},
   "outputs": [
    {
     "name": "stdout",
     "output_type": "stream",
     "text": [
      "'data.frame':\t1558 obs. of  18 variables:\n",
      " $ letter   : Factor w/ 4 levels \"A\",\"B\",\"P\",\"R\": 1 2 4 4 1 3 2 3 1 3 ...\n",
      " $ xbox     : int  1 5 8 2 3 6 5 7 2 6 ...\n",
      " $ ybox     : int  1 9 10 6 7 10 9 11 8 10 ...\n",
      " $ width    : int  3 7 8 4 5 8 7 10 4 6 ...\n",
      " $ height   : int  2 7 6 4 5 8 7 8 6 6 ...\n",
      " $ onpix    : int  1 10 6 3 3 7 7 6 2 4 ...\n",
      " $ xbar     : int  8 9 7 6 12 8 8 6 12 7 ...\n",
      " $ ybar     : int  2 8 7 7 2 5 8 11 2 10 ...\n",
      " $ x2bar    : int  2 4 3 5 3 7 3 3 4 5 ...\n",
      " $ y2bar    : int  2 4 5 5 2 5 6 6 3 2 ...\n",
      " $ xybar    : int  8 6 8 6 10 7 10 13 11 11 ...\n",
      " $ x2ybar   : int  2 8 4 5 2 6 5 6 2 5 ...\n",
      " $ xy2bar   : int  8 6 8 7 9 6 6 3 10 4 ...\n",
      " $ xedge    : int  1 6 6 3 2 3 3 0 3 4 ...\n",
      " $ xedgeycor: int  6 11 6 7 6 9 7 10 6 11 ...\n",
      " $ yedge    : int  2 8 7 5 3 8 6 3 3 5 ...\n",
      " $ yedgexcor: int  7 7 7 8 8 9 8 8 9 7 ...\n",
      " $ isB      : Factor w/ 2 levels \"FALSE\",\"TRUE\": 1 2 1 1 1 1 2 1 1 1 ...\n"
     ]
    },
    {
     "data": {
      "text/plain": [
       "\n",
       "FALSE  TRUE \n",
       " 1175   383 "
      ]
     },
     "metadata": {},
     "output_type": "display_data"
    }
   ],
   "source": [
    "library(caTools)\n",
    "set.seed(1000)\n",
    "spl = sample.split(letters$isB, SplitRatio = 0.5)\n",
    "train = subset(letters, spl == TRUE)\n",
    "test = subset(letters, spl == FALSE)\n",
    "str(test)\n",
    "table(test$isB)"
   ]
  },
  {
   "cell_type": "code",
   "execution_count": 7,
   "metadata": {},
   "outputs": [
    {
     "data": {
      "text/html": [
       "0.754172015404365"
      ],
      "text/latex": [
       "0.754172015404365"
      ],
      "text/markdown": [
       "0.754172015404365"
      ],
      "text/plain": [
       "[1] 0.754172"
      ]
     },
     "metadata": {},
     "output_type": "display_data"
    }
   ],
   "source": [
    "acc = 1175/nrow(test)\n",
    "acc"
   ]
  },
  {
   "cell_type": "code",
   "execution_count": 10,
   "metadata": {},
   "outputs": [],
   "source": [
    "library(\"rpart\")\n",
    "library(\"rpart.plot\")"
   ]
  },
  {
   "cell_type": "code",
   "execution_count": 13,
   "metadata": {},
   "outputs": [
    {
     "data": {
      "text/plain": [
       "       predictions\n",
       "        FALSE TRUE\n",
       "  FALSE  1118   57\n",
       "  TRUE     43  340"
      ]
     },
     "metadata": {},
     "output_type": "display_data"
    }
   ],
   "source": [
    "CARTb = rpart(isB ~ . - letter, data=train, method=\"class\")\n",
    "predictions = predict(CARTb , newdata = test, type = \"class\")\n",
    "table(test$isB, predictions)"
   ]
  },
  {
   "cell_type": "code",
   "execution_count": 14,
   "metadata": {},
   "outputs": [
    {
     "data": {
      "text/html": [
       "0.93581514762516"
      ],
      "text/latex": [
       "0.93581514762516"
      ],
      "text/markdown": [
       "0.93581514762516"
      ],
      "text/plain": [
       "[1] 0.9358151"
      ]
     },
     "metadata": {},
     "output_type": "display_data"
    }
   ],
   "source": [
    "acc = (1118 + 340)/nrow(test)\n",
    "acc"
   ]
  },
  {
   "cell_type": "code",
   "execution_count": 15,
   "metadata": {},
   "outputs": [
    {
     "name": "stderr",
     "output_type": "stream",
     "text": [
      "randomForest 4.6-14\n",
      "Type rfNews() to see new features/changes/bug fixes.\n"
     ]
    }
   ],
   "source": [
    "library(randomForest)"
   ]
  },
  {
   "cell_type": "code",
   "execution_count": 20,
   "metadata": {},
   "outputs": [
    {
     "data": {
      "text/plain": [
       "       PredictForest\n",
       "        FALSE TRUE\n",
       "  FALSE  1163   12\n",
       "  TRUE      9  374"
      ]
     },
     "metadata": {},
     "output_type": "display_data"
    }
   ],
   "source": [
    "set.seed(1000)\n",
    "RFb = randomForest(isB ~ . - letter, data=train)\n",
    "PredictForest = predict(RFb, newdata = test)\n",
    "table(test$isB, PredictForest)"
   ]
  },
  {
   "cell_type": "code",
   "execution_count": 21,
   "metadata": {},
   "outputs": [
    {
     "data": {
      "text/html": [
       "0.989730423620026"
      ],
      "text/latex": [
       "0.989730423620026"
      ],
      "text/markdown": [
       "0.989730423620026"
      ],
      "text/plain": [
       "[1] 0.9897304"
      ]
     },
     "metadata": {},
     "output_type": "display_data"
    }
   ],
   "source": [
    "acc2 = (1166 + 376)/nrow(test)\n",
    "acc2"
   ]
  },
  {
   "cell_type": "code",
   "execution_count": 24,
   "metadata": {},
   "outputs": [
    {
     "name": "stdout",
     "output_type": "stream",
     "text": [
      "'data.frame':\t1558 obs. of  18 variables:\n",
      " $ letter   : Factor w/ 4 levels \"A\",\"B\",\"P\",\"R\": 2 4 1 3 1 4 1 1 1 2 ...\n",
      " $ xbox     : int  5 2 3 8 3 6 2 2 2 4 ...\n",
      " $ ybox     : int  9 6 7 14 8 9 1 4 8 2 ...\n",
      " $ width    : int  7 4 5 7 5 5 4 4 4 5 ...\n",
      " $ height   : int  7 4 5 8 6 4 2 3 6 4 ...\n",
      " $ onpix    : int  10 3 3 4 3 3 1 2 2 4 ...\n",
      " $ xbar     : int  9 6 12 5 9 10 8 10 12 7 ...\n",
      " $ ybar     : int  8 7 2 10 2 6 1 2 2 7 ...\n",
      " $ x2bar    : int  4 5 3 6 2 5 2 2 4 5 ...\n",
      " $ y2bar    : int  4 5 2 3 3 5 2 2 3 6 ...\n",
      " $ xybar    : int  6 6 10 12 8 10 7 9 11 7 ...\n",
      " $ x2ybar   : int  8 5 2 5 2 2 2 2 2 6 ...\n",
      " $ xy2bar   : int  6 7 9 4 8 8 8 9 10 6 ...\n",
      " $ xedge    : int  6 3 2 4 2 6 2 2 3 2 ...\n",
      " $ xedgeycor: int  11 7 6 10 6 6 5 7 6 8 ...\n",
      " $ yedge    : int  8 5 3 4 3 4 2 3 3 7 ...\n",
      " $ yedgexcor: int  7 8 8 8 7 9 7 9 9 10 ...\n",
      " $ isB      : Factor w/ 2 levels \"FALSE\",\"TRUE\": 2 1 1 1 1 1 1 1 1 2 ...\n"
     ]
    },
    {
     "data": {
      "text/plain": [
       "\n",
       "  A   B   P   R \n",
       "395 383 401 379 "
      ]
     },
     "metadata": {},
     "output_type": "display_data"
    }
   ],
   "source": [
    "letters$letter = as.factor( letters$letter )\n",
    "set.seed(2000)\n",
    "spl = sample.split(letters$letter, SplitRatio = 0.5)\n",
    "train2 = subset(letters, spl == TRUE)\n",
    "test2 = subset(letters, spl == FALSE)\n",
    "str(test2)\n",
    "table(test2$letter)"
   ]
  },
  {
   "cell_type": "code",
   "execution_count": 25,
   "metadata": {},
   "outputs": [
    {
     "data": {
      "text/html": [
       "0.257381258023107"
      ],
      "text/latex": [
       "0.257381258023107"
      ],
      "text/markdown": [
       "0.257381258023107"
      ],
      "text/plain": [
       "[1] 0.2573813"
      ]
     },
     "metadata": {},
     "output_type": "display_data"
    }
   ],
   "source": [
    "acc = 401/nrow(test2)\n",
    "acc"
   ]
  },
  {
   "cell_type": "code",
   "execution_count": 29,
   "metadata": {},
   "outputs": [
    {
     "data": {
      "text/plain": [
       "   predictLetter\n",
       "      A   B   P   R\n",
       "  A 348   4   0  43\n",
       "  B   8 318  12  45\n",
       "  P   2  21 363  15\n",
       "  R  10  24   5 340"
      ]
     },
     "metadata": {},
     "output_type": "display_data"
    }
   ],
   "source": [
    "CARTletter = rpart(letter ~ . - isB, data = train2, method = \"class\")\n",
    "predictLetter = predict(CARTletter, newdata = test2, type = \"class\")\n",
    "table(test2$letter, predictLetter)"
   ]
  },
  {
   "cell_type": "code",
   "execution_count": 30,
   "metadata": {},
   "outputs": [
    {
     "data": {
      "text/html": [
       "0.878690629011553"
      ],
      "text/latex": [
       "0.878690629011553"
      ],
      "text/markdown": [
       "0.878690629011553"
      ],
      "text/plain": [
       "[1] 0.8786906"
      ]
     },
     "metadata": {},
     "output_type": "display_data"
    }
   ],
   "source": [
    "acc2 = (348 + 318 + 363 + 340)/nrow(test2)\n",
    "acc2"
   ]
  },
  {
   "cell_type": "code",
   "execution_count": 32,
   "metadata": {},
   "outputs": [
    {
     "data": {
      "text/plain": [
       "   predictRFLetter\n",
       "      A   B   P   R\n",
       "  A 391   0   3   1\n",
       "  B   0 380   1   2\n",
       "  P   0   5 394   2\n",
       "  R   1  13   0 365"
      ]
     },
     "metadata": {},
     "output_type": "display_data"
    }
   ],
   "source": [
    "RFletter = randomForest(letter ~ . - isB, data = train2)\n",
    "predictRFLetter = predict(RFletter, newdata = test2)\n",
    "table(test2$letter, predictRFLetter)"
   ]
  },
  {
   "cell_type": "code",
   "execution_count": 34,
   "metadata": {},
   "outputs": [
    {
     "data": {
      "text/html": [
       "0.982028241335045"
      ],
      "text/latex": [
       "0.982028241335045"
      ],
      "text/markdown": [
       "0.982028241335045"
      ],
      "text/plain": [
       "[1] 0.9820282"
      ]
     },
     "metadata": {},
     "output_type": "display_data"
    }
   ],
   "source": [
    "acc3 = (391 + 380 + 394 + 365)/nrow(test2)\n",
    "acc3"
   ]
  },
  {
   "cell_type": "code",
   "execution_count": null,
   "metadata": {},
   "outputs": [],
   "source": []
  }
 ],
 "metadata": {
  "kernelspec": {
   "display_name": "R",
   "language": "R",
   "name": "ir"
  },
  "language_info": {
   "codemirror_mode": "r",
   "file_extension": ".r",
   "mimetype": "text/x-r-source",
   "name": "R",
   "pygments_lexer": "r",
   "version": "3.5.0"
  }
 },
 "nbformat": 4,
 "nbformat_minor": 2
}
